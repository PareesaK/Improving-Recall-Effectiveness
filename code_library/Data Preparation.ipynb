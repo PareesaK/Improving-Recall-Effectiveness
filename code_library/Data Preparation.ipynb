{
 "cells": [
  {
   "cell_type": "markdown",
   "id": "a038434d-cd5f-42a4-a746-c7b4edad8f4e",
   "metadata": {},
   "source": [
    "# FDA Recalls Data Preprocessing\n",
    "- This notebook preprocesses the FDA recall data to create the final dataset for modeling"
   ]
  },
  {
   "cell_type": "code",
   "execution_count": 1,
   "id": "68b3e581-e2e6-4886-8a0d-d5b5b5a2e7b0",
   "metadata": {},
   "outputs": [
    {
     "data": {
      "text/plain": [
       "True"
      ]
     },
     "execution_count": 1,
     "metadata": {},
     "output_type": "execute_result"
    }
   ],
   "source": [
    "import pandas as pd\n",
    "import numpy as np\n",
    "from datetime import datetime\n",
    "import matplotlib.pyplot as plt\n",
    "import seaborn as sns\n",
    "from sklearn.preprocessing import LabelEncoder, StandardScaler\n",
    "from sklearn.feature_extraction.text import TfidfVectorizer\n",
    "from sklearn.decomposition import TruncatedSVD\n",
    "from sklearn.feature_selection import VarianceThreshold\n",
    "from sklearn.model_selection import train_test_split\n",
    "from sklearn.ensemble import RandomForestClassifier\n",
    "from sklearn.feature_selection import RFECV\n",
    "from sklearn.metrics import roc_auc_score\n",
    "from sklearn.preprocessing import LabelEncoder\n",
    "from sklearn.preprocessing import label_binarize\n",
    "from sklearn.metrics import classification_report, accuracy_score, confusion_matrix\n",
    "from sklearn.metrics import make_scorer\n",
    "import matplotlib.pyplot as plt\n",
    "import nltk\n",
    "from nltk.corpus import stopwords\n",
    "import re\n",
    "\n",
    "# Import NLTK resources\n",
    "nltk.download('stopwords', quiet=True)"
   ]
  },
  {
   "cell_type": "code",
   "execution_count": 2,
   "id": "4ae44e9e-e8d4-4581-94e3-b94692325065",
   "metadata": {},
   "outputs": [],
   "source": [
    "# Load the data\n",
    "file_path = '../data/recalls_details.xlsx'\n",
    "df = pd.read_excel(file_path)"
   ]
  },
  {
   "cell_type": "code",
   "execution_count": 3,
   "id": "1a5aa016-7821-42db-a05d-9fd7ec3f5f5c",
   "metadata": {},
   "outputs": [
    {
     "name": "stdout",
     "output_type": "stream",
     "text": [
      "Original data shape: (95082, 17)\n",
      "\n",
      "Column names:\n",
      "['FEI Number', 'Recalling Firm Name', 'Product Type', 'Product Classification', 'Status', 'Distribution Pattern', 'Recalling Firm City', 'Recalling Firm State', 'Recalling Firm Country', 'Center Classification Date', 'Reason for Recall', 'Product Description', 'Event ID', 'Event Classification', 'Product ID', 'Center', 'Recall Details']\n"
     ]
    }
   ],
   "source": [
    "# Display basic information\n",
    "print(f\"Original data shape: {df.shape}\")\n",
    "print(\"\\nColumn names:\")\n",
    "print(df.columns.tolist())"
   ]
  },
  {
   "cell_type": "code",
   "execution_count": 4,
   "id": "be867cf2-88f8-4633-89a4-031273cad2c9",
   "metadata": {},
   "outputs": [],
   "source": [
    "# Create a copy of the original dataframe to work with\n",
    "df_processed = df.copy()"
   ]
  },
  {
   "cell_type": "markdown",
   "id": "61c34850-c08c-4a61-827b-fd99f589b6f8",
   "metadata": {},
   "source": [
    "# Step 1: Feature engineering for 'Center Classification Date'"
   ]
  },
  {
   "cell_type": "code",
   "execution_count": 5,
   "id": "8b55745d-e77e-4560-8f05-0223f698fe7e",
   "metadata": {},
   "outputs": [],
   "source": [
    "# Confirm datetime format\n",
    "df_processed['Center Classification Date'] = pd.to_datetime(df_processed['Center Classification Date'], errors='coerce')"
   ]
  },
  {
   "cell_type": "code",
   "execution_count": 6,
   "id": "f06ffed0-7ad0-49e4-81f7-29432f8c0583",
   "metadata": {},
   "outputs": [],
   "source": [
    "# Extract temporal features\n",
    "df_processed['Classification Year'] = df_processed['Center Classification Date'].dt.year\n",
    "df_processed['Classification Month'] = df_processed['Center Classification Date'].dt.month\n",
    "df_processed['Classification Day'] = df_processed['Center Classification Date'].dt.day\n",
    "df_processed['Classification DayOfWeek'] = df_processed['Center Classification Date'].dt.dayofweek"
   ]
  },
  {
   "cell_type": "markdown",
   "id": "10990933-a193-428f-852b-17365c0f7142",
   "metadata": {},
   "source": [
    "Add cyclical encoding for month, day, and day of week. Reference https://towardsdatascience.com/cyclical-encoding-an-alternative-to-one-hot-encoding-for-time-series-features-4db46248ebba/"
   ]
  },
  {
   "cell_type": "code",
   "execution_count": 7,
   "id": "c01be7c4-3a53-4f94-a316-4e5a13d51761",
   "metadata": {},
   "outputs": [],
   "source": [
    "# Month (1-12) -> sin and cos\n",
    "df_processed['Month_sin'] = np.sin(2 * np.pi * df_processed['Classification Month']/12)\n",
    "df_processed['Month_cos'] = np.cos(2 * np.pi * df_processed['Classification Month']/12)\n",
    "\n",
    "# Day (1-31) -> sin and cos\n",
    "df_processed['Day_sin'] = np.sin(2 * np.pi * df_processed['Classification Day']/31)\n",
    "df_processed['Day_cos'] = np.cos(2 * np.pi * df_processed['Classification Day']/31)\n",
    "\n",
    "# Day of week (0-6) -> sin and cos\n",
    "df_processed['DayOfWeek_sin'] = np.sin(2 * np.pi * df_processed['Classification DayOfWeek']/7)\n",
    "df_processed['DayOfWeek_cos'] = np.cos(2 * np.pi * df_processed['Classification DayOfWeek']/7)"
   ]
  },
  {
   "cell_type": "markdown",
   "id": "2157c52a-0fc9-4908-824f-f2d028c43dc3",
   "metadata": {},
   "source": [
    "Standardize year (continuous variable)"
   ]
  },
  {
   "cell_type": "code",
   "execution_count": 8,
   "id": "9bb508b2-efda-49d8-b87e-5c52b3af89a1",
   "metadata": {},
   "outputs": [],
   "source": [
    "# Create a reference to the min year to create a more interpretable \"years since\" feature\n",
    "min_year = df_processed['Classification Year'].min()\n",
    "df_processed['Years_Since_First'] = df_processed['Classification Year'] - min_year\n",
    "\n",
    "# Advanced Standardization\n",
    "year_range = df_processed['Classification Year'].max() - min_year\n",
    "if year_range > 10:\n",
    "    scaler = StandardScaler()\n",
    "    df_processed['Year_Scaled'] = scaler.fit_transform(df_processed[['Years_Since_First']])"
   ]
  },
  {
   "cell_type": "code",
   "execution_count": 9,
   "id": "b2c23347-75df-4692-bcfb-c782cfa9ab0f",
   "metadata": {},
   "outputs": [],
   "source": [
    "# Drop original temporal columns after creating transformed versions\n",
    "df_processed = df_processed.drop(columns=['Classification Month', \n",
    "                                         'Classification Day',\n",
    "                                         'Classification DayOfWeek',\n",
    "                                         'Classification Year'])"
   ]
  },
  {
   "cell_type": "markdown",
   "id": "eed9a1e8-8e8d-42f7-af67-9be8959a2303",
   "metadata": {},
   "source": [
    "# Step 2: Verify relationship between Center and Product Type"
   ]
  },
  {
   "cell_type": "code",
   "execution_count": 10,
   "id": "39ec4147-a480-4956-8dd6-377ae8ef481c",
   "metadata": {},
   "outputs": [
    {
     "name": "stdout",
     "output_type": "stream",
     "text": [
      "\n",
      "Crosstab of Center vs Product Type (from original data):\n",
      "Product Type  Biologics  Devices  Drugs  Food/Cosmetics  Tobacco  Veterinary\n",
      "Center                                                                      \n",
      "CBER              12051        0      0               0        0           0\n",
      "CDER                  0        0  16702               0        0           0\n",
      "CDRH                  0    35475      0               0        0           0\n",
      "CFSAN                 0        0      0           27435        0           0\n",
      "CTP                   0        0      0               0        9           0\n",
      "CVM                   0        0      0               0        0        3410\n"
     ]
    }
   ],
   "source": [
    "center_product_crosstab = pd.crosstab(df['Center'], df['Product Type'])\n",
    "print(\"\\nCrosstab of Center vs Product Type (from original data):\")\n",
    "print(center_product_crosstab)"
   ]
  },
  {
   "cell_type": "markdown",
   "id": "7d1ccd22-3697-461e-9705-13a718bf4037",
   "metadata": {},
   "source": [
    "# Step 3: Feature engineering for 'Recalling Firm Name' and 'Distribution Pattern'"
   ]
  },
  {
   "cell_type": "code",
   "execution_count": 11,
   "id": "e115bf04-5ca6-4948-889f-d7f09e0b2ef3",
   "metadata": {},
   "outputs": [
    {
     "name": "stdout",
     "output_type": "stream",
     "text": [
      "Cardinality of 'Recalling Firm Name': 9927\n",
      "Cardinality of 'Distribution Pattern': 20312\n"
     ]
    }
   ],
   "source": [
    "# Check cardinality\n",
    "print(f\"Cardinality of 'Recalling Firm Name': {df_processed['Recalling Firm Name'].nunique()}\")\n",
    "print(f\"Cardinality of 'Distribution Pattern': {df_processed['Distribution Pattern'].nunique()}\")"
   ]
  },
  {
   "cell_type": "markdown",
   "id": "e29af832-4838-439d-995f-7366572b8d4b",
   "metadata": {},
   "source": [
    "Frequency-based encoding for 'Recalling Firm Name'"
   ]
  },
  {
   "cell_type": "code",
   "execution_count": 12,
   "id": "fdffc163-35db-47b3-8509-c0074678a273",
   "metadata": {},
   "outputs": [],
   "source": [
    "# Count how many times each firm has issued a recall\n",
    "firm_counts = df_processed.groupby('Recalling Firm Name').size().reset_index(name='Firm_Recall_Count')\n",
    "\n",
    "# Calculate class proportions for each firm\n",
    "for prod_class in df_processed['Product Classification'].unique():\n",
    "    class_prop = df_processed.groupby('Recalling Firm Name')['Product Classification'].apply(\n",
    "        lambda x: (x == prod_class).mean()\n",
    "    ).reset_index(name=f'Firm_Prop_{prod_class.replace(\" \", \"_\")}')\n",
    "    \n",
    "    # Merge back to firm_counts\n",
    "    firm_counts = pd.merge(firm_counts, class_prop, on='Recalling Firm Name', how='left')"
   ]
  },
  {
   "cell_type": "code",
   "execution_count": 13,
   "id": "036e4a36-20c0-497e-9b4b-7fd555b839b6",
   "metadata": {},
   "outputs": [],
   "source": [
    "# Add categorical size based on recall frequency\n",
    "try:\n",
    "    # Check if we have enough unique values for 5 bins\n",
    "    unique_count_values = firm_counts['Firm_Recall_Count'].nunique()\n",
    "    if unique_count_values >= 5:\n",
    "        firm_counts['Firm_Size_Category'] = pd.qcut(\n",
    "            firm_counts['Firm_Recall_Count'], \n",
    "            q=5, \n",
    "            labels=['Very Low Volume', 'Low Volume', 'Medium Volume', 'High Volume', 'Very High Volume'],\n",
    "            duplicates='drop'  # Handle any duplicate bin edges\n",
    "        )\n",
    "    else:\n",
    "        # Not enough unique values for 5 quantiles\n",
    "        firm_counts['Firm_Size_Category'] = pd.cut(\n",
    "            firm_counts['Firm_Recall_Count'],\n",
    "            bins=[0, 1, 2, 5, 10, float('inf')],\n",
    "            labels=['Very Low Volume', 'Low Volume', 'Medium Volume', 'High Volume', 'Very High Volume']\n",
    "        )\n",
    "except ValueError:\n",
    "    # If either method fails, use a simple categorical approach\n",
    "    firm_counts['Firm_Size_Category'] = 'Medium Volume'  # Default value\n",
    "    \n",
    "    # Assign categories based on count thresholds\n",
    "    firm_counts.loc[firm_counts['Firm_Recall_Count'] == 1, 'Firm_Size_Category'] = 'Very Low Volume'\n",
    "    firm_counts.loc[(firm_counts['Firm_Recall_Count'] > 1) & (firm_counts['Firm_Recall_Count'] <= 3), 'Firm_Size_Category'] = 'Low Volume'\n",
    "    firm_counts.loc[(firm_counts['Firm_Recall_Count'] > 3) & (firm_counts['Firm_Recall_Count'] <= 10), 'Firm_Size_Category'] = 'Medium Volume'\n",
    "    firm_counts.loc[(firm_counts['Firm_Recall_Count'] > 10) & (firm_counts['Firm_Recall_Count'] <= 30), 'Firm_Size_Category'] = 'High Volume'\n",
    "    firm_counts.loc[firm_counts['Firm_Recall_Count'] > 30, 'Firm_Size_Category'] = 'Very High Volume'"
   ]
  },
  {
   "cell_type": "markdown",
   "id": "e97f5767-95b0-4631-84ae-c17b5dc342b5",
   "metadata": {},
   "source": [
    "Frequency-based encoding for 'Distribution Pattern'"
   ]
  },
  {
   "cell_type": "code",
   "execution_count": 14,
   "id": "4201c31c-95d6-4b09-8755-a44c8fedd733",
   "metadata": {},
   "outputs": [],
   "source": [
    "# Handle missing values in Distribution Pattern\n",
    "df_processed['Distribution Pattern'] = df_processed['Distribution Pattern'].fillna('Unknown')\n",
    "distribution_counts = df_processed.groupby('Distribution Pattern').size().reset_index(name='Distribution_Pattern_Count')"
   ]
  },
  {
   "cell_type": "code",
   "execution_count": 15,
   "id": "dd2dc654-04a7-4d21-8103-52c36cfb686d",
   "metadata": {},
   "outputs": [],
   "source": [
    "# Calculate class proportions for each distribution pattern\n",
    "for prod_class in df_processed['Product Classification'].unique():\n",
    "    class_prop = df_processed.groupby('Distribution Pattern')['Product Classification'].apply(\n",
    "        lambda x: (x == prod_class).mean()\n",
    "    ).reset_index(name=f'Distribution_Prop_{prod_class.replace(\" \", \"_\")}')\n",
    "    \n",
    "    # Merge back to distribution_counts\n",
    "    distribution_counts = pd.merge(distribution_counts, class_prop, on='Distribution Pattern', how='left')"
   ]
  },
  {
   "cell_type": "code",
   "execution_count": 16,
   "id": "c1ec7891-ea9e-454b-ad7e-2b9f58ab3ab2",
   "metadata": {},
   "outputs": [
    {
     "name": "stdout",
     "output_type": "stream",
     "text": [
      "Encoded high cardinality variables with frequency-based features\n",
      "Preview of new features:\n"
     ]
    },
    {
     "data": {
      "text/html": [
       "<div>\n",
       "<style scoped>\n",
       "    .dataframe tbody tr th:only-of-type {\n",
       "        vertical-align: middle;\n",
       "    }\n",
       "\n",
       "    .dataframe tbody tr th {\n",
       "        vertical-align: top;\n",
       "    }\n",
       "\n",
       "    .dataframe thead th {\n",
       "        text-align: right;\n",
       "    }\n",
       "</style>\n",
       "<table border=\"1\" class=\"dataframe\">\n",
       "  <thead>\n",
       "    <tr style=\"text-align: right;\">\n",
       "      <th></th>\n",
       "      <th>Firm_Recall_Count</th>\n",
       "      <th>Firm_Prop_Class_I</th>\n",
       "      <th>Firm_Size_Category</th>\n",
       "      <th>Distribution_Pattern_Count</th>\n",
       "      <th>Distribution_Prop_Class_I</th>\n",
       "    </tr>\n",
       "  </thead>\n",
       "  <tbody>\n",
       "    <tr>\n",
       "      <th>0</th>\n",
       "      <td>1</td>\n",
       "      <td>1.0</td>\n",
       "      <td>Very Low Volume</td>\n",
       "      <td>1</td>\n",
       "      <td>1.000000</td>\n",
       "    </tr>\n",
       "    <tr>\n",
       "      <th>1</th>\n",
       "      <td>18</td>\n",
       "      <td>0.0</td>\n",
       "      <td>High Volume</td>\n",
       "      <td>4894</td>\n",
       "      <td>0.124029</td>\n",
       "    </tr>\n",
       "    <tr>\n",
       "      <th>2</th>\n",
       "      <td>18</td>\n",
       "      <td>0.0</td>\n",
       "      <td>High Volume</td>\n",
       "      <td>4894</td>\n",
       "      <td>0.124029</td>\n",
       "    </tr>\n",
       "    <tr>\n",
       "      <th>3</th>\n",
       "      <td>18</td>\n",
       "      <td>0.0</td>\n",
       "      <td>High Volume</td>\n",
       "      <td>4894</td>\n",
       "      <td>0.124029</td>\n",
       "    </tr>\n",
       "    <tr>\n",
       "      <th>4</th>\n",
       "      <td>18</td>\n",
       "      <td>0.0</td>\n",
       "      <td>High Volume</td>\n",
       "      <td>4894</td>\n",
       "      <td>0.124029</td>\n",
       "    </tr>\n",
       "  </tbody>\n",
       "</table>\n",
       "</div>"
      ],
      "text/plain": [
       "   Firm_Recall_Count  Firm_Prop_Class_I Firm_Size_Category  \\\n",
       "0                  1                1.0    Very Low Volume   \n",
       "1                 18                0.0        High Volume   \n",
       "2                 18                0.0        High Volume   \n",
       "3                 18                0.0        High Volume   \n",
       "4                 18                0.0        High Volume   \n",
       "\n",
       "   Distribution_Pattern_Count  Distribution_Prop_Class_I  \n",
       "0                           1                   1.000000  \n",
       "1                        4894                   0.124029  \n",
       "2                        4894                   0.124029  \n",
       "3                        4894                   0.124029  \n",
       "4                        4894                   0.124029  "
      ]
     },
     "metadata": {},
     "output_type": "display_data"
    }
   ],
   "source": [
    "# Merge the new features back to the dataframe\n",
    "df_processed = pd.merge(df_processed, firm_counts, on='Recalling Firm Name', how='left')\n",
    "df_processed = pd.merge(df_processed, distribution_counts, on='Distribution Pattern', how='left')\n",
    "\n",
    "print(\"Encoded high cardinality variables with frequency-based features\")\n",
    "print(\"Preview of new features:\")\n",
    "display(df_processed[['Firm_Recall_Count', 'Firm_Prop_Class_I', 'Firm_Size_Category', \n",
    "                     'Distribution_Pattern_Count', 'Distribution_Prop_Class_I']].head())"
   ]
  },
  {
   "cell_type": "markdown",
   "id": "d0a63c58-6891-428c-8414-0679b0f70111",
   "metadata": {},
   "source": [
    "# Step 4: Feature engineering for geographical variables (city and state)"
   ]
  },
  {
   "cell_type": "markdown",
   "id": "3d7518d8-4af6-4f77-b4d9-a7faf5b3389e",
   "metadata": {},
   "source": [
    "Create state-level aggregation features"
   ]
  },
  {
   "cell_type": "code",
   "execution_count": 17,
   "id": "1efb4a69-9028-4e4b-8310-54545baa1f5f",
   "metadata": {},
   "outputs": [],
   "source": [
    "# count the number of recalls associated with each state\n",
    "state_counts = df_processed.groupby('Recalling Firm State').size().reset_index(name='State_Recall_Count')\n",
    "\n",
    "# Calculate class proportions by state for each classification type\n",
    "for prod_class in df_processed['Product Classification'].unique():\n",
    "    class_name = prod_class.replace(' ', '_')\n",
    "    state_prop = df_processed.groupby('Recalling Firm State')['Product Classification'].apply(\n",
    "        lambda x: (x == prod_class).mean()\n",
    "    ).reset_index(name=f'State_Prop_{class_name}')\n",
    "    \n",
    "    # Merge back to state_counts\n",
    "    state_counts = pd.merge(state_counts, state_prop, on='Recalling Firm State', how='left')"
   ]
  },
  {
   "cell_type": "markdown",
   "id": "a5e56af2-f44c-4334-9208-92449bee3a5d",
   "metadata": {},
   "source": [
    "Create city-level features with aggregation to reduce cardinality"
   ]
  },
  {
   "cell_type": "code",
   "execution_count": 18,
   "id": "1f11e413-8ef5-4b46-b3d7-54b52eb0bc59",
   "metadata": {},
   "outputs": [],
   "source": [
    "# count the number of recalls associated with each city\n",
    "city_counts = df_processed.groupby('Recalling Firm City').size().reset_index(name='City_Recall_Count')\n",
    "\n",
    "# Categorize cities into frequency buckets\n",
    "try:\n",
    "    # First, check if we have enough unique values for 5 bins\n",
    "    unique_count_values = city_counts['City_Recall_Count'].nunique()\n",
    "    if unique_count_values >= 5:\n",
    "        city_counts['City_Size_Category'] = pd.qcut(\n",
    "            city_counts['City_Recall_Count'], \n",
    "            q=5, \n",
    "            labels=['Very Small', 'Small', 'Medium', 'Large', 'Very Large'],\n",
    "            duplicates='drop'\n",
    "        )\n",
    "    else:\n",
    "        # Not enough unique values for 5 quantiles\n",
    "        city_counts['City_Size_Category'] = pd.cut(\n",
    "            city_counts['City_Recall_Count'],\n",
    "            bins=[0, 1, 2, 5, 10, float('inf')],\n",
    "            labels=['Very Small', 'Small', 'Medium', 'Large', 'Very Large']\n",
    "        )\n",
    "except ValueError:\n",
    "    # If either method fails, use a simple categorical approach\n",
    "    city_counts['City_Size_Category'] = 'Medium'  # Default value\n",
    "    \n",
    "    # Assign categories based on count thresholds\n",
    "    city_counts.loc[city_counts['City_Recall_Count'] == 1, 'City_Size_Category'] = 'Very Small'\n",
    "    city_counts.loc[(city_counts['City_Recall_Count'] > 1) & (city_counts['City_Recall_Count'] <= 3), 'City_Size_Category'] = 'Small'\n",
    "    city_counts.loc[(city_counts['City_Recall_Count'] > 3) & (city_counts['City_Recall_Count'] <= 10), 'City_Size_Category'] = 'Medium'\n",
    "    city_counts.loc[(city_counts['City_Recall_Count'] > 10) & (city_counts['City_Recall_Count'] <= 30), 'City_Size_Category'] = 'Large'\n",
    "    city_counts.loc[city_counts['City_Recall_Count'] > 30, 'City_Size_Category'] = 'Very Large'"
   ]
  },
  {
   "cell_type": "markdown",
   "id": "4c42a81d-45f7-4cd3-970e-9cb133c7e2ee",
   "metadata": {},
   "source": [
    "Create location-based risk scores for all classes"
   ]
  },
  {
   "cell_type": "code",
   "execution_count": 19,
   "id": "9a7ab31d-e2b8-4f7e-b326-f598f9aa4a91",
   "metadata": {},
   "outputs": [],
   "source": [
    "# Calculate proportion of recall events that belong to a specific classification for each city\n",
    "city_class_props = {}\n",
    "for prod_class in df_processed['Product Classification'].unique():\n",
    "    class_name = prod_class.replace(' ', '_')\n",
    "    city_risk = df_processed.groupby('Recalling Firm City')['Product Classification'].apply(\n",
    "        lambda x: (x == prod_class).mean()\n",
    "    ).reset_index(name=f'City_{class_name}_Risk')\n",
    "    city_class_props[class_name] = city_risk"
   ]
  },
  {
   "cell_type": "code",
   "execution_count": 20,
   "id": "95fd5f92-78db-4233-80af-a8c4161d0174",
   "metadata": {},
   "outputs": [],
   "source": [
    "# Merge geographical features to df_processed\n",
    "df_processed = pd.merge(df_processed, state_counts, on='Recalling Firm State', how='left')\n",
    "df_processed = pd.merge(df_processed, city_counts, on='Recalling Firm City', how='left')"
   ]
  },
  {
   "cell_type": "code",
   "execution_count": 21,
   "id": "cd81ca0a-9431-45ae-8962-ad877b3a6256",
   "metadata": {},
   "outputs": [],
   "source": [
    "# Merge city risk scores\n",
    "for class_name, risk_df in city_class_props.items():\n",
    "    df_processed = pd.merge(df_processed, risk_df, on='Recalling Firm City', how='left')"
   ]
  },
  {
   "cell_type": "markdown",
   "id": "d9053c64-2a2d-4db0-bec1-17ff31a803da",
   "metadata": {},
   "source": [
    "Fill missing values with overall proportions where appropriate"
   ]
  },
  {
   "cell_type": "code",
   "execution_count": 22,
   "id": "f9552bb4-47cb-4164-8104-f91de10a0ab5",
   "metadata": {},
   "outputs": [],
   "source": [
    "# Fill in missing city risk values\n",
    "for prod_class in df_processed['Product Classification'].unique():\n",
    "    class_name = prod_class.replace(' ', '_')\n",
    "    overall_prop = df_processed['Product Classification'].value_counts(normalize=True).get(prod_class, 0)\n",
    "    df_processed.fillna({f'City_{class_name}_Risk': overall_prop}, inplace=True)"
   ]
  },
  {
   "cell_type": "code",
   "execution_count": 23,
   "id": "aeb180bb-1c9f-47ff-8f27-79610b670dd7",
   "metadata": {},
   "outputs": [],
   "source": [
    "# Fill any other missing numerical values\n",
    "numerical_cols = df_processed.select_dtypes(include=['number']).columns\n",
    "for col in numerical_cols:\n",
    "    if df_processed[col].isna().any():\n",
    "        if col.startswith('City_') or col.startswith('State_'):\n",
    "            df_processed[col].fillna(0, inplace=True)"
   ]
  },
  {
   "cell_type": "markdown",
   "id": "ed9d2ac8-e86b-4c44-ac57-4d1ca5e29cd2",
   "metadata": {},
   "source": [
    "Create regional features"
   ]
  },
  {
   "cell_type": "code",
   "execution_count": 24,
   "id": "dff37597-7bdc-42e1-96d7-9b719ceb7395",
   "metadata": {},
   "outputs": [],
   "source": [
    "# Define regions based on states\n",
    "northeast = ['Maine', 'New Hampshire', 'Vermont', 'Massachusetts', 'Rhode Island', 'Connecticut', \n",
    "             'New York', 'New Jersey', 'Pennsylvania']\n",
    "midwest = ['Ohio', 'Michigan', 'Indiana', 'Wisconsin', 'Illinois', 'Minnesota', \n",
    "           'Iowa', 'Missouri', 'North Dakota', 'South Dakota', 'Nebraska', 'Kansas']\n",
    "south = ['Delaware', 'Maryland', 'Virginia', 'West Virginia', 'Kentucky', 'North Carolina', \n",
    "         'South Carolina', 'Tennessee', 'Georgia', 'Florida', 'Alabama', 'Mississippi', \n",
    "         'Arkansas', 'Louisiana', 'Texas', 'Oklahoma']\n",
    "west = ['Montana', 'Idaho', 'Wyoming', 'Colorado', 'New Mexico', 'Arizona', 'Utah', \n",
    "        'Nevada', 'California', 'Oregon', 'Washington', 'Alaska', 'Hawaii']"
   ]
  },
  {
   "cell_type": "code",
   "execution_count": 25,
   "id": "ae4bbf48-7e10-4cab-b503-346af4331eb4",
   "metadata": {},
   "outputs": [],
   "source": [
    "# Function to map states to regions\n",
    "def get_region(state):\n",
    "    if state in northeast:\n",
    "        return 'Northeast'\n",
    "    elif state in midwest:\n",
    "        return 'Midwest'\n",
    "    elif state in south:\n",
    "        return 'South'\n",
    "    elif state in west:\n",
    "        return 'West'\n",
    "    else:\n",
    "        return 'Other'"
   ]
  },
  {
   "cell_type": "code",
   "execution_count": 26,
   "id": "f884b08a-031e-4116-ad41-8dbe372629d7",
   "metadata": {},
   "outputs": [],
   "source": [
    "# Apply the mapping function to create the region column\n",
    "df_processed['Region'] = df_processed['Recalling Firm State'].apply(get_region)"
   ]
  },
  {
   "cell_type": "code",
   "execution_count": 27,
   "id": "3a41aa10-03ff-44c0-8073-9e3b24484775",
   "metadata": {},
   "outputs": [],
   "source": [
    "# Create one-hot encoded region features\n",
    "region_dummies = pd.get_dummies(df_processed['Region'], prefix='Region')\n",
    "df_processed = pd.concat([df_processed, region_dummies], axis=1)"
   ]
  },
  {
   "cell_type": "code",
   "execution_count": 28,
   "id": "2ae3d3ac-0ece-401d-a8cd-b86dccc743b4",
   "metadata": {},
   "outputs": [
    {
     "data": {
      "text/html": [
       "<div>\n",
       "<style scoped>\n",
       "    .dataframe tbody tr th:only-of-type {\n",
       "        vertical-align: middle;\n",
       "    }\n",
       "\n",
       "    .dataframe tbody tr th {\n",
       "        vertical-align: top;\n",
       "    }\n",
       "\n",
       "    .dataframe thead th {\n",
       "        text-align: right;\n",
       "    }\n",
       "</style>\n",
       "<table border=\"1\" class=\"dataframe\">\n",
       "  <thead>\n",
       "    <tr style=\"text-align: right;\">\n",
       "      <th></th>\n",
       "      <th>State_Recall_Count</th>\n",
       "      <th>State_Prop_Class_I</th>\n",
       "      <th>State_Prop_Class_II</th>\n",
       "      <th>State_Prop_Class_III</th>\n",
       "      <th>City_Recall_Count</th>\n",
       "      <th>City_Size_Category</th>\n",
       "      <th>City_Class_I_Risk</th>\n",
       "      <th>City_Class_II_Risk</th>\n",
       "      <th>City_Class_III_Risk</th>\n",
       "      <th>Region_Midwest</th>\n",
       "      <th>Region_Northeast</th>\n",
       "      <th>Region_Other</th>\n",
       "      <th>Region_South</th>\n",
       "      <th>Region_West</th>\n",
       "    </tr>\n",
       "  </thead>\n",
       "  <tbody>\n",
       "    <tr>\n",
       "      <th>0</th>\n",
       "      <td>1474</td>\n",
       "      <td>0.130936</td>\n",
       "      <td>0.787653</td>\n",
       "      <td>0.081411</td>\n",
       "      <td>446</td>\n",
       "      <td>Very Large</td>\n",
       "      <td>0.224215</td>\n",
       "      <td>0.730942</td>\n",
       "      <td>0.044843</td>\n",
       "      <td>False</td>\n",
       "      <td>False</td>\n",
       "      <td>False</td>\n",
       "      <td>False</td>\n",
       "      <td>True</td>\n",
       "    </tr>\n",
       "    <tr>\n",
       "      <th>1</th>\n",
       "      <td>4559</td>\n",
       "      <td>0.112744</td>\n",
       "      <td>0.826058</td>\n",
       "      <td>0.061198</td>\n",
       "      <td>308</td>\n",
       "      <td>Very Large</td>\n",
       "      <td>0.029221</td>\n",
       "      <td>0.753247</td>\n",
       "      <td>0.217532</td>\n",
       "      <td>False</td>\n",
       "      <td>True</td>\n",
       "      <td>False</td>\n",
       "      <td>False</td>\n",
       "      <td>False</td>\n",
       "    </tr>\n",
       "    <tr>\n",
       "      <th>2</th>\n",
       "      <td>4559</td>\n",
       "      <td>0.112744</td>\n",
       "      <td>0.826058</td>\n",
       "      <td>0.061198</td>\n",
       "      <td>308</td>\n",
       "      <td>Very Large</td>\n",
       "      <td>0.029221</td>\n",
       "      <td>0.753247</td>\n",
       "      <td>0.217532</td>\n",
       "      <td>False</td>\n",
       "      <td>True</td>\n",
       "      <td>False</td>\n",
       "      <td>False</td>\n",
       "      <td>False</td>\n",
       "    </tr>\n",
       "    <tr>\n",
       "      <th>3</th>\n",
       "      <td>4559</td>\n",
       "      <td>0.112744</td>\n",
       "      <td>0.826058</td>\n",
       "      <td>0.061198</td>\n",
       "      <td>308</td>\n",
       "      <td>Very Large</td>\n",
       "      <td>0.029221</td>\n",
       "      <td>0.753247</td>\n",
       "      <td>0.217532</td>\n",
       "      <td>False</td>\n",
       "      <td>True</td>\n",
       "      <td>False</td>\n",
       "      <td>False</td>\n",
       "      <td>False</td>\n",
       "    </tr>\n",
       "    <tr>\n",
       "      <th>4</th>\n",
       "      <td>4559</td>\n",
       "      <td>0.112744</td>\n",
       "      <td>0.826058</td>\n",
       "      <td>0.061198</td>\n",
       "      <td>308</td>\n",
       "      <td>Very Large</td>\n",
       "      <td>0.029221</td>\n",
       "      <td>0.753247</td>\n",
       "      <td>0.217532</td>\n",
       "      <td>False</td>\n",
       "      <td>True</td>\n",
       "      <td>False</td>\n",
       "      <td>False</td>\n",
       "      <td>False</td>\n",
       "    </tr>\n",
       "  </tbody>\n",
       "</table>\n",
       "</div>"
      ],
      "text/plain": [
       "   State_Recall_Count  State_Prop_Class_I  State_Prop_Class_II  \\\n",
       "0                1474            0.130936             0.787653   \n",
       "1                4559            0.112744             0.826058   \n",
       "2                4559            0.112744             0.826058   \n",
       "3                4559            0.112744             0.826058   \n",
       "4                4559            0.112744             0.826058   \n",
       "\n",
       "   State_Prop_Class_III  City_Recall_Count City_Size_Category  \\\n",
       "0              0.081411                446         Very Large   \n",
       "1              0.061198                308         Very Large   \n",
       "2              0.061198                308         Very Large   \n",
       "3              0.061198                308         Very Large   \n",
       "4              0.061198                308         Very Large   \n",
       "\n",
       "   City_Class_I_Risk  City_Class_II_Risk  City_Class_III_Risk  Region_Midwest  \\\n",
       "0           0.224215            0.730942             0.044843           False   \n",
       "1           0.029221            0.753247             0.217532           False   \n",
       "2           0.029221            0.753247             0.217532           False   \n",
       "3           0.029221            0.753247             0.217532           False   \n",
       "4           0.029221            0.753247             0.217532           False   \n",
       "\n",
       "   Region_Northeast  Region_Other  Region_South  Region_West  \n",
       "0             False         False         False         True  \n",
       "1              True         False         False        False  \n",
       "2              True         False         False        False  \n",
       "3              True         False         False        False  \n",
       "4              True         False         False        False  "
      ]
     },
     "metadata": {},
     "output_type": "display_data"
    }
   ],
   "source": [
    "# new geographical features\n",
    "geo_feature_cols = [col for col in df_processed.columns if col.startswith(('State_', 'City_', 'Region_'))]\n",
    "display(df_processed[geo_feature_cols].head())"
   ]
  },
  {
   "cell_type": "markdown",
   "id": "693ce451-6569-445a-ae67-93fcf1a6d4b4",
   "metadata": {},
   "source": [
    "# Step 5: Feature engineering for 'Recalling Firm Country'"
   ]
  },
  {
   "cell_type": "markdown",
   "id": "7b9c384c-fa0a-4e8b-a2fe-73e828f692da",
   "metadata": {},
   "source": [
    "Preview of new country feature"
   ]
  },
  {
   "cell_type": "code",
   "execution_count": 29,
   "id": "4f52e5a1-ce10-4435-b7d0-a841494a02d1",
   "metadata": {},
   "outputs": [
    {
     "data": {
      "text/html": [
       "<div>\n",
       "<style scoped>\n",
       "    .dataframe tbody tr th:only-of-type {\n",
       "        vertical-align: middle;\n",
       "    }\n",
       "\n",
       "    .dataframe tbody tr th {\n",
       "        vertical-align: top;\n",
       "    }\n",
       "\n",
       "    .dataframe thead th {\n",
       "        text-align: right;\n",
       "    }\n",
       "</style>\n",
       "<table border=\"1\" class=\"dataframe\">\n",
       "  <thead>\n",
       "    <tr style=\"text-align: right;\">\n",
       "      <th></th>\n",
       "      <th>Is_US</th>\n",
       "    </tr>\n",
       "  </thead>\n",
       "  <tbody>\n",
       "    <tr>\n",
       "      <th>0</th>\n",
       "      <td>1</td>\n",
       "    </tr>\n",
       "    <tr>\n",
       "      <th>1</th>\n",
       "      <td>1</td>\n",
       "    </tr>\n",
       "    <tr>\n",
       "      <th>2</th>\n",
       "      <td>1</td>\n",
       "    </tr>\n",
       "    <tr>\n",
       "      <th>3</th>\n",
       "      <td>1</td>\n",
       "    </tr>\n",
       "    <tr>\n",
       "      <th>4</th>\n",
       "      <td>1</td>\n",
       "    </tr>\n",
       "  </tbody>\n",
       "</table>\n",
       "</div>"
      ],
      "text/plain": [
       "   Is_US\n",
       "0      1\n",
       "1      1\n",
       "2      1\n",
       "3      1\n",
       "4      1"
      ]
     },
     "metadata": {},
     "output_type": "display_data"
    }
   ],
   "source": [
    "# Create binary US indicator\n",
    "df_processed['Is_US'] = (df_processed['Recalling Firm Country'] == 'United States').astype(int)\n",
    "\n",
    "display(df_processed[['Is_US']].head())"
   ]
  },
  {
   "cell_type": "markdown",
   "id": "62b3e2c3-380d-4228-9419-361b58a641aa",
   "metadata": {},
   "source": [
    "# Step 6: Create dummy variables for remaining categorical features\n",
    "\n",
    "Create dummy variables for categorical features"
   ]
  },
  {
   "cell_type": "code",
   "execution_count": 30,
   "id": "ea8b7030-d3f9-4004-932c-1d41545a6e64",
   "metadata": {},
   "outputs": [],
   "source": [
    "# Product Classification\n",
    "product_class_dummies = pd.get_dummies(df_processed['Product Classification'], prefix='ProdClass', drop_first=True)\n",
    "df_processed = pd.concat([df_processed, product_class_dummies], axis=1)"
   ]
  },
  {
   "cell_type": "code",
   "execution_count": 31,
   "id": "205fa850-81ce-4854-a383-3dbb2ae2cdbe",
   "metadata": {},
   "outputs": [],
   "source": [
    "# Product Type\n",
    "product_type_dummies = pd.get_dummies(df_processed['Product Type'], prefix='ProductType', drop_first=True)\n",
    "df_processed = pd.concat([df_processed, product_type_dummies], axis=1)"
   ]
  },
  {
   "cell_type": "code",
   "execution_count": 32,
   "id": "2076213c-f859-4b09-8e28-ec744dbcab39",
   "metadata": {},
   "outputs": [],
   "source": [
    "# Status\n",
    "status_dummies = pd.get_dummies(df_processed['Status'], prefix='Status', drop_first=True)\n",
    "df_processed = pd.concat([df_processed, status_dummies], axis=1)"
   ]
  },
  {
   "cell_type": "code",
   "execution_count": 33,
   "id": "1b5ca735-53e1-4af1-88bc-19ae08932805",
   "metadata": {},
   "outputs": [],
   "source": [
    "# Firm Size Category\n",
    "firm_size_dummies = pd.get_dummies(df_processed['Firm_Size_Category'], prefix='FirmSize', drop_first=True)\n",
    "df_processed = pd.concat([df_processed, firm_size_dummies], axis=1)"
   ]
  },
  {
   "cell_type": "code",
   "execution_count": 34,
   "id": "3596156f-d9fb-4c3f-b988-22b673673c9a",
   "metadata": {},
   "outputs": [],
   "source": [
    "# City Size Category\n",
    "city_size_dummies = pd.get_dummies(df_processed['City_Size_Category'], prefix='CitySize', drop_first=True)\n",
    "df_processed = pd.concat([df_processed, city_size_dummies], axis=1)"
   ]
  },
  {
   "cell_type": "markdown",
   "id": "2e6f196f-8d2f-457c-bd48-56fcfdbe7067",
   "metadata": {},
   "source": [
    "# Step 7: Perform correlation analysis before text processing"
   ]
  },
  {
   "cell_type": "code",
   "execution_count": 35,
   "id": "f13070ba-688c-4b09-a46c-71abfa80a4c8",
   "metadata": {},
   "outputs": [],
   "source": [
    "# Exclude text columns (for now) and ID variables\n",
    "text_cols = ['Reason for Recall', 'Product Description']\n",
    "id_cols = [\"FEI Number\", \"Event ID\", \"Product ID\", \"Recall Details\"]"
   ]
  },
  {
   "cell_type": "code",
   "execution_count": 36,
   "id": "e3cdd687-f7f8-49ec-88a3-4ba1bb456864",
   "metadata": {},
   "outputs": [],
   "source": [
    "# List of columns to drop for correlation analysis (excluding text columns we'll need later)\n",
    "correlation_drop_cols = [\n",
    "    # ID variables\n",
    "    \"FEI Number\", \"Event ID\", \"Product ID\", \"Recall Details\",\n",
    "    # Original columns that have been transformed (excluding text columns)\n",
    "    \"Center\", \"Center Classification Date\",\n",
    "    \"Recalling Firm Name\", \"Distribution Pattern\",\n",
    "    \"Recalling Firm City\", \"Recalling Firm State\", \"Recalling Firm Country\",\n",
    "    \"Product Type\", \"Status\",\n",
    "    # Intermediate columns\n",
    "    \"Region\", \"Firm_Size_Category\", \"City_Size_Category\",\n",
    "    # Original categorical columns (now encoded as dummies)\n",
    "    \"Product Classification\",\n",
    "    # Target variable - should not be included in feature correlation analysis\n",
    "    \"Event Classification\"\n",
    "]"
   ]
  },
  {
   "cell_type": "code",
   "execution_count": 37,
   "id": "a4a2c53e-ca5c-4ee8-801e-f8c4a7bd0445",
   "metadata": {},
   "outputs": [],
   "source": [
    "# Filter to only include columns that exist\n",
    "cols_to_drop_for_correlation = [col for col in correlation_drop_cols if col in df_processed.columns]"
   ]
  },
  {
   "cell_type": "code",
   "execution_count": 38,
   "id": "09d7b37a-e90e-4c0a-b5e2-7eded25386d8",
   "metadata": {},
   "outputs": [],
   "source": [
    "# Create a temporary dataframe for correlation analysis\n",
    "df_for_correlation = df_processed.drop(columns=cols_to_drop_for_correlation)"
   ]
  },
  {
   "cell_type": "code",
   "execution_count": 39,
   "id": "032c8e77-52bc-4a75-b0d1-a4c64e42c658",
   "metadata": {},
   "outputs": [],
   "source": [
    "# drop text columns for correlation analysis\n",
    "df_for_correlation = df_for_correlation.drop(columns=[col for col in text_cols if col in df_for_correlation.columns])"
   ]
  },
  {
   "cell_type": "code",
   "execution_count": 40,
   "id": "97b93736-e6b1-4d0d-8434-ce5454d66a4d",
   "metadata": {},
   "outputs": [
    {
     "data": {
      "text/plain": [
       "(95082, 47)"
      ]
     },
     "execution_count": 40,
     "metadata": {},
     "output_type": "execute_result"
    }
   ],
   "source": [
    "df_for_correlation.shape"
   ]
  },
  {
   "cell_type": "code",
   "execution_count": 41,
   "id": "5d52888a-c41f-4635-89ee-892b4848a5df",
   "metadata": {},
   "outputs": [
    {
     "name": "stdout",
     "output_type": "stream",
     "text": [
      "\n",
      "Using 47 numeric columns for correlation analysis:\n",
      "['Month_sin', 'Month_cos', 'Day_sin', 'Day_cos', 'DayOfWeek_sin', 'DayOfWeek_cos', 'Years_Since_First', 'Year_Scaled', 'Firm_Recall_Count', 'Firm_Prop_Class_I'] ...\n"
     ]
    }
   ],
   "source": [
    "# Compute correlation matrix with numeric col only\n",
    "numeric_cols = df_for_correlation.select_dtypes(include=['number', 'bool']).columns.tolist()\n",
    "print(f\"\\nUsing {len(numeric_cols)} numeric columns for correlation analysis:\")\n",
    "print(numeric_cols[:10], \"...\" if len(numeric_cols) > 10 else \"\")"
   ]
  },
  {
   "cell_type": "code",
   "execution_count": 42,
   "id": "1b9d28c8-140d-4ab9-86c8-90b204026e8c",
   "metadata": {},
   "outputs": [],
   "source": [
    "correlation_matrix = df_for_correlation.corr()"
   ]
  },
  {
   "cell_type": "code",
   "execution_count": 43,
   "id": "44736182-f787-4dc7-a7fd-d49932208e0f",
   "metadata": {},
   "outputs": [],
   "source": [
    "# Identify highly correlated features\n",
    "threshold = 0.8\n",
    "high_corr_pairs = []\n",
    "\n",
    "for i in range(len(correlation_matrix.columns)):\n",
    "    for j in range(i+1, len(correlation_matrix.columns)):\n",
    "        if abs(correlation_matrix.iloc[i, j]) > threshold:\n",
    "            high_corr_pairs.append(\n",
    "                (correlation_matrix.columns[i], \n",
    "                 correlation_matrix.columns[j], \n",
    "                 correlation_matrix.iloc[i, j])\n",
    "            )"
   ]
  },
  {
   "cell_type": "code",
   "execution_count": 44,
   "id": "49ab57ae-6200-4c97-a57b-32133e254dfb",
   "metadata": {},
   "outputs": [
    {
     "name": "stdout",
     "output_type": "stream",
     "text": [
      "\n",
      "Identified 10 highly correlated feature pairs (|r| > 0.8):\n",
      "  - Years_Since_First and Year_Scaled: r = 1.000\n",
      "  - Firm_Prop_Class_I and Firm_Prop_Class_II: r = -0.841\n",
      "  - Firm_Prop_Class_I and Distribution_Prop_Class_I: r = 0.837\n",
      "  - Firm_Prop_Class_II and ProdClass_Class II: r = 0.812\n",
      "  - Distribution_Prop_Class_I and Distribution_Prop_Class_II: r = -0.841\n",
      "  - Distribution_Prop_Class_II and ProdClass_Class II: r = 0.842\n",
      "  - State_Prop_Class_I and State_Prop_Class_II: r = -0.932\n",
      "  - City_Class_I_Risk and City_Class_II_Risk: r = -0.864\n",
      "  - Region_Other and Is_US: r = -0.889\n",
      "  - Status_Ongoing and Status_Terminated: r = -0.933\n"
     ]
    }
   ],
   "source": [
    "# Display highly correlated pairs\n",
    "if high_corr_pairs:\n",
    "    print(f\"\\nIdentified {len(high_corr_pairs)} highly correlated feature pairs (|r| > {threshold}):\")\n",
    "    for col1, col2, corr in high_corr_pairs:\n",
    "        print(f\"  - {col1} and {col2}: r = {corr:.3f}\")\n",
    "else:\n",
    "    print(f\"\\nNo highly correlated feature pairs found (|r| > {threshold}).\")"
   ]
  },
  {
   "cell_type": "markdown",
   "id": "f14e59a6-3781-4b24-877b-637ea101d89b",
   "metadata": {},
   "source": [
    "Visualize correlation matrix for key features"
   ]
  },
  {
   "cell_type": "code",
   "execution_count": 45,
   "id": "ed3faf63-5139-4f39-8ee8-aeb90f6687b1",
   "metadata": {},
   "outputs": [],
   "source": [
    "# Select a subset of important features to make the visualization manageable\n",
    "if len(numeric_cols) > 25:\n",
    "    # Include key product classification dummies\n",
    "    prod_class_cols = [col for col in numeric_cols if col.startswith('ProdClass')][:3]\n",
    "    \n",
    "    # Select features with highest average absolute correlation\n",
    "    corr_means = correlation_matrix.abs().mean().sort_values(ascending=False)\n",
    "    top_correlated = corr_means[:15].index.tolist()\n",
    "    \n",
    "    # Combine interesting features\n",
    "    top_features = list(set(prod_class_cols + top_correlated))[:20]\n",
    "else:\n",
    "    top_features = numeric_cols"
   ]
  },
  {
   "cell_type": "code",
   "execution_count": 46,
   "id": "e42d4953-ea4e-4c72-90d8-8e42d1f81d03",
   "metadata": {},
   "outputs": [
    {
     "data": {
      "image/png": "[encoded data removed]",
      "text/plain": [
       "<Figure size 1400x1200 with 2 Axes>"
      ]
     },
     "metadata": {},
     "output_type": "display_data"
    }
   ],
   "source": [
    "# Create correlation heatmap\n",
    "plt.figure(figsize=(14, 12))\n",
    "sns.heatmap(correlation_matrix.loc[top_features, top_features], \n",
    "            annot=True, \n",
    "            cmap='coolwarm', \n",
    "            center=0,\n",
    "            vmin=-1,\n",
    "            vmax=1,\n",
    "            fmt='.2f')\n",
    "plt.title('Correlation Matrix of Key Features')\n",
    "plt.tight_layout()\n",
    "plt.show()"
   ]
  },
  {
   "cell_type": "markdown",
   "id": "b478e9fc-0204-478b-862e-ba4e2b8e3139",
   "metadata": {},
   "source": [
    "# Step 8: FINAL CLEANUP SECTION - Drop all original columns now that feature engineering is complete"
   ]
  },
  {
   "cell_type": "code",
   "execution_count": 47,
   "id": "792c5545-42f1-4334-a2fe-e30e6d2d996e",
   "metadata": {},
   "outputs": [
    {
     "name": "stdout",
     "output_type": "stream",
     "text": [
      "\n",
      "Cleaned up original and intermediate columns:\n",
      "Dropped columns: ['FEI Number', 'Event ID', 'Product ID', 'Recall Details', 'Center', 'Center Classification Date', 'Recalling Firm Name', 'Distribution Pattern', 'Recalling Firm City', 'Recalling Firm State', 'Recalling Firm Country', 'Product Type', 'Status', 'Reason for Recall', 'Product Description', 'Product Classification', 'Region', 'Firm_Size_Category', 'City_Size_Category']\n",
      "Baseline shape: (95082, 48)\n"
     ]
    }
   ],
   "source": [
    "# Identify original columns to drop\n",
    "original_cols_to_drop = [\n",
    "    # ID variables\n",
    "    \"FEI Number\", \"Event ID\", \"Product ID\", \"Recall Details\",\n",
    "    # Original columns that have been transformed\n",
    "    \"Center\", \"Center Classification Date\",\n",
    "    \"Recalling Firm Name\", \"Distribution Pattern\",\n",
    "    \"Recalling Firm City\", \"Recalling Firm State\", \"Recalling Firm Country\",\n",
    "    \"Product Type\", \"Status\",\n",
    "    # Text columns that will be processed separately for the hybrid dataset\n",
    "    \"Reason for Recall\", \"Product Description\",\n",
    "    # Original categorical column now fully dummy encoded\n",
    "    \"Product Classification\",\n",
    "    # Intermediate columns\n",
    "    \"Region\", \"Firm_Size_Category\", \"City_Size_Category\"\n",
    "]\n",
    "\n",
    "# Filter to only include columns that exist\n",
    "cols_to_drop = [col for col in original_cols_to_drop if col in df_processed.columns]\n",
    "\n",
    "# Drop the columns\n",
    "df_processed_baseline = df_processed.drop(columns=cols_to_drop)\n",
    "print(\"\\nCleaned up original and intermediate columns:\")\n",
    "print(f\"Dropped columns: {cols_to_drop}\")\n",
    "print(f\"Baseline shape: {df_processed_baseline.shape}\")"
   ]
  },
  {
   "cell_type": "code",
   "execution_count": 48,
   "id": "3871fa02-dff4-4ebe-a5ab-e733cdbb831e",
   "metadata": {},
   "outputs": [
    {
     "name": "stdout",
     "output_type": "stream",
     "text": [
      "\n",
      "Baseline dataset columns:\n",
      "['Event Classification', 'Month_sin', 'Month_cos', 'Day_sin', 'Day_cos', 'DayOfWeek_sin', 'DayOfWeek_cos', 'Years_Since_First', 'Year_Scaled', 'Firm_Recall_Count', 'Firm_Prop_Class_I', 'Firm_Prop_Class_II', 'Firm_Prop_Class_III', 'Distribution_Pattern_Count', 'Distribution_Prop_Class_I', 'Distribution_Prop_Class_II', 'Distribution_Prop_Class_III', 'State_Recall_Count', 'State_Prop_Class_I', 'State_Prop_Class_II', 'State_Prop_Class_III', 'City_Recall_Count', 'City_Class_I_Risk', 'City_Class_II_Risk', 'City_Class_III_Risk', 'Region_Midwest', 'Region_Northeast', 'Region_Other', 'Region_South', 'Region_West', 'Is_US', 'ProdClass_Class II', 'ProdClass_Class III', 'ProductType_Devices', 'ProductType_Drugs', 'ProductType_Food/Cosmetics', 'ProductType_Tobacco', 'ProductType_Veterinary', 'Status_Ongoing', 'Status_Terminated', 'FirmSize_Low Volume', 'FirmSize_Medium Volume', 'FirmSize_Very High Volume', 'FirmSize_Very Low Volume', 'CitySize_Medium', 'CitySize_Small', 'CitySize_Very Large', 'CitySize_Very Small']\n"
     ]
    }
   ],
   "source": [
    "# Preview Baseline dataset columns\n",
    "print(\"\\nBaseline dataset columns:\")\n",
    "print(df_processed_baseline.columns.tolist())"
   ]
  },
  {
   "cell_type": "markdown",
   "id": "df9f1576-8bce-4919-8624-8c5015fc371f",
   "metadata": {},
   "source": [
    "# Step 9: Advanced Text Feature Extraction for 'Reason for Recall' and 'Product Description'"
   ]
  },
  {
   "cell_type": "code",
   "execution_count": 49,
   "id": "a060fbd5-d134-4761-aae0-b6d9ae27ea0e",
   "metadata": {},
   "outputs": [],
   "source": [
    "df_processed_text = df.copy()"
   ]
  },
  {
   "cell_type": "code",
   "execution_count": 50,
   "id": "ba5227b2-8924-4ddd-9427-0ad8d714e735",
   "metadata": {},
   "outputs": [],
   "source": [
    "# Text cleaning function\n",
    "def text_cleaner(text):\n",
    "    if not isinstance(text, str):\n",
    "        return \"\"\n",
    "        \n",
    "    # Convert to lowercase and remove special characters\n",
    "    text = re.sub(r'[^\\w\\s]', ' ', str(text).lower())\n",
    "    \n",
    "    # Remove numbers but keep important regulatory codes intact\n",
    "    text = re.sub(r'\\b\\d+\\b(?!\\s*cfr|\\s*usc|\\s*fda)', ' ', text)\n",
    "    \n",
    "    # Remove extra whitespace\n",
    "    text = re.sub(r'\\s+', ' ', text).strip()\n",
    "    # Remove control characters and encoding artifacts\n",
    "    text = re.sub(r'\\*x[0-9a-f]{4}\\*', ' ', text)\n",
    "    text = re.sub(r'[\\x00-\\x1F\\x7F-\\x9F]', ' ', text)\n",
    "    \n",
    "    # Normalize common terms\n",
    "    text = re.sub(r'\\b(upc|sku|item|code|number)s?\\b', 'product_code', text.lower())\n",
    "    text = re.sub(r'\\b(possible|potential|may|might|could)\\b', 'potential', text)\n",
    "    \n",
    "    # Group measurement units (optional - remove if not relevant)\n",
    "    text = re.sub(r'\\b\\d+\\s*(oz|ml|mg|g)\\b', 'quantity_measure', text)\n",
    "    \n",
    "    # Remove FDA-specific stopwords in addition to standard ones\n",
    "    try:\n",
    "        stop_words = set(stopwords.words('english'))\n",
    "    except:\n",
    "        stop_words = english_stopwords\n",
    "        \n",
    "    fda_stopwords = {'recalled', 'recalling', 'firm', 'product', 'products', 'recall', \n",
    "                     'various', 'due', 'manufactured'}\n",
    "    all_stopwords = stop_words.union(fda_stopwords)\n",
    "    \n",
    "    tokens = text.split()\n",
    "    filtered_tokens = [w for w in tokens if w not in all_stopwords]\n",
    "    \n",
    "    return ' '.join(filtered_tokens)"
   ]
  },
  {
   "cell_type": "code",
   "execution_count": 51,
   "id": "9827a3ee-42fe-498b-a0df-5080a94649dc",
   "metadata": {},
   "outputs": [],
   "source": [
    "# Apply the cleaning function\n",
    "df_processed_text['reason_cleaned'] = df_processed_text['Reason for Recall'].apply(text_cleaner)\n",
    "df_processed_text['description_cleaned'] = df_processed_text['Product Description'].apply(text_cleaner)"
   ]
  },
  {
   "cell_type": "code",
   "execution_count": 52,
   "id": "7b18d4fc-e4d4-4180-af97-a188e41a21b5",
   "metadata": {},
   "outputs": [],
   "source": [
    "# Combine both text fields with different weights\n",
    "df_processed_text['combined_text'] = df_processed_text['reason_cleaned'] + ' ' + df_processed_text['description_cleaned']"
   ]
  },
  {
   "cell_type": "code",
   "execution_count": 53,
   "id": "d5fe7aaf-6357-413b-929e-3d71af42ba7e",
   "metadata": {},
   "outputs": [],
   "source": [
    "# Create TF-IDF features with n-grams\n",
    "tfidf_vectorizer = TfidfVectorizer(\n",
    "    max_features=5000,\n",
    "    min_df=5,                   # Ignore terms that appear in fewer than 5 documents\n",
    "    max_df=0.7,                 # Ignore terms that appear in more than 70% of documents\n",
    "    ngram_range=(1, 2),         # Include unigrams and bigrams\n",
    "    use_idf=True,\n",
    "    sublinear_tf=True           # Apply sublinear tf scaling (1 + log(tf))\n",
    ")"
   ]
  },
  {
   "cell_type": "code",
   "execution_count": 54,
   "id": "8f5c2e37-27f6-45e4-8656-d5af806693cd",
   "metadata": {},
   "outputs": [],
   "source": [
    "# Apply TF-IDF transformation\n",
    "tfidf_matrix = tfidf_vectorizer.fit_transform(df_processed_text['combined_text'])"
   ]
  },
  {
   "cell_type": "code",
   "execution_count": 55,
   "id": "e45ff5af-55fd-4407-9f3b-cf650355c9fc",
   "metadata": {},
   "outputs": [
    {
     "name": "stdout",
     "output_type": "stream",
     "text": [
      "Number of TF-IDF features created: 5000\n"
     ]
    }
   ],
   "source": [
    "# Get the most important features for interpretability\n",
    "feature_names = tfidf_vectorizer.get_feature_names_out()\n",
    "print(f\"Number of TF-IDF features created: {len(feature_names)}\")"
   ]
  },
  {
   "cell_type": "markdown",
   "id": "cbb62fe9-ef76-4278-9971-16b4c0a7050a",
   "metadata": {},
   "source": [
    "Top 20 TF-IDF features:"
   ]
  },
  {
   "cell_type": "code",
   "execution_count": 56,
   "id": "da64ae49-e794-454c-8deb-e2cb24a422a4",
   "metadata": {},
   "outputs": [
    {
     "name": "stdout",
     "output_type": "stream",
     "text": [
      "  _x000d_: 3495.27\n",
      "  product_code: 2750.71\n",
      "  potential: 2676.18\n",
      "  blood: 2313.90\n",
      "  distributed: 2091.84\n",
      "  _x000d_ _x000d_: 1958.80\n",
      "  oz: 1629.56\n",
      "  quantity_measure: 1587.05\n",
      "  ml: 1466.84\n",
      "  donor: 1319.70\n",
      "  inc: 1197.64\n",
      "  system: 1185.05\n",
      "  sterility: 1172.92\n",
      "  rx: 1165.25\n",
      "  ndc: 1164.09\n",
      "  use: 1158.53\n",
      "  red: 1147.64\n",
      "  reduced: 1146.81\n",
      "  net: 1112.10\n",
      "  collected: 1103.72\n"
     ]
    }
   ],
   "source": [
    "# Calculate feature importance by summing TF-IDF values across documents\n",
    "feature_importance = tfidf_matrix.sum(axis=0).A1\n",
    "top_indices = feature_importance.argsort()[-20:][::-1]\n",
    "top_features = [(feature_names[i], feature_importance[i]) for i in top_indices]\n",
    "for feature, importance in top_features:\n",
    "    print(f\"  {feature}: {importance:.2f}\")"
   ]
  },
  {
   "cell_type": "code",
   "execution_count": 57,
   "id": "d15e4529-2b1e-47de-a7ca-937caf288ed9",
   "metadata": {},
   "outputs": [],
   "source": [
    "# Apply dimensionality reduction\n",
    "n_components = min(300, tfidf_matrix.shape[1] - 1)  # Ensure valid number of components\n",
    "svd = TruncatedSVD(n_components=n_components, random_state=42)\n",
    "tfidf_svd = svd.fit_transform(tfidf_matrix)"
   ]
  },
  {
   "cell_type": "code",
   "execution_count": 58,
   "id": "dcde0ef2-d8c1-4c72-9bbd-2c9880751222",
   "metadata": {},
   "outputs": [
    {
     "name": "stdout",
     "output_type": "stream",
     "text": [
      "Explained variance from 300 SVD components: 0.48\n"
     ]
    }
   ],
   "source": [
    "# Calculate explained variance\n",
    "explained_var = svd.explained_variance_ratio_.sum()\n",
    "print(f\"Explained variance from {n_components} SVD components: {explained_var:.2f}\")"
   ]
  },
  {
   "cell_type": "code",
   "execution_count": 59,
   "id": "46097ab6-a6f0-42ee-b297-fcc1336d2add",
   "metadata": {},
   "outputs": [],
   "source": [
    "# Create DataFrame with the reduced features\n",
    "text_features_df = pd.DataFrame(\n",
    "    tfidf_svd, \n",
    "    columns=[f'text_svd_{i}' for i in range(n_components)]\n",
    ")"
   ]
  },
  {
   "cell_type": "code",
   "execution_count": 60,
   "id": "5b05cef6-b816-4ea8-92ee-137cd3f19f07",
   "metadata": {},
   "outputs": [],
   "source": [
    "# Transfer the 'Product Classification' column to text_features_df for class-specific processing\n",
    "text_features_df['Product Classification'] = df_processed_text['Product Classification']"
   ]
  },
  {
   "cell_type": "code",
   "execution_count": 61,
   "id": "b9e2167b-3fc1-4d0f-a352-416830642a2c",
   "metadata": {},
   "outputs": [],
   "source": [
    "# Add the combined_text column to text_features_df\n",
    "text_features_df['combined_text'] = df_processed_text['combined_text']"
   ]
  },
  {
   "cell_type": "code",
   "execution_count": 62,
   "id": "a4d34b89-6e53-45f8-a365-5d72dfcb58c1",
   "metadata": {},
   "outputs": [],
   "source": [
    "# Create product-class-specific text features\n",
    "for prod_class in text_features_df['Product Classification'].unique():\n",
    "    class_idx = text_features_df['Product Classification'] == prod_class\n",
    "    class_freq = text_features_df[class_idx]['combined_text'].str.split().explode().value_counts().head(50)\n",
    "    class_specific_terms = set(class_freq.index)\n",
    "    \n",
    "    # Create a binary feature for presence of class-specific terms\n",
    "    safe_class_name = prod_class.replace(\" \", \"_\").replace(\"/\", \"_\")\n",
    "    text_features_df[f'has_{safe_class_name}_terms'] = text_features_df['combined_text'].apply(\n",
    "        lambda x: any(term in str(x).split() for term in class_specific_terms)\n",
    "    ).astype(int)"
   ]
  },
  {
   "cell_type": "code",
   "execution_count": 63,
   "id": "4379a454-7eb8-4289-9138-87a76aaedb1a",
   "metadata": {},
   "outputs": [],
   "source": [
    "# Remove the temporary columns used for processing\n",
    "text_features_df = text_features_df.drop(columns=['Product Classification', 'combined_text'])"
   ]
  },
  {
   "cell_type": "code",
   "execution_count": 64,
   "id": "d3ed88ec-3779-4769-b010-d352cd369603",
   "metadata": {},
   "outputs": [],
   "source": [
    "# Add the text features to the processed dataframe\n",
    "df_processed_hybrid = pd.concat([df_processed_baseline, text_features_df], axis=1)"
   ]
  },
  {
   "cell_type": "code",
   "execution_count": 65,
   "id": "6c4e17ff-ee00-4b28-b1f1-d04b455a018a",
   "metadata": {},
   "outputs": [
    {
     "name": "stdout",
     "output_type": "stream",
     "text": [
      "\n",
      "Hybrid dataset shape: (95082, 351)\n",
      "\n",
      "Hybrid dataset columns:\n",
      "['Event Classification', 'Month_sin', 'Month_cos', 'Day_sin', 'Day_cos', 'DayOfWeek_sin', 'DayOfWeek_cos', 'Years_Since_First', 'Year_Scaled', 'Firm_Recall_Count', 'Firm_Prop_Class_I', 'Firm_Prop_Class_II', 'Firm_Prop_Class_III', 'Distribution_Pattern_Count', 'Distribution_Prop_Class_I', 'Distribution_Prop_Class_II', 'Distribution_Prop_Class_III', 'State_Recall_Count', 'State_Prop_Class_I', 'State_Prop_Class_II', 'State_Prop_Class_III', 'City_Recall_Count', 'City_Class_I_Risk', 'City_Class_II_Risk', 'City_Class_III_Risk', 'Region_Midwest', 'Region_Northeast', 'Region_Other', 'Region_South', 'Region_West', 'Is_US', 'ProdClass_Class II', 'ProdClass_Class III', 'ProductType_Devices', 'ProductType_Drugs', 'ProductType_Food/Cosmetics', 'ProductType_Tobacco', 'ProductType_Veterinary', 'Status_Ongoing', 'Status_Terminated', 'FirmSize_Low Volume', 'FirmSize_Medium Volume', 'FirmSize_Very High Volume', 'FirmSize_Very Low Volume', 'CitySize_Medium', 'CitySize_Small', 'CitySize_Very Large', 'CitySize_Very Small', 'text_svd_0', 'text_svd_1', 'text_svd_2', 'text_svd_3', 'text_svd_4', 'text_svd_5', 'text_svd_6', 'text_svd_7', 'text_svd_8', 'text_svd_9', 'text_svd_10', 'text_svd_11', 'text_svd_12', 'text_svd_13', 'text_svd_14', 'text_svd_15', 'text_svd_16', 'text_svd_17', 'text_svd_18', 'text_svd_19', 'text_svd_20', 'text_svd_21', 'text_svd_22', 'text_svd_23', 'text_svd_24', 'text_svd_25', 'text_svd_26', 'text_svd_27', 'text_svd_28', 'text_svd_29', 'text_svd_30', 'text_svd_31', 'text_svd_32', 'text_svd_33', 'text_svd_34', 'text_svd_35', 'text_svd_36', 'text_svd_37', 'text_svd_38', 'text_svd_39', 'text_svd_40', 'text_svd_41', 'text_svd_42', 'text_svd_43', 'text_svd_44', 'text_svd_45', 'text_svd_46', 'text_svd_47', 'text_svd_48', 'text_svd_49', 'text_svd_50', 'text_svd_51', 'text_svd_52', 'text_svd_53', 'text_svd_54', 'text_svd_55', 'text_svd_56', 'text_svd_57', 'text_svd_58', 'text_svd_59', 'text_svd_60', 'text_svd_61', 'text_svd_62', 'text_svd_63', 'text_svd_64', 'text_svd_65', 'text_svd_66', 'text_svd_67', 'text_svd_68', 'text_svd_69', 'text_svd_70', 'text_svd_71', 'text_svd_72', 'text_svd_73', 'text_svd_74', 'text_svd_75', 'text_svd_76', 'text_svd_77', 'text_svd_78', 'text_svd_79', 'text_svd_80', 'text_svd_81', 'text_svd_82', 'text_svd_83', 'text_svd_84', 'text_svd_85', 'text_svd_86', 'text_svd_87', 'text_svd_88', 'text_svd_89', 'text_svd_90', 'text_svd_91', 'text_svd_92', 'text_svd_93', 'text_svd_94', 'text_svd_95', 'text_svd_96', 'text_svd_97', 'text_svd_98', 'text_svd_99', 'text_svd_100', 'text_svd_101', 'text_svd_102', 'text_svd_103', 'text_svd_104', 'text_svd_105', 'text_svd_106', 'text_svd_107', 'text_svd_108', 'text_svd_109', 'text_svd_110', 'text_svd_111', 'text_svd_112', 'text_svd_113', 'text_svd_114', 'text_svd_115', 'text_svd_116', 'text_svd_117', 'text_svd_118', 'text_svd_119', 'text_svd_120', 'text_svd_121', 'text_svd_122', 'text_svd_123', 'text_svd_124', 'text_svd_125', 'text_svd_126', 'text_svd_127', 'text_svd_128', 'text_svd_129', 'text_svd_130', 'text_svd_131', 'text_svd_132', 'text_svd_133', 'text_svd_134', 'text_svd_135', 'text_svd_136', 'text_svd_137', 'text_svd_138', 'text_svd_139', 'text_svd_140', 'text_svd_141', 'text_svd_142', 'text_svd_143', 'text_svd_144', 'text_svd_145', 'text_svd_146', 'text_svd_147', 'text_svd_148', 'text_svd_149', 'text_svd_150', 'text_svd_151', 'text_svd_152', 'text_svd_153', 'text_svd_154', 'text_svd_155', 'text_svd_156', 'text_svd_157', 'text_svd_158', 'text_svd_159', 'text_svd_160', 'text_svd_161', 'text_svd_162', 'text_svd_163', 'text_svd_164', 'text_svd_165', 'text_svd_166', 'text_svd_167', 'text_svd_168', 'text_svd_169', 'text_svd_170', 'text_svd_171', 'text_svd_172', 'text_svd_173', 'text_svd_174', 'text_svd_175', 'text_svd_176', 'text_svd_177', 'text_svd_178', 'text_svd_179', 'text_svd_180', 'text_svd_181', 'text_svd_182', 'text_svd_183', 'text_svd_184', 'text_svd_185', 'text_svd_186', 'text_svd_187', 'text_svd_188', 'text_svd_189', 'text_svd_190', 'text_svd_191', 'text_svd_192', 'text_svd_193', 'text_svd_194', 'text_svd_195', 'text_svd_196', 'text_svd_197', 'text_svd_198', 'text_svd_199', 'text_svd_200', 'text_svd_201', 'text_svd_202', 'text_svd_203', 'text_svd_204', 'text_svd_205', 'text_svd_206', 'text_svd_207', 'text_svd_208', 'text_svd_209', 'text_svd_210', 'text_svd_211', 'text_svd_212', 'text_svd_213', 'text_svd_214', 'text_svd_215', 'text_svd_216', 'text_svd_217', 'text_svd_218', 'text_svd_219', 'text_svd_220', 'text_svd_221', 'text_svd_222', 'text_svd_223', 'text_svd_224', 'text_svd_225', 'text_svd_226', 'text_svd_227', 'text_svd_228', 'text_svd_229', 'text_svd_230', 'text_svd_231', 'text_svd_232', 'text_svd_233', 'text_svd_234', 'text_svd_235', 'text_svd_236', 'text_svd_237', 'text_svd_238', 'text_svd_239', 'text_svd_240', 'text_svd_241', 'text_svd_242', 'text_svd_243', 'text_svd_244', 'text_svd_245', 'text_svd_246', 'text_svd_247', 'text_svd_248', 'text_svd_249', 'text_svd_250', 'text_svd_251', 'text_svd_252', 'text_svd_253', 'text_svd_254', 'text_svd_255', 'text_svd_256', 'text_svd_257', 'text_svd_258', 'text_svd_259', 'text_svd_260', 'text_svd_261', 'text_svd_262', 'text_svd_263', 'text_svd_264', 'text_svd_265', 'text_svd_266', 'text_svd_267', 'text_svd_268', 'text_svd_269', 'text_svd_270', 'text_svd_271', 'text_svd_272', 'text_svd_273', 'text_svd_274', 'text_svd_275', 'text_svd_276', 'text_svd_277', 'text_svd_278', 'text_svd_279', 'text_svd_280', 'text_svd_281', 'text_svd_282', 'text_svd_283', 'text_svd_284', 'text_svd_285', 'text_svd_286', 'text_svd_287', 'text_svd_288', 'text_svd_289', 'text_svd_290', 'text_svd_291', 'text_svd_292', 'text_svd_293', 'text_svd_294', 'text_svd_295', 'text_svd_296', 'text_svd_297', 'text_svd_298', 'text_svd_299', 'has_Class_I_terms', 'has_Class_II_terms', 'has_Class_III_terms']\n"
     ]
    }
   ],
   "source": [
    "# Shape\n",
    "print(f\"\\nHybrid dataset shape: {df_processed_hybrid.shape}\")\n",
    "\n",
    "# Preview Hybrid dataset columns\n",
    "print(\"\\nHybrid dataset columns:\")\n",
    "print(df_processed_hybrid.columns.tolist())"
   ]
  },
  {
   "cell_type": "markdown",
   "id": "fadb830c-be53-4a77-8b91-f749f3b4161b",
   "metadata": {},
   "source": [
    "# Step 10: Implementing Feature Selection using Wrapper Methods\n",
    "Since highly correlated variables were identified in Step 7, use feature selection to create more parsimonious models by removing redundant or non-informative features. Split data into training and validation sets to avoid selection bias"
   ]
  },
  {
   "cell_type": "code",
   "execution_count": 66,
   "id": "4284f333-b9b2-4844-a6f2-8aa844d6e58f",
   "metadata": {},
   "outputs": [],
   "source": [
    "# Define features and target variable\n",
    "X = df_processed_hybrid.drop('Event Classification', axis=1)\n",
    "y = df_processed_hybrid['Event Classification']"
   ]
  },
  {
   "cell_type": "code",
   "execution_count": 67,
   "id": "2c5a5df3-4586-4a82-bbef-d0f5fc915503",
   "metadata": {},
   "outputs": [
    {
     "name": "stdout",
     "output_type": "stream",
     "text": [
      "This is a 3-class classification problem with classes: ['Class I' 'Class II' 'Class III']\n"
     ]
    }
   ],
   "source": [
    "# Identify the unique classes\n",
    "classes = np.unique(y)\n",
    "n_classes = len(classes)\n",
    "print(f\"This is a {n_classes}-class classification problem with classes: {classes}\")"
   ]
  },
  {
   "cell_type": "code",
   "execution_count": 68,
   "id": "cbcf9eb3-637d-4d2d-8d57-6d508b414fff",
   "metadata": {},
   "outputs": [
    {
     "name": "stdout",
     "output_type": "stream",
     "text": [
      "Training set shape: (76065, 350)\n",
      "Validation set shape: (19017, 350)\n"
     ]
    }
   ],
   "source": [
    "# Create a train/validation split (80/20) while preserving class distribution\n",
    "X_train, X_val, y_train, y_val = train_test_split(X, y, test_size=0.2, \n",
    "                                                 random_state=42, \n",
    "                                                 stratify=y) # handles class imbalance\n",
    "\n",
    "print(f\"Training set shape: {X_train.shape}\")\n",
    "print(f\"Validation set shape: {X_val.shape}\")"
   ]
  },
  {
   "cell_type": "markdown",
   "id": "f490f54f-0cfb-4802-a64f-9128afd75206",
   "metadata": {},
   "source": [
    "Implement Recursive Feature Elimination (RFE) and Apply Recursive Feature Elimination with Cross-Validation (RFECV)"
   ]
  },
  {
   "cell_type": "code",
   "execution_count": 69,
   "id": "7667265d-8207-48eb-b9ef-4f82f6b2a7a6",
   "metadata": {},
   "outputs": [
    {
     "name": "stderr",
     "output_type": "stream",
     "text": [
      "C:\\Users\\Dell\\miniconda3\\envs\\demo8\\lib\\site-packages\\sklearn\\metrics\\_scorer.py:548: FutureWarning: The `needs_threshold` and `needs_proba` parameter are deprecated in version 1.4 and will be removed in 1.6. You can either let `response_method` be `None` or set it to `predict` to preserve the same behaviour.\n",
      "  warnings.warn(\n"
     ]
    }
   ],
   "source": [
    "# Define a custom multi-class ROC AUC scorer\n",
    "def multi_class_roc_auc(y_true, y_pred_proba):\n",
    "    y_true_bin = label_binarize(y_true, classes=np.unique(y_true))\n",
    "    return roc_auc_score(y_true_bin, y_pred_proba, multi_class='ovr', average='macro')\n",
    "\n",
    "multi_roc_auc_scorer = make_scorer(multi_class_roc_auc, needs_proba=True)"
   ]
  },
  {
   "cell_type": "markdown",
   "id": "4a4530e6-6c7d-4685-a58f-020e1995e585",
   "metadata": {},
   "source": [
    "Initialize a base model for feature selection"
   ]
  },
  {
   "cell_type": "code",
   "execution_count": 70,
   "id": "7da41bc7-b9eb-4f76-a3b4-1ae60ed9c6ac",
   "metadata": {},
   "outputs": [],
   "source": [
    "# Random Forest handles mixed data types\n",
    "base_model = RandomForestClassifier(n_estimators=100, random_state=42, n_jobs=-1)"
   ]
  },
  {
   "cell_type": "markdown",
   "id": "8d21f4b9-178d-4730-b6bf-02bca2339a1b",
   "metadata": {},
   "source": [
    "Set up RFE with cross-validation to find the optimal number of features"
   ]
  },
  {
   "cell_type": "code",
   "execution_count": 71,
   "id": "9d627843-4c2a-4ca7-b188-5145bd49f6f6",
   "metadata": {},
   "outputs": [],
   "source": [
    "# Use 5-fold cross-validation and our custom multi-class ROC AUC as the scoring metric\n",
    "rfecv = RFECV(\n",
    "    estimator=base_model,\n",
    "    step=5,  # Remove 5 features at each iteration to speed up the process\n",
    "    cv=5,    # 5-fold cross-validation\n",
    "    scoring=multi_roc_auc_scorer,\n",
    "    min_features_to_select=10,  # Don't go below 10 features\n",
    "    n_jobs=-1,  # Use all available cores\n",
    "    verbose=1\n",
    ")"
   ]
  },
  {
   "cell_type": "code",
   "execution_count": 72,
   "id": "472fa7b4-74b4-4bab-82cf-257e8861d665",
   "metadata": {},
   "outputs": [
    {
     "name": "stdout",
     "output_type": "stream",
     "text": [
      "Fitting estimator with 350 features.\n",
      "Fitting estimator with 345 features.\n",
      "Fitting estimator with 340 features.\n",
      "Fitting estimator with 335 features.\n",
      "Fitting estimator with 330 features.\n",
      "Fitting estimator with 325 features.\n",
      "Fitting estimator with 320 features.\n",
      "Fitting estimator with 315 features.\n",
      "Fitting estimator with 310 features.\n",
      "Fitting estimator with 305 features.\n",
      "Fitting estimator with 300 features.\n",
      "Fitting estimator with 295 features.\n",
      "Fitting estimator with 290 features.\n",
      "Fitting estimator with 285 features.\n",
      "Fitting estimator with 280 features.\n",
      "Fitting estimator with 275 features.\n",
      "Fitting estimator with 270 features.\n",
      "Fitting estimator with 265 features.\n",
      "Fitting estimator with 260 features.\n",
      "Fitting estimator with 255 features.\n",
      "Fitting estimator with 250 features.\n",
      "Fitting estimator with 245 features.\n",
      "Fitting estimator with 240 features.\n",
      "Fitting estimator with 235 features.\n",
      "Fitting estimator with 230 features.\n",
      "Fitting estimator with 225 features.\n",
      "Fitting estimator with 220 features.\n",
      "Fitting estimator with 215 features.\n",
      "Fitting estimator with 210 features.\n",
      "Fitting estimator with 205 features.\n",
      "Fitting estimator with 200 features.\n",
      "Fitting estimator with 195 features.\n",
      "Fitting estimator with 190 features.\n",
      "Fitting estimator with 185 features.\n",
      "Fitting estimator with 180 features.\n",
      "Fitting estimator with 175 features.\n",
      "Fitting estimator with 170 features.\n",
      "Fitting estimator with 165 features.\n",
      "Fitting estimator with 160 features.\n",
      "Fitting estimator with 155 features.\n",
      "Fitting estimator with 150 features.\n",
      "Fitting estimator with 145 features.\n",
      "Fitting estimator with 140 features.\n",
      "Fitting estimator with 135 features.\n",
      "Fitting estimator with 130 features.\n",
      "Fitting estimator with 125 features.\n",
      "Fitting estimator with 120 features.\n",
      "Fitting estimator with 115 features.\n",
      "Fitting estimator with 110 features.\n",
      "Fitting estimator with 105 features.\n",
      "Fitting estimator with 100 features.\n",
      "Fitting estimator with 95 features.\n",
      "Fitting estimator with 90 features.\n",
      "Fitting estimator with 85 features.\n",
      "Fitting estimator with 80 features.\n",
      "Fitting estimator with 75 features.\n"
     ]
    },
    {
     "data": {
      "text/html": [
       "<style>#sk-container-id-1 {\n",
       "  /* Definition of color scheme common for light and dark mode */\n",
       "  --sklearn-color-text: black;\n",
       "  --sklearn-color-line: gray;\n",
       "  /* Definition of color scheme for unfitted estimators */\n",
       "  --sklearn-color-unfitted-level-0: #fff5e6;\n",
       "  --sklearn-color-unfitted-level-1: #f6e4d2;\n",
       "  --sklearn-color-unfitted-level-2: #ffe0b3;\n",
       "  --sklearn-color-unfitted-level-3: chocolate;\n",
       "  /* Definition of color scheme for fitted estimators */\n",
       "  --sklearn-color-fitted-level-0: #f0f8ff;\n",
       "  --sklearn-color-fitted-level-1: #d4ebff;\n",
       "  --sklearn-color-fitted-level-2: #b3dbfd;\n",
       "  --sklearn-color-fitted-level-3: cornflowerblue;\n",
       "\n",
       "  /* Specific color for light theme */\n",
       "  --sklearn-color-text-on-default-background: var(--sg-text-color, var(--theme-code-foreground, var(--jp-content-font-color1, black)));\n",
       "  --sklearn-color-background: var(--sg-background-color, var(--theme-background, var(--jp-layout-color0, white)));\n",
       "  --sklearn-color-border-box: var(--sg-text-color, var(--theme-code-foreground, var(--jp-content-font-color1, black)));\n",
       "  --sklearn-color-icon: #696969;\n",
       "\n",
       "  @media (prefers-color-scheme: dark) {\n",
       "    /* Redefinition of color scheme for dark theme */\n",
       "    --sklearn-color-text-on-default-background: var(--sg-text-color, var(--theme-code-foreground, var(--jp-content-font-color1, white)));\n",
       "    --sklearn-color-background: var(--sg-background-color, var(--theme-background, var(--jp-layout-color0, #111)));\n",
       "    --sklearn-color-border-box: var(--sg-text-color, var(--theme-code-foreground, var(--jp-content-font-color1, white)));\n",
       "    --sklearn-color-icon: #878787;\n",
       "  }\n",
       "}\n",
       "\n",
       "#sk-container-id-1 {\n",
       "  color: var(--sklearn-color-text);\n",
       "}\n",
       "\n",
       "#sk-container-id-1 pre {\n",
       "  padding: 0;\n",
       "}\n",
       "\n",
       "#sk-container-id-1 input.sk-hidden--visually {\n",
       "  border: 0;\n",
       "  clip: rect(1px 1px 1px 1px);\n",
       "  clip: rect(1px, 1px, 1px, 1px);\n",
       "  height: 1px;\n",
       "  margin: -1px;\n",
       "  overflow: hidden;\n",
       "  padding: 0;\n",
       "  position: absolute;\n",
       "  width: 1px;\n",
       "}\n",
       "\n",
       "#sk-container-id-1 div.sk-dashed-wrapped {\n",
       "  border: 1px dashed var(--sklearn-color-line);\n",
       "  margin: 0 0.4em 0.5em 0.4em;\n",
       "  box-sizing: border-box;\n",
       "  padding-bottom: 0.4em;\n",
       "  background-color: var(--sklearn-color-background);\n",
       "}\n",
       "\n",
       "#sk-container-id-1 div.sk-container {\n",
       "  /* jupyter's `normalize.less` sets `[hidden] { display: none; }`\n",
       "     but bootstrap.min.css set `[hidden] { display: none !important; }`\n",
       "     so we also need the `!important` here to be able to override the\n",
       "     default hidden behavior on the sphinx rendered scikit-learn.org.\n",
       "     See: https://github.com/scikit-learn/scikit-learn/issues/21755 */\n",
       "  display: inline-block !important;\n",
       "  position: relative;\n",
       "}\n",
       "\n",
       "#sk-container-id-1 div.sk-text-repr-fallback {\n",
       "  display: none;\n",
       "}\n",
       "\n",
       "div.sk-parallel-item,\n",
       "div.sk-serial,\n",
       "div.sk-item {\n",
       "  /* draw centered vertical line to link estimators */\n",
       "  background-image: linear-gradient(var(--sklearn-color-text-on-default-background), var(--sklearn-color-text-on-default-background));\n",
       "  background-size: 2px 100%;\n",
       "  background-repeat: no-repeat;\n",
       "  background-position: center center;\n",
       "}\n",
       "\n",
       "/* Parallel-specific style estimator block */\n",
       "\n",
       "#sk-container-id-1 div.sk-parallel-item::after {\n",
       "  content: \"\";\n",
       "  width: 100%;\n",
       "  border-bottom: 2px solid var(--sklearn-color-text-on-default-background);\n",
       "  flex-grow: 1;\n",
       "}\n",
       "\n",
       "#sk-container-id-1 div.sk-parallel {\n",
       "  display: flex;\n",
       "  align-items: stretch;\n",
       "  justify-content: center;\n",
       "  background-color: var(--sklearn-color-background);\n",
       "  position: relative;\n",
       "}\n",
       "\n",
       "#sk-container-id-1 div.sk-parallel-item {\n",
       "  display: flex;\n",
       "  flex-direction: column;\n",
       "}\n",
       "\n",
       "#sk-container-id-1 div.sk-parallel-item:first-child::after {\n",
       "  align-self: flex-end;\n",
       "  width: 50%;\n",
       "}\n",
       "\n",
       "#sk-container-id-1 div.sk-parallel-item:last-child::after {\n",
       "  align-self: flex-start;\n",
       "  width: 50%;\n",
       "}\n",
       "\n",
       "#sk-container-id-1 div.sk-parallel-item:only-child::after {\n",
       "  width: 0;\n",
       "}\n",
       "\n",
       "/* Serial-specific style estimator block */\n",
       "\n",
       "#sk-container-id-1 div.sk-serial {\n",
       "  display: flex;\n",
       "  flex-direction: column;\n",
       "  align-items: center;\n",
       "  background-color: var(--sklearn-color-background);\n",
       "  padding-right: 1em;\n",
       "  padding-left: 1em;\n",
       "}\n",
       "\n",
       "\n",
       "/* Toggleable style: style used for estimator/Pipeline/ColumnTransformer box that is\n",
       "clickable and can be expanded/collapsed.\n",
       "- Pipeline and ColumnTransformer use this feature and define the default style\n",
       "- Estimators will overwrite some part of the style using the `sk-estimator` class\n",
       "*/\n",
       "\n",
       "/* Pipeline and ColumnTransformer style (default) */\n",
       "\n",
       "#sk-container-id-1 div.sk-toggleable {\n",
       "  /* Default theme specific background. It is overwritten whether we have a\n",
       "  specific estimator or a Pipeline/ColumnTransformer */\n",
       "  background-color: var(--sklearn-color-background);\n",
       "}\n",
       "\n",
       "/* Toggleable label */\n",
       "#sk-container-id-1 label.sk-toggleable__label {\n",
       "  cursor: pointer;\n",
       "  display: block;\n",
       "  width: 100%;\n",
       "  margin-bottom: 0;\n",
       "  padding: 0.5em;\n",
       "  box-sizing: border-box;\n",
       "  text-align: center;\n",
       "}\n",
       "\n",
       "#sk-container-id-1 label.sk-toggleable__label-arrow:before {\n",
       "  /* Arrow on the left of the label */\n",
       "  content: \"▸\";\n",
       "  float: left;\n",
       "  margin-right: 0.25em;\n",
       "  color: var(--sklearn-color-icon);\n",
       "}\n",
       "\n",
       "#sk-container-id-1 label.sk-toggleable__label-arrow:hover:before {\n",
       "  color: var(--sklearn-color-text);\n",
       "}\n",
       "\n",
       "/* Toggleable content - dropdown */\n",
       "\n",
       "#sk-container-id-1 div.sk-toggleable__content {\n",
       "  max-height: 0;\n",
       "  max-width: 0;\n",
       "  overflow: hidden;\n",
       "  text-align: left;\n",
       "  /* unfitted */\n",
       "  background-color: var(--sklearn-color-unfitted-level-0);\n",
       "}\n",
       "\n",
       "#sk-container-id-1 div.sk-toggleable__content.fitted {\n",
       "  /* fitted */\n",
       "  background-color: var(--sklearn-color-fitted-level-0);\n",
       "}\n",
       "\n",
       "#sk-container-id-1 div.sk-toggleable__content pre {\n",
       "  margin: 0.2em;\n",
       "  border-radius: 0.25em;\n",
       "  color: var(--sklearn-color-text);\n",
       "  /* unfitted */\n",
       "  background-color: var(--sklearn-color-unfitted-level-0);\n",
       "}\n",
       "\n",
       "#sk-container-id-1 div.sk-toggleable__content.fitted pre {\n",
       "  /* unfitted */\n",
       "  background-color: var(--sklearn-color-fitted-level-0);\n",
       "}\n",
       "\n",
       "#sk-container-id-1 input.sk-toggleable__control:checked~div.sk-toggleable__content {\n",
       "  /* Expand drop-down */\n",
       "  max-height: 200px;\n",
       "  max-width: 100%;\n",
       "  overflow: auto;\n",
       "}\n",
       "\n",
       "#sk-container-id-1 input.sk-toggleable__control:checked~label.sk-toggleable__label-arrow:before {\n",
       "  content: \"▾\";\n",
       "}\n",
       "\n",
       "/* Pipeline/ColumnTransformer-specific style */\n",
       "\n",
       "#sk-container-id-1 div.sk-label input.sk-toggleable__control:checked~label.sk-toggleable__label {\n",
       "  color: var(--sklearn-color-text);\n",
       "  background-color: var(--sklearn-color-unfitted-level-2);\n",
       "}\n",
       "\n",
       "#sk-container-id-1 div.sk-label.fitted input.sk-toggleable__control:checked~label.sk-toggleable__label {\n",
       "  background-color: var(--sklearn-color-fitted-level-2);\n",
       "}\n",
       "\n",
       "/* Estimator-specific style */\n",
       "\n",
       "/* Colorize estimator box */\n",
       "#sk-container-id-1 div.sk-estimator input.sk-toggleable__control:checked~label.sk-toggleable__label {\n",
       "  /* unfitted */\n",
       "  background-color: var(--sklearn-color-unfitted-level-2);\n",
       "}\n",
       "\n",
       "#sk-container-id-1 div.sk-estimator.fitted input.sk-toggleable__control:checked~label.sk-toggleable__label {\n",
       "  /* fitted */\n",
       "  background-color: var(--sklearn-color-fitted-level-2);\n",
       "}\n",
       "\n",
       "#sk-container-id-1 div.sk-label label.sk-toggleable__label,\n",
       "#sk-container-id-1 div.sk-label label {\n",
       "  /* The background is the default theme color */\n",
       "  color: var(--sklearn-color-text-on-default-background);\n",
       "}\n",
       "\n",
       "/* On hover, darken the color of the background */\n",
       "#sk-container-id-1 div.sk-label:hover label.sk-toggleable__label {\n",
       "  color: var(--sklearn-color-text);\n",
       "  background-color: var(--sklearn-color-unfitted-level-2);\n",
       "}\n",
       "\n",
       "/* Label box, darken color on hover, fitted */\n",
       "#sk-container-id-1 div.sk-label.fitted:hover label.sk-toggleable__label.fitted {\n",
       "  color: var(--sklearn-color-text);\n",
       "  background-color: var(--sklearn-color-fitted-level-2);\n",
       "}\n",
       "\n",
       "/* Estimator label */\n",
       "\n",
       "#sk-container-id-1 div.sk-label label {\n",
       "  font-family: monospace;\n",
       "  font-weight: bold;\n",
       "  display: inline-block;\n",
       "  line-height: 1.2em;\n",
       "}\n",
       "\n",
       "#sk-container-id-1 div.sk-label-container {\n",
       "  text-align: center;\n",
       "}\n",
       "\n",
       "/* Estimator-specific */\n",
       "#sk-container-id-1 div.sk-estimator {\n",
       "  font-family: monospace;\n",
       "  border: 1px dotted var(--sklearn-color-border-box);\n",
       "  border-radius: 0.25em;\n",
       "  box-sizing: border-box;\n",
       "  margin-bottom: 0.5em;\n",
       "  /* unfitted */\n",
       "  background-color: var(--sklearn-color-unfitted-level-0);\n",
       "}\n",
       "\n",
       "#sk-container-id-1 div.sk-estimator.fitted {\n",
       "  /* fitted */\n",
       "  background-color: var(--sklearn-color-fitted-level-0);\n",
       "}\n",
       "\n",
       "/* on hover */\n",
       "#sk-container-id-1 div.sk-estimator:hover {\n",
       "  /* unfitted */\n",
       "  background-color: var(--sklearn-color-unfitted-level-2);\n",
       "}\n",
       "\n",
       "#sk-container-id-1 div.sk-estimator.fitted:hover {\n",
       "  /* fitted */\n",
       "  background-color: var(--sklearn-color-fitted-level-2);\n",
       "}\n",
       "\n",
       "/* Specification for estimator info (e.g. \"i\" and \"?\") */\n",
       "\n",
       "/* Common style for \"i\" and \"?\" */\n",
       "\n",
       ".sk-estimator-doc-link,\n",
       "a:link.sk-estimator-doc-link,\n",
       "a:visited.sk-estimator-doc-link {\n",
       "  float: right;\n",
       "  font-size: smaller;\n",
       "  line-height: 1em;\n",
       "  font-family: monospace;\n",
       "  background-color: var(--sklearn-color-background);\n",
       "  border-radius: 1em;\n",
       "  height: 1em;\n",
       "  width: 1em;\n",
       "  text-decoration: none !important;\n",
       "  margin-left: 1ex;\n",
       "  /* unfitted */\n",
       "  border: var(--sklearn-color-unfitted-level-1) 1pt solid;\n",
       "  color: var(--sklearn-color-unfitted-level-1);\n",
       "}\n",
       "\n",
       ".sk-estimator-doc-link.fitted,\n",
       "a:link.sk-estimator-doc-link.fitted,\n",
       "a:visited.sk-estimator-doc-link.fitted {\n",
       "  /* fitted */\n",
       "  border: var(--sklearn-color-fitted-level-1) 1pt solid;\n",
       "  color: var(--sklearn-color-fitted-level-1);\n",
       "}\n",
       "\n",
       "/* On hover */\n",
       "div.sk-estimator:hover .sk-estimator-doc-link:hover,\n",
       ".sk-estimator-doc-link:hover,\n",
       "div.sk-label-container:hover .sk-estimator-doc-link:hover,\n",
       ".sk-estimator-doc-link:hover {\n",
       "  /* unfitted */\n",
       "  background-color: var(--sklearn-color-unfitted-level-3);\n",
       "  color: var(--sklearn-color-background);\n",
       "  text-decoration: none;\n",
       "}\n",
       "\n",
       "div.sk-estimator.fitted:hover .sk-estimator-doc-link.fitted:hover,\n",
       ".sk-estimator-doc-link.fitted:hover,\n",
       "div.sk-label-container:hover .sk-estimator-doc-link.fitted:hover,\n",
       ".sk-estimator-doc-link.fitted:hover {\n",
       "  /* fitted */\n",
       "  background-color: var(--sklearn-color-fitted-level-3);\n",
       "  color: var(--sklearn-color-background);\n",
       "  text-decoration: none;\n",
       "}\n",
       "\n",
       "/* Span, style for the box shown on hovering the info icon */\n",
       ".sk-estimator-doc-link span {\n",
       "  display: none;\n",
       "  z-index: 9999;\n",
       "  position: relative;\n",
       "  font-weight: normal;\n",
       "  right: .2ex;\n",
       "  padding: .5ex;\n",
       "  margin: .5ex;\n",
       "  width: min-content;\n",
       "  min-width: 20ex;\n",
       "  max-width: 50ex;\n",
       "  color: var(--sklearn-color-text);\n",
       "  box-shadow: 2pt 2pt 4pt #999;\n",
       "  /* unfitted */\n",
       "  background: var(--sklearn-color-unfitted-level-0);\n",
       "  border: .5pt solid var(--sklearn-color-unfitted-level-3);\n",
       "}\n",
       "\n",
       ".sk-estimator-doc-link.fitted span {\n",
       "  /* fitted */\n",
       "  background: var(--sklearn-color-fitted-level-0);\n",
       "  border: var(--sklearn-color-fitted-level-3);\n",
       "}\n",
       "\n",
       ".sk-estimator-doc-link:hover span {\n",
       "  display: block;\n",
       "}\n",
       "\n",
       "/* \"?\"-specific style due to the `<a>` HTML tag */\n",
       "\n",
       "#sk-container-id-1 a.estimator_doc_link {\n",
       "  float: right;\n",
       "  font-size: 1rem;\n",
       "  line-height: 1em;\n",
       "  font-family: monospace;\n",
       "  background-color: var(--sklearn-color-background);\n",
       "  border-radius: 1rem;\n",
       "  height: 1rem;\n",
       "  width: 1rem;\n",
       "  text-decoration: none;\n",
       "  /* unfitted */\n",
       "  color: var(--sklearn-color-unfitted-level-1);\n",
       "  border: var(--sklearn-color-unfitted-level-1) 1pt solid;\n",
       "}\n",
       "\n",
       "#sk-container-id-1 a.estimator_doc_link.fitted {\n",
       "  /* fitted */\n",
       "  border: var(--sklearn-color-fitted-level-1) 1pt solid;\n",
       "  color: var(--sklearn-color-fitted-level-1);\n",
       "}\n",
       "\n",
       "/* On hover */\n",
       "#sk-container-id-1 a.estimator_doc_link:hover {\n",
       "  /* unfitted */\n",
       "  background-color: var(--sklearn-color-unfitted-level-3);\n",
       "  color: var(--sklearn-color-background);\n",
       "  text-decoration: none;\n",
       "}\n",
       "\n",
       "#sk-container-id-1 a.estimator_doc_link.fitted:hover {\n",
       "  /* fitted */\n",
       "  background-color: var(--sklearn-color-fitted-level-3);\n",
       "}\n",
       "</style><div id=\"sk-container-id-1\" class=\"sk-top-container\"><div class=\"sk-text-repr-fallback\"><pre>RFECV(cv=5, estimator=RandomForestClassifier(n_jobs=-1, random_state=42),\n",
       "      min_features_to_select=10, n_jobs=-1,\n",
       "      scoring=make_scorer(multi_class_roc_auc, response_method=&#x27;predict_proba&#x27;),\n",
       "      step=5, verbose=1)</pre><b>In a Jupyter environment, please rerun this cell to show the HTML representation or trust the notebook. <br />On GitHub, the HTML representation is unable to render, please try loading this page with nbviewer.org.</b></div><div class=\"sk-container\" hidden><div class=\"sk-item sk-dashed-wrapped\"><div class=\"sk-label-container\"><div class=\"sk-label fitted sk-toggleable\"><input class=\"sk-toggleable__control sk-hidden--visually\" id=\"sk-estimator-id-1\" type=\"checkbox\" ><label for=\"sk-estimator-id-1\" class=\"sk-toggleable__label fitted sk-toggleable__label-arrow fitted\">&nbsp;&nbsp;RFECV<a class=\"sk-estimator-doc-link fitted\" rel=\"noreferrer\" target=\"_blank\" href=\"https://scikit-learn.org/1.4/modules/generated/sklearn.feature_selection.RFECV.html\">?<span>Documentation for RFECV</span></a><span class=\"sk-estimator-doc-link fitted\">i<span>Fitted</span></span></label><div class=\"sk-toggleable__content fitted\"><pre>RFECV(cv=5, estimator=RandomForestClassifier(n_jobs=-1, random_state=42),\n",
       "      min_features_to_select=10, n_jobs=-1,\n",
       "      scoring=make_scorer(multi_class_roc_auc, response_method=&#x27;predict_proba&#x27;),\n",
       "      step=5, verbose=1)</pre></div> </div></div><div class=\"sk-parallel\"><div class=\"sk-parallel-item\"><div class=\"sk-item\"><div class=\"sk-label-container\"><div class=\"sk-label fitted sk-toggleable\"><input class=\"sk-toggleable__control sk-hidden--visually\" id=\"sk-estimator-id-2\" type=\"checkbox\" ><label for=\"sk-estimator-id-2\" class=\"sk-toggleable__label fitted sk-toggleable__label-arrow fitted\">estimator: RandomForestClassifier</label><div class=\"sk-toggleable__content fitted\"><pre>RandomForestClassifier(n_jobs=-1, random_state=42)</pre></div> </div></div><div class=\"sk-serial\"><div class=\"sk-item\"><div class=\"sk-estimator fitted sk-toggleable\"><input class=\"sk-toggleable__control sk-hidden--visually\" id=\"sk-estimator-id-3\" type=\"checkbox\" ><label for=\"sk-estimator-id-3\" class=\"sk-toggleable__label fitted sk-toggleable__label-arrow fitted\">&nbsp;RandomForestClassifier<a class=\"sk-estimator-doc-link fitted\" rel=\"noreferrer\" target=\"_blank\" href=\"https://scikit-learn.org/1.4/modules/generated/sklearn.ensemble.RandomForestClassifier.html\">?<span>Documentation for RandomForestClassifier</span></a></label><div class=\"sk-toggleable__content fitted\"><pre>RandomForestClassifier(n_jobs=-1, random_state=42)</pre></div> </div></div></div></div></div></div></div></div></div>"
      ],
      "text/plain": [
       "RFECV(cv=5, estimator=RandomForestClassifier(n_jobs=-1, random_state=42),\n",
       "      min_features_to_select=10, n_jobs=-1,\n",
       "      scoring=make_scorer(multi_class_roc_auc, response_method='predict_proba'),\n",
       "      step=5, verbose=1)"
      ]
     },
     "execution_count": 72,
     "metadata": {},
     "output_type": "execute_result"
    }
   ],
   "source": [
    "# Fit RFECV on the training data\n",
    "rfecv.fit(X_train, y_train)"
   ]
  },
  {
   "cell_type": "code",
   "execution_count": 73,
   "id": "2b9ef776-1816-4a6f-9ee1-19076fc53c9e",
   "metadata": {},
   "outputs": [
    {
     "data": {
      "image/png": "[encoded data removed]",
      "text/plain": [
       "<Figure size 1200x600 with 1 Axes>"
      ]
     },
     "metadata": {},
     "output_type": "display_data"
    }
   ],
   "source": [
    "# Plot number of features vs. cross-validation scores\n",
    "plt.figure(figsize=(12, 6))\n",
    "plt.xlabel(\"Number of features selected\")\n",
    "plt.ylabel(\"ROC AUC Score (CV)\")\n",
    "plt.plot(range(rfecv.min_features_to_select, \n",
    "               len(rfecv.cv_results_[\"mean_test_score\"]) + rfecv.min_features_to_select),\n",
    "         rfecv.cv_results_[\"mean_test_score\"])\n",
    "plt.title('Recursive Feature Elimination with Cross-Validation')\n",
    "plt.axvline(x=rfecv.n_features_, color='r', linestyle='--', \n",
    "            label=f'Optimal number of features: {rfecv.n_features_}')\n",
    "plt.legend()\n",
    "plt.grid(True)\n",
    "plt.show()"
   ]
  },
  {
   "cell_type": "code",
   "execution_count": 74,
   "id": "a4f73c1d-5eca-42d2-9e4d-29980712d72f",
   "metadata": {},
   "outputs": [
    {
     "name": "stdout",
     "output_type": "stream",
     "text": [
      "\n",
      "RFECV selected 70 optimal features out of 350\n"
     ]
    }
   ],
   "source": [
    "# Get the selected features\n",
    "selected_features = X_train.columns[rfecv.support_]\n",
    "print(f\"\\nRFECV selected {rfecv.n_features_} optimal features out of {X_train.shape[1]}\")"
   ]
  },
  {
   "cell_type": "markdown",
   "id": "bb84d3d7-1679-4e70-a457-6b369ccae468",
   "metadata": {},
   "source": [
    "Evaluate the performance on validation set"
   ]
  },
  {
   "cell_type": "code",
   "execution_count": 75,
   "id": "839ec3e4-0802-4482-bd3b-74b9a42b9bdd",
   "metadata": {},
   "outputs": [
    {
     "data": {
      "text/html": [
       "<style>#sk-container-id-2 {\n",
       "  /* Definition of color scheme common for light and dark mode */\n",
       "  --sklearn-color-text: black;\n",
       "  --sklearn-color-line: gray;\n",
       "  /* Definition of color scheme for unfitted estimators */\n",
       "  --sklearn-color-unfitted-level-0: #fff5e6;\n",
       "  --sklearn-color-unfitted-level-1: #f6e4d2;\n",
       "  --sklearn-color-unfitted-level-2: #ffe0b3;\n",
       "  --sklearn-color-unfitted-level-3: chocolate;\n",
       "  /* Definition of color scheme for fitted estimators */\n",
       "  --sklearn-color-fitted-level-0: #f0f8ff;\n",
       "  --sklearn-color-fitted-level-1: #d4ebff;\n",
       "  --sklearn-color-fitted-level-2: #b3dbfd;\n",
       "  --sklearn-color-fitted-level-3: cornflowerblue;\n",
       "\n",
       "  /* Specific color for light theme */\n",
       "  --sklearn-color-text-on-default-background: var(--sg-text-color, var(--theme-code-foreground, var(--jp-content-font-color1, black)));\n",
       "  --sklearn-color-background: var(--sg-background-color, var(--theme-background, var(--jp-layout-color0, white)));\n",
       "  --sklearn-color-border-box: var(--sg-text-color, var(--theme-code-foreground, var(--jp-content-font-color1, black)));\n",
       "  --sklearn-color-icon: #696969;\n",
       "\n",
       "  @media (prefers-color-scheme: dark) {\n",
       "    /* Redefinition of color scheme for dark theme */\n",
       "    --sklearn-color-text-on-default-background: var(--sg-text-color, var(--theme-code-foreground, var(--jp-content-font-color1, white)));\n",
       "    --sklearn-color-background: var(--sg-background-color, var(--theme-background, var(--jp-layout-color0, #111)));\n",
       "    --sklearn-color-border-box: var(--sg-text-color, var(--theme-code-foreground, var(--jp-content-font-color1, white)));\n",
       "    --sklearn-color-icon: #878787;\n",
       "  }\n",
       "}\n",
       "\n",
       "#sk-container-id-2 {\n",
       "  color: var(--sklearn-color-text);\n",
       "}\n",
       "\n",
       "#sk-container-id-2 pre {\n",
       "  padding: 0;\n",
       "}\n",
       "\n",
       "#sk-container-id-2 input.sk-hidden--visually {\n",
       "  border: 0;\n",
       "  clip: rect(1px 1px 1px 1px);\n",
       "  clip: rect(1px, 1px, 1px, 1px);\n",
       "  height: 1px;\n",
       "  margin: -1px;\n",
       "  overflow: hidden;\n",
       "  padding: 0;\n",
       "  position: absolute;\n",
       "  width: 1px;\n",
       "}\n",
       "\n",
       "#sk-container-id-2 div.sk-dashed-wrapped {\n",
       "  border: 1px dashed var(--sklearn-color-line);\n",
       "  margin: 0 0.4em 0.5em 0.4em;\n",
       "  box-sizing: border-box;\n",
       "  padding-bottom: 0.4em;\n",
       "  background-color: var(--sklearn-color-background);\n",
       "}\n",
       "\n",
       "#sk-container-id-2 div.sk-container {\n",
       "  /* jupyter's `normalize.less` sets `[hidden] { display: none; }`\n",
       "     but bootstrap.min.css set `[hidden] { display: none !important; }`\n",
       "     so we also need the `!important` here to be able to override the\n",
       "     default hidden behavior on the sphinx rendered scikit-learn.org.\n",
       "     See: https://github.com/scikit-learn/scikit-learn/issues/21755 */\n",
       "  display: inline-block !important;\n",
       "  position: relative;\n",
       "}\n",
       "\n",
       "#sk-container-id-2 div.sk-text-repr-fallback {\n",
       "  display: none;\n",
       "}\n",
       "\n",
       "div.sk-parallel-item,\n",
       "div.sk-serial,\n",
       "div.sk-item {\n",
       "  /* draw centered vertical line to link estimators */\n",
       "  background-image: linear-gradient(var(--sklearn-color-text-on-default-background), var(--sklearn-color-text-on-default-background));\n",
       "  background-size: 2px 100%;\n",
       "  background-repeat: no-repeat;\n",
       "  background-position: center center;\n",
       "}\n",
       "\n",
       "/* Parallel-specific style estimator block */\n",
       "\n",
       "#sk-container-id-2 div.sk-parallel-item::after {\n",
       "  content: \"\";\n",
       "  width: 100%;\n",
       "  border-bottom: 2px solid var(--sklearn-color-text-on-default-background);\n",
       "  flex-grow: 1;\n",
       "}\n",
       "\n",
       "#sk-container-id-2 div.sk-parallel {\n",
       "  display: flex;\n",
       "  align-items: stretch;\n",
       "  justify-content: center;\n",
       "  background-color: var(--sklearn-color-background);\n",
       "  position: relative;\n",
       "}\n",
       "\n",
       "#sk-container-id-2 div.sk-parallel-item {\n",
       "  display: flex;\n",
       "  flex-direction: column;\n",
       "}\n",
       "\n",
       "#sk-container-id-2 div.sk-parallel-item:first-child::after {\n",
       "  align-self: flex-end;\n",
       "  width: 50%;\n",
       "}\n",
       "\n",
       "#sk-container-id-2 div.sk-parallel-item:last-child::after {\n",
       "  align-self: flex-start;\n",
       "  width: 50%;\n",
       "}\n",
       "\n",
       "#sk-container-id-2 div.sk-parallel-item:only-child::after {\n",
       "  width: 0;\n",
       "}\n",
       "\n",
       "/* Serial-specific style estimator block */\n",
       "\n",
       "#sk-container-id-2 div.sk-serial {\n",
       "  display: flex;\n",
       "  flex-direction: column;\n",
       "  align-items: center;\n",
       "  background-color: var(--sklearn-color-background);\n",
       "  padding-right: 1em;\n",
       "  padding-left: 1em;\n",
       "}\n",
       "\n",
       "\n",
       "/* Toggleable style: style used for estimator/Pipeline/ColumnTransformer box that is\n",
       "clickable and can be expanded/collapsed.\n",
       "- Pipeline and ColumnTransformer use this feature and define the default style\n",
       "- Estimators will overwrite some part of the style using the `sk-estimator` class\n",
       "*/\n",
       "\n",
       "/* Pipeline and ColumnTransformer style (default) */\n",
       "\n",
       "#sk-container-id-2 div.sk-toggleable {\n",
       "  /* Default theme specific background. It is overwritten whether we have a\n",
       "  specific estimator or a Pipeline/ColumnTransformer */\n",
       "  background-color: var(--sklearn-color-background);\n",
       "}\n",
       "\n",
       "/* Toggleable label */\n",
       "#sk-container-id-2 label.sk-toggleable__label {\n",
       "  cursor: pointer;\n",
       "  display: block;\n",
       "  width: 100%;\n",
       "  margin-bottom: 0;\n",
       "  padding: 0.5em;\n",
       "  box-sizing: border-box;\n",
       "  text-align: center;\n",
       "}\n",
       "\n",
       "#sk-container-id-2 label.sk-toggleable__label-arrow:before {\n",
       "  /* Arrow on the left of the label */\n",
       "  content: \"▸\";\n",
       "  float: left;\n",
       "  margin-right: 0.25em;\n",
       "  color: var(--sklearn-color-icon);\n",
       "}\n",
       "\n",
       "#sk-container-id-2 label.sk-toggleable__label-arrow:hover:before {\n",
       "  color: var(--sklearn-color-text);\n",
       "}\n",
       "\n",
       "/* Toggleable content - dropdown */\n",
       "\n",
       "#sk-container-id-2 div.sk-toggleable__content {\n",
       "  max-height: 0;\n",
       "  max-width: 0;\n",
       "  overflow: hidden;\n",
       "  text-align: left;\n",
       "  /* unfitted */\n",
       "  background-color: var(--sklearn-color-unfitted-level-0);\n",
       "}\n",
       "\n",
       "#sk-container-id-2 div.sk-toggleable__content.fitted {\n",
       "  /* fitted */\n",
       "  background-color: var(--sklearn-color-fitted-level-0);\n",
       "}\n",
       "\n",
       "#sk-container-id-2 div.sk-toggleable__content pre {\n",
       "  margin: 0.2em;\n",
       "  border-radius: 0.25em;\n",
       "  color: var(--sklearn-color-text);\n",
       "  /* unfitted */\n",
       "  background-color: var(--sklearn-color-unfitted-level-0);\n",
       "}\n",
       "\n",
       "#sk-container-id-2 div.sk-toggleable__content.fitted pre {\n",
       "  /* unfitted */\n",
       "  background-color: var(--sklearn-color-fitted-level-0);\n",
       "}\n",
       "\n",
       "#sk-container-id-2 input.sk-toggleable__control:checked~div.sk-toggleable__content {\n",
       "  /* Expand drop-down */\n",
       "  max-height: 200px;\n",
       "  max-width: 100%;\n",
       "  overflow: auto;\n",
       "}\n",
       "\n",
       "#sk-container-id-2 input.sk-toggleable__control:checked~label.sk-toggleable__label-arrow:before {\n",
       "  content: \"▾\";\n",
       "}\n",
       "\n",
       "/* Pipeline/ColumnTransformer-specific style */\n",
       "\n",
       "#sk-container-id-2 div.sk-label input.sk-toggleable__control:checked~label.sk-toggleable__label {\n",
       "  color: var(--sklearn-color-text);\n",
       "  background-color: var(--sklearn-color-unfitted-level-2);\n",
       "}\n",
       "\n",
       "#sk-container-id-2 div.sk-label.fitted input.sk-toggleable__control:checked~label.sk-toggleable__label {\n",
       "  background-color: var(--sklearn-color-fitted-level-2);\n",
       "}\n",
       "\n",
       "/* Estimator-specific style */\n",
       "\n",
       "/* Colorize estimator box */\n",
       "#sk-container-id-2 div.sk-estimator input.sk-toggleable__control:checked~label.sk-toggleable__label {\n",
       "  /* unfitted */\n",
       "  background-color: var(--sklearn-color-unfitted-level-2);\n",
       "}\n",
       "\n",
       "#sk-container-id-2 div.sk-estimator.fitted input.sk-toggleable__control:checked~label.sk-toggleable__label {\n",
       "  /* fitted */\n",
       "  background-color: var(--sklearn-color-fitted-level-2);\n",
       "}\n",
       "\n",
       "#sk-container-id-2 div.sk-label label.sk-toggleable__label,\n",
       "#sk-container-id-2 div.sk-label label {\n",
       "  /* The background is the default theme color */\n",
       "  color: var(--sklearn-color-text-on-default-background);\n",
       "}\n",
       "\n",
       "/* On hover, darken the color of the background */\n",
       "#sk-container-id-2 div.sk-label:hover label.sk-toggleable__label {\n",
       "  color: var(--sklearn-color-text);\n",
       "  background-color: var(--sklearn-color-unfitted-level-2);\n",
       "}\n",
       "\n",
       "/* Label box, darken color on hover, fitted */\n",
       "#sk-container-id-2 div.sk-label.fitted:hover label.sk-toggleable__label.fitted {\n",
       "  color: var(--sklearn-color-text);\n",
       "  background-color: var(--sklearn-color-fitted-level-2);\n",
       "}\n",
       "\n",
       "/* Estimator label */\n",
       "\n",
       "#sk-container-id-2 div.sk-label label {\n",
       "  font-family: monospace;\n",
       "  font-weight: bold;\n",
       "  display: inline-block;\n",
       "  line-height: 1.2em;\n",
       "}\n",
       "\n",
       "#sk-container-id-2 div.sk-label-container {\n",
       "  text-align: center;\n",
       "}\n",
       "\n",
       "/* Estimator-specific */\n",
       "#sk-container-id-2 div.sk-estimator {\n",
       "  font-family: monospace;\n",
       "  border: 1px dotted var(--sklearn-color-border-box);\n",
       "  border-radius: 0.25em;\n",
       "  box-sizing: border-box;\n",
       "  margin-bottom: 0.5em;\n",
       "  /* unfitted */\n",
       "  background-color: var(--sklearn-color-unfitted-level-0);\n",
       "}\n",
       "\n",
       "#sk-container-id-2 div.sk-estimator.fitted {\n",
       "  /* fitted */\n",
       "  background-color: var(--sklearn-color-fitted-level-0);\n",
       "}\n",
       "\n",
       "/* on hover */\n",
       "#sk-container-id-2 div.sk-estimator:hover {\n",
       "  /* unfitted */\n",
       "  background-color: var(--sklearn-color-unfitted-level-2);\n",
       "}\n",
       "\n",
       "#sk-container-id-2 div.sk-estimator.fitted:hover {\n",
       "  /* fitted */\n",
       "  background-color: var(--sklearn-color-fitted-level-2);\n",
       "}\n",
       "\n",
       "/* Specification for estimator info (e.g. \"i\" and \"?\") */\n",
       "\n",
       "/* Common style for \"i\" and \"?\" */\n",
       "\n",
       ".sk-estimator-doc-link,\n",
       "a:link.sk-estimator-doc-link,\n",
       "a:visited.sk-estimator-doc-link {\n",
       "  float: right;\n",
       "  font-size: smaller;\n",
       "  line-height: 1em;\n",
       "  font-family: monospace;\n",
       "  background-color: var(--sklearn-color-background);\n",
       "  border-radius: 1em;\n",
       "  height: 1em;\n",
       "  width: 1em;\n",
       "  text-decoration: none !important;\n",
       "  margin-left: 1ex;\n",
       "  /* unfitted */\n",
       "  border: var(--sklearn-color-unfitted-level-1) 1pt solid;\n",
       "  color: var(--sklearn-color-unfitted-level-1);\n",
       "}\n",
       "\n",
       ".sk-estimator-doc-link.fitted,\n",
       "a:link.sk-estimator-doc-link.fitted,\n",
       "a:visited.sk-estimator-doc-link.fitted {\n",
       "  /* fitted */\n",
       "  border: var(--sklearn-color-fitted-level-1) 1pt solid;\n",
       "  color: var(--sklearn-color-fitted-level-1);\n",
       "}\n",
       "\n",
       "/* On hover */\n",
       "div.sk-estimator:hover .sk-estimator-doc-link:hover,\n",
       ".sk-estimator-doc-link:hover,\n",
       "div.sk-label-container:hover .sk-estimator-doc-link:hover,\n",
       ".sk-estimator-doc-link:hover {\n",
       "  /* unfitted */\n",
       "  background-color: var(--sklearn-color-unfitted-level-3);\n",
       "  color: var(--sklearn-color-background);\n",
       "  text-decoration: none;\n",
       "}\n",
       "\n",
       "div.sk-estimator.fitted:hover .sk-estimator-doc-link.fitted:hover,\n",
       ".sk-estimator-doc-link.fitted:hover,\n",
       "div.sk-label-container:hover .sk-estimator-doc-link.fitted:hover,\n",
       ".sk-estimator-doc-link.fitted:hover {\n",
       "  /* fitted */\n",
       "  background-color: var(--sklearn-color-fitted-level-3);\n",
       "  color: var(--sklearn-color-background);\n",
       "  text-decoration: none;\n",
       "}\n",
       "\n",
       "/* Span, style for the box shown on hovering the info icon */\n",
       ".sk-estimator-doc-link span {\n",
       "  display: none;\n",
       "  z-index: 9999;\n",
       "  position: relative;\n",
       "  font-weight: normal;\n",
       "  right: .2ex;\n",
       "  padding: .5ex;\n",
       "  margin: .5ex;\n",
       "  width: min-content;\n",
       "  min-width: 20ex;\n",
       "  max-width: 50ex;\n",
       "  color: var(--sklearn-color-text);\n",
       "  box-shadow: 2pt 2pt 4pt #999;\n",
       "  /* unfitted */\n",
       "  background: var(--sklearn-color-unfitted-level-0);\n",
       "  border: .5pt solid var(--sklearn-color-unfitted-level-3);\n",
       "}\n",
       "\n",
       ".sk-estimator-doc-link.fitted span {\n",
       "  /* fitted */\n",
       "  background: var(--sklearn-color-fitted-level-0);\n",
       "  border: var(--sklearn-color-fitted-level-3);\n",
       "}\n",
       "\n",
       ".sk-estimator-doc-link:hover span {\n",
       "  display: block;\n",
       "}\n",
       "\n",
       "/* \"?\"-specific style due to the `<a>` HTML tag */\n",
       "\n",
       "#sk-container-id-2 a.estimator_doc_link {\n",
       "  float: right;\n",
       "  font-size: 1rem;\n",
       "  line-height: 1em;\n",
       "  font-family: monospace;\n",
       "  background-color: var(--sklearn-color-background);\n",
       "  border-radius: 1rem;\n",
       "  height: 1rem;\n",
       "  width: 1rem;\n",
       "  text-decoration: none;\n",
       "  /* unfitted */\n",
       "  color: var(--sklearn-color-unfitted-level-1);\n",
       "  border: var(--sklearn-color-unfitted-level-1) 1pt solid;\n",
       "}\n",
       "\n",
       "#sk-container-id-2 a.estimator_doc_link.fitted {\n",
       "  /* fitted */\n",
       "  border: var(--sklearn-color-fitted-level-1) 1pt solid;\n",
       "  color: var(--sklearn-color-fitted-level-1);\n",
       "}\n",
       "\n",
       "/* On hover */\n",
       "#sk-container-id-2 a.estimator_doc_link:hover {\n",
       "  /* unfitted */\n",
       "  background-color: var(--sklearn-color-unfitted-level-3);\n",
       "  color: var(--sklearn-color-background);\n",
       "  text-decoration: none;\n",
       "}\n",
       "\n",
       "#sk-container-id-2 a.estimator_doc_link.fitted:hover {\n",
       "  /* fitted */\n",
       "  background-color: var(--sklearn-color-fitted-level-3);\n",
       "}\n",
       "</style><div id=\"sk-container-id-2\" class=\"sk-top-container\"><div class=\"sk-text-repr-fallback\"><pre>RandomForestClassifier(random_state=42)</pre><b>In a Jupyter environment, please rerun this cell to show the HTML representation or trust the notebook. <br />On GitHub, the HTML representation is unable to render, please try loading this page with nbviewer.org.</b></div><div class=\"sk-container\" hidden><div class=\"sk-item\"><div class=\"sk-estimator fitted sk-toggleable\"><input class=\"sk-toggleable__control sk-hidden--visually\" id=\"sk-estimator-id-4\" type=\"checkbox\" checked><label for=\"sk-estimator-id-4\" class=\"sk-toggleable__label fitted sk-toggleable__label-arrow fitted\">&nbsp;&nbsp;RandomForestClassifier<a class=\"sk-estimator-doc-link fitted\" rel=\"noreferrer\" target=\"_blank\" href=\"https://scikit-learn.org/1.4/modules/generated/sklearn.ensemble.RandomForestClassifier.html\">?<span>Documentation for RandomForestClassifier</span></a><span class=\"sk-estimator-doc-link fitted\">i<span>Fitted</span></span></label><div class=\"sk-toggleable__content fitted\"><pre>RandomForestClassifier(random_state=42)</pre></div> </div></div></div></div>"
      ],
      "text/plain": [
       "RandomForestClassifier(random_state=42)"
      ]
     },
     "execution_count": 75,
     "metadata": {},
     "output_type": "execute_result"
    }
   ],
   "source": [
    "# Train a model using only the selected features\n",
    "model_selected = RandomForestClassifier(n_estimators=100, random_state=42)\n",
    "model_selected.fit(X_train[selected_features], y_train)"
   ]
  },
  {
   "cell_type": "code",
   "execution_count": 76,
   "id": "35a5a48d-3ca4-4ff1-8a20-2d658dc13aa4",
   "metadata": {},
   "outputs": [
    {
     "name": "stdout",
     "output_type": "stream",
     "text": [
      "ROC AUC on validation set with 70 selected features: 0.9998\n"
     ]
    }
   ],
   "source": [
    "# Predict on validation set with multi-class handling\n",
    "y_pred_proba = model_selected.predict_proba(X_val[selected_features])\n",
    "y_val_bin = label_binarize(y_val, classes=np.unique(y_train))\n",
    "roc_auc = roc_auc_score(y_val_bin, y_pred_proba, multi_class='ovr', average='macro')\n",
    "print(f\"ROC AUC on validation set with {rfecv.n_features_} selected features: {roc_auc:.4f}\")"
   ]
  },
  {
   "cell_type": "code",
   "execution_count": 77,
   "id": "fd16b523-0ee3-4599-bb70-88dacd0bc1de",
   "metadata": {},
   "outputs": [
    {
     "name": "stdout",
     "output_type": "stream",
     "text": [
      "ROC AUC on validation set with all 350 features: 0.9998\n"
     ]
    }
   ],
   "source": [
    "# Compare with performance using all features\n",
    "model_all = RandomForestClassifier(n_estimators=100, random_state=42)\n",
    "model_all.fit(X_train, y_train)\n",
    "y_pred_proba_all = model_all.predict_proba(X_val)\n",
    "roc_auc_all = roc_auc_score(y_val_bin, y_pred_proba_all, multi_class='ovr', average='macro')\n",
    "print(f\"ROC AUC on validation set with all {X_train.shape[1]} features: {roc_auc_all:.4f}\")"
   ]
  },
  {
   "cell_type": "markdown",
   "id": "ca7766b4-920d-439e-9969-655633388e06",
   "metadata": {},
   "source": [
    "Analyze class-specific performance"
   ]
  },
  {
   "cell_type": "code",
   "execution_count": 78,
   "id": "9df024ae-14b7-4da4-874d-529505bdcb12",
   "metadata": {},
   "outputs": [
    {
     "name": "stdout",
     "output_type": "stream",
     "text": [
      "Class 'Class I':\n",
      "  - ROC AUC with selected features: 0.9999\n",
      "  - ROC AUC with all features: 0.9999\n",
      "  - Improvement of 0.0001\n",
      "Class 'Class II':\n",
      "  - ROC AUC with selected features: 0.9998\n",
      "  - ROC AUC with all features: 0.9998\n",
      "  - Decrease of 0.0000\n",
      "Class 'Class III':\n",
      "  - ROC AUC with selected features: 0.9998\n",
      "  - ROC AUC with all features: 0.9998\n",
      "  - Decrease of 0.0001\n"
     ]
    }
   ],
   "source": [
    "# Convert probabilities to class-specific binary scores\n",
    "class_specific_auc = {}\n",
    "for i, cls in enumerate(np.unique(y_train)):\n",
    "    # For each class, calculate ROC AUC in one-vs-rest fashion\n",
    "    y_val_binary = (y_val == cls).astype(int)\n",
    "    y_pred_proba_class = y_pred_proba[:, i]\n",
    "    auc = roc_auc_score(y_val_binary, y_pred_proba_class)\n",
    "    class_specific_auc[cls] = auc\n",
    "    \n",
    "    # Also for the full model\n",
    "    y_pred_proba_all_class = y_pred_proba_all[:, i]\n",
    "    auc_all = roc_auc_score(y_val_binary, y_pred_proba_all_class)\n",
    "    \n",
    "    print(f\"Class '{cls}':\")\n",
    "    print(f\"  - ROC AUC with selected features: {auc:.4f}\")\n",
    "    print(f\"  - ROC AUC with all features: {auc_all:.4f}\")\n",
    "    print(f\"  - {'Improvement' if auc > auc_all else 'Decrease'} of {abs(auc - auc_all):.4f}\")"
   ]
  },
  {
   "cell_type": "markdown",
   "id": "478d617f-42c4-4a2f-a031-21403c6ce3cd",
   "metadata": {},
   "source": [
    "Analyze feature importance of selected features"
   ]
  },
  {
   "cell_type": "code",
   "execution_count": 79,
   "id": "ae4abf55-893d-4723-bc2b-ebd0b27d67fd",
   "metadata": {},
   "outputs": [
    {
     "name": "stdout",
     "output_type": "stream",
     "text": [
      "\n",
      "Feature ranking of selected features:\n",
      "1. ProdClass_Class II (0.2147)\n",
      "2. Distribution_Prop_Class_I (0.1389)\n",
      "3. Distribution_Prop_Class_II (0.1102)\n",
      "4. Firm_Prop_Class_II (0.0939)\n",
      "5. Firm_Prop_Class_I (0.0934)\n",
      "6. ProdClass_Class III (0.0928)\n",
      "7. Distribution_Prop_Class_III (0.0404)\n",
      "8. Firm_Prop_Class_III (0.0285)\n",
      "9. City_Class_I_Risk (0.0209)\n",
      "10. City_Class_II_Risk (0.0150)\n",
      "11. ProductType_Food/Cosmetics (0.0103)\n",
      "12. text_svd_3 (0.0082)\n",
      "13. text_svd_2 (0.0076)\n",
      "14. City_Class_III_Risk (0.0070)\n",
      "15. text_svd_24 (0.0053)\n",
      "16. text_svd_22 (0.0053)\n",
      "17. Distribution_Pattern_Count (0.0051)\n",
      "18. text_svd_0 (0.0037)\n",
      "19. ProductType_Devices (0.0036)\n",
      "20. text_svd_19 (0.0035)\n"
     ]
    }
   ],
   "source": [
    "# Get feature importances\n",
    "importances = model_selected.feature_importances_\n",
    "indices = np.argsort(importances)[::-1]\n",
    "\n",
    "# Print the feature ranking\n",
    "print(\"\\nFeature ranking of selected features:\")\n",
    "for i, idx in enumerate(indices[:20]):  # Show top 20 or all if less\n",
    "    print(f\"{i+1}. {selected_features[idx]} ({importances[idx]:.4f})\")"
   ]
  },
  {
   "cell_type": "code",
   "execution_count": 80,
   "id": "1e17ba95-fd96-46fe-bd01-96fe74a5dcef",
   "metadata": {},
   "outputs": [
    {
     "data": {
      "image/png": "[encoded data removed]",
      "text/plain": [
       "<Figure size 1200x800 with 1 Axes>"
      ]
     },
     "metadata": {},
     "output_type": "display_data"
    }
   ],
   "source": [
    "# Plot top 20 feature importances (or all if less than 20)\n",
    "plt.figure(figsize=(12, 8))\n",
    "plt.title(\"Feature importances of selected features\")\n",
    "plt.bar(range(min(20, len(indices))), \n",
    "        importances[indices[:min(20, len(indices))]], \n",
    "        align=\"center\")\n",
    "plt.xticks(range(min(20, len(indices))), \n",
    "           [selected_features[i] for i in indices[:min(20, len(indices))]], \n",
    "           rotation=90)\n",
    "plt.tight_layout()\n",
    "plt.show()"
   ]
  },
  {
   "cell_type": "markdown",
   "id": "84f07cbf-92e8-455a-bcac-c543696a0e9d",
   "metadata": {},
   "source": [
    "Create a dataset with only selected features for future modeling"
   ]
  },
  {
   "cell_type": "code",
   "execution_count": 81,
   "id": "e63666e0-4c45-400a-8d29-16a21c982323",
   "metadata": {},
   "outputs": [
    {
     "name": "stdout",
     "output_type": "stream",
     "text": [
      "Selected features dataset shape: (95082, 71)\n"
     ]
    }
   ],
   "source": [
    "df_processed_selected = df_processed_hybrid[list(selected_features) + ['Event Classification']]\n",
    "print(f\"Selected features dataset shape: {df_processed_selected.shape}\")"
   ]
  },
  {
   "cell_type": "code",
   "execution_count": 82,
   "id": "5c9fa4ed-665b-4ec2-b41f-56fd9efb951a",
   "metadata": {},
   "outputs": [
    {
     "name": "stdout",
     "output_type": "stream",
     "text": [
      "Selected features dataset saved to '../data/processed_recalls_data_selected.csv'\n"
     ]
    }
   ],
   "source": [
    "# Save dataset with selected features\n",
    "df_processed_selected.to_csv('../data/processed_recalls_data_selected.csv', index=False)\n",
    "print(\"Selected features dataset saved to '../data/processed_recalls_data_selected.csv'\")"
   ]
  },
  {
   "cell_type": "markdown",
   "id": "11215e16-431f-4211-ae04-df0e239123f1",
   "metadata": {},
   "source": [
    "Applying feature selection to baseline dataset"
   ]
  },
  {
   "cell_type": "code",
   "execution_count": 72,
   "id": "15a172de-fcac-4892-9fc5-88bbe100d1a8",
   "metadata": {},
   "outputs": [],
   "source": [
    "# Define features and target for baseline dataset\n",
    "X_baseline = df_processed_baseline.drop('Event Classification', axis=1)\n",
    "y_baseline = df_processed_baseline['Event Classification']"
   ]
  },
  {
   "cell_type": "code",
   "execution_count": 73,
   "id": "02c82387-0ebf-4f5b-b9b4-e6cf07226a61",
   "metadata": {},
   "outputs": [],
   "source": [
    "# Split baseline data\n",
    "X_train_baseline, X_val_baseline, y_train_baseline, y_val_baseline = train_test_split(\n",
    "    X_baseline, y_baseline, test_size=0.2, random_state=42, stratify=y_baseline)"
   ]
  },
  {
   "cell_type": "markdown",
   "id": "752637c8-9f2d-448a-b506-456a6de31d79",
   "metadata": {},
   "source": [
    "Fit RFECV model on baseline dataset"
   ]
  },
  {
   "cell_type": "code",
   "execution_count": 74,
   "id": "fe168e0a-d8cf-4350-b91f-7b911c77b7a7",
   "metadata": {},
   "outputs": [
    {
     "name": "stdout",
     "output_type": "stream",
     "text": [
      "Fitting estimator with 47 features.\n",
      "Fitting estimator with 46 features.\n",
      "Fitting estimator with 45 features.\n",
      "Fitting estimator with 44 features.\n",
      "Fitting estimator with 43 features.\n"
     ]
    },
    {
     "data": {
      "text/html": [
       "<style>#sk-container-id-1 {\n",
       "  /* Definition of color scheme common for light and dark mode */\n",
       "  --sklearn-color-text: black;\n",
       "  --sklearn-color-line: gray;\n",
       "  /* Definition of color scheme for unfitted estimators */\n",
       "  --sklearn-color-unfitted-level-0: #fff5e6;\n",
       "  --sklearn-color-unfitted-level-1: #f6e4d2;\n",
       "  --sklearn-color-unfitted-level-2: #ffe0b3;\n",
       "  --sklearn-color-unfitted-level-3: chocolate;\n",
       "  /* Definition of color scheme for fitted estimators */\n",
       "  --sklearn-color-fitted-level-0: #f0f8ff;\n",
       "  --sklearn-color-fitted-level-1: #d4ebff;\n",
       "  --sklearn-color-fitted-level-2: #b3dbfd;\n",
       "  --sklearn-color-fitted-level-3: cornflowerblue;\n",
       "\n",
       "  /* Specific color for light theme */\n",
       "  --sklearn-color-text-on-default-background: var(--sg-text-color, var(--theme-code-foreground, var(--jp-content-font-color1, black)));\n",
       "  --sklearn-color-background: var(--sg-background-color, var(--theme-background, var(--jp-layout-color0, white)));\n",
       "  --sklearn-color-border-box: var(--sg-text-color, var(--theme-code-foreground, var(--jp-content-font-color1, black)));\n",
       "  --sklearn-color-icon: #696969;\n",
       "\n",
       "  @media (prefers-color-scheme: dark) {\n",
       "    /* Redefinition of color scheme for dark theme */\n",
       "    --sklearn-color-text-on-default-background: var(--sg-text-color, var(--theme-code-foreground, var(--jp-content-font-color1, white)));\n",
       "    --sklearn-color-background: var(--sg-background-color, var(--theme-background, var(--jp-layout-color0, #111)));\n",
       "    --sklearn-color-border-box: var(--sg-text-color, var(--theme-code-foreground, var(--jp-content-font-color1, white)));\n",
       "    --sklearn-color-icon: #878787;\n",
       "  }\n",
       "}\n",
       "\n",
       "#sk-container-id-1 {\n",
       "  color: var(--sklearn-color-text);\n",
       "}\n",
       "\n",
       "#sk-container-id-1 pre {\n",
       "  padding: 0;\n",
       "}\n",
       "\n",
       "#sk-container-id-1 input.sk-hidden--visually {\n",
       "  border: 0;\n",
       "  clip: rect(1px 1px 1px 1px);\n",
       "  clip: rect(1px, 1px, 1px, 1px);\n",
       "  height: 1px;\n",
       "  margin: -1px;\n",
       "  overflow: hidden;\n",
       "  padding: 0;\n",
       "  position: absolute;\n",
       "  width: 1px;\n",
       "}\n",
       "\n",
       "#sk-container-id-1 div.sk-dashed-wrapped {\n",
       "  border: 1px dashed var(--sklearn-color-line);\n",
       "  margin: 0 0.4em 0.5em 0.4em;\n",
       "  box-sizing: border-box;\n",
       "  padding-bottom: 0.4em;\n",
       "  background-color: var(--sklearn-color-background);\n",
       "}\n",
       "\n",
       "#sk-container-id-1 div.sk-container {\n",
       "  /* jupyter's `normalize.less` sets `[hidden] { display: none; }`\n",
       "     but bootstrap.min.css set `[hidden] { display: none !important; }`\n",
       "     so we also need the `!important` here to be able to override the\n",
       "     default hidden behavior on the sphinx rendered scikit-learn.org.\n",
       "     See: https://github.com/scikit-learn/scikit-learn/issues/21755 */\n",
       "  display: inline-block !important;\n",
       "  position: relative;\n",
       "}\n",
       "\n",
       "#sk-container-id-1 div.sk-text-repr-fallback {\n",
       "  display: none;\n",
       "}\n",
       "\n",
       "div.sk-parallel-item,\n",
       "div.sk-serial,\n",
       "div.sk-item {\n",
       "  /* draw centered vertical line to link estimators */\n",
       "  background-image: linear-gradient(var(--sklearn-color-text-on-default-background), var(--sklearn-color-text-on-default-background));\n",
       "  background-size: 2px 100%;\n",
       "  background-repeat: no-repeat;\n",
       "  background-position: center center;\n",
       "}\n",
       "\n",
       "/* Parallel-specific style estimator block */\n",
       "\n",
       "#sk-container-id-1 div.sk-parallel-item::after {\n",
       "  content: \"\";\n",
       "  width: 100%;\n",
       "  border-bottom: 2px solid var(--sklearn-color-text-on-default-background);\n",
       "  flex-grow: 1;\n",
       "}\n",
       "\n",
       "#sk-container-id-1 div.sk-parallel {\n",
       "  display: flex;\n",
       "  align-items: stretch;\n",
       "  justify-content: center;\n",
       "  background-color: var(--sklearn-color-background);\n",
       "  position: relative;\n",
       "}\n",
       "\n",
       "#sk-container-id-1 div.sk-parallel-item {\n",
       "  display: flex;\n",
       "  flex-direction: column;\n",
       "}\n",
       "\n",
       "#sk-container-id-1 div.sk-parallel-item:first-child::after {\n",
       "  align-self: flex-end;\n",
       "  width: 50%;\n",
       "}\n",
       "\n",
       "#sk-container-id-1 div.sk-parallel-item:last-child::after {\n",
       "  align-self: flex-start;\n",
       "  width: 50%;\n",
       "}\n",
       "\n",
       "#sk-container-id-1 div.sk-parallel-item:only-child::after {\n",
       "  width: 0;\n",
       "}\n",
       "\n",
       "/* Serial-specific style estimator block */\n",
       "\n",
       "#sk-container-id-1 div.sk-serial {\n",
       "  display: flex;\n",
       "  flex-direction: column;\n",
       "  align-items: center;\n",
       "  background-color: var(--sklearn-color-background);\n",
       "  padding-right: 1em;\n",
       "  padding-left: 1em;\n",
       "}\n",
       "\n",
       "\n",
       "/* Toggleable style: style used for estimator/Pipeline/ColumnTransformer box that is\n",
       "clickable and can be expanded/collapsed.\n",
       "- Pipeline and ColumnTransformer use this feature and define the default style\n",
       "- Estimators will overwrite some part of the style using the `sk-estimator` class\n",
       "*/\n",
       "\n",
       "/* Pipeline and ColumnTransformer style (default) */\n",
       "\n",
       "#sk-container-id-1 div.sk-toggleable {\n",
       "  /* Default theme specific background. It is overwritten whether we have a\n",
       "  specific estimator or a Pipeline/ColumnTransformer */\n",
       "  background-color: var(--sklearn-color-background);\n",
       "}\n",
       "\n",
       "/* Toggleable label */\n",
       "#sk-container-id-1 label.sk-toggleable__label {\n",
       "  cursor: pointer;\n",
       "  display: block;\n",
       "  width: 100%;\n",
       "  margin-bottom: 0;\n",
       "  padding: 0.5em;\n",
       "  box-sizing: border-box;\n",
       "  text-align: center;\n",
       "}\n",
       "\n",
       "#sk-container-id-1 label.sk-toggleable__label-arrow:before {\n",
       "  /* Arrow on the left of the label */\n",
       "  content: \"▸\";\n",
       "  float: left;\n",
       "  margin-right: 0.25em;\n",
       "  color: var(--sklearn-color-icon);\n",
       "}\n",
       "\n",
       "#sk-container-id-1 label.sk-toggleable__label-arrow:hover:before {\n",
       "  color: var(--sklearn-color-text);\n",
       "}\n",
       "\n",
       "/* Toggleable content - dropdown */\n",
       "\n",
       "#sk-container-id-1 div.sk-toggleable__content {\n",
       "  max-height: 0;\n",
       "  max-width: 0;\n",
       "  overflow: hidden;\n",
       "  text-align: left;\n",
       "  /* unfitted */\n",
       "  background-color: var(--sklearn-color-unfitted-level-0);\n",
       "}\n",
       "\n",
       "#sk-container-id-1 div.sk-toggleable__content.fitted {\n",
       "  /* fitted */\n",
       "  background-color: var(--sklearn-color-fitted-level-0);\n",
       "}\n",
       "\n",
       "#sk-container-id-1 div.sk-toggleable__content pre {\n",
       "  margin: 0.2em;\n",
       "  border-radius: 0.25em;\n",
       "  color: var(--sklearn-color-text);\n",
       "  /* unfitted */\n",
       "  background-color: var(--sklearn-color-unfitted-level-0);\n",
       "}\n",
       "\n",
       "#sk-container-id-1 div.sk-toggleable__content.fitted pre {\n",
       "  /* unfitted */\n",
       "  background-color: var(--sklearn-color-fitted-level-0);\n",
       "}\n",
       "\n",
       "#sk-container-id-1 input.sk-toggleable__control:checked~div.sk-toggleable__content {\n",
       "  /* Expand drop-down */\n",
       "  max-height: 200px;\n",
       "  max-width: 100%;\n",
       "  overflow: auto;\n",
       "}\n",
       "\n",
       "#sk-container-id-1 input.sk-toggleable__control:checked~label.sk-toggleable__label-arrow:before {\n",
       "  content: \"▾\";\n",
       "}\n",
       "\n",
       "/* Pipeline/ColumnTransformer-specific style */\n",
       "\n",
       "#sk-container-id-1 div.sk-label input.sk-toggleable__control:checked~label.sk-toggleable__label {\n",
       "  color: var(--sklearn-color-text);\n",
       "  background-color: var(--sklearn-color-unfitted-level-2);\n",
       "}\n",
       "\n",
       "#sk-container-id-1 div.sk-label.fitted input.sk-toggleable__control:checked~label.sk-toggleable__label {\n",
       "  background-color: var(--sklearn-color-fitted-level-2);\n",
       "}\n",
       "\n",
       "/* Estimator-specific style */\n",
       "\n",
       "/* Colorize estimator box */\n",
       "#sk-container-id-1 div.sk-estimator input.sk-toggleable__control:checked~label.sk-toggleable__label {\n",
       "  /* unfitted */\n",
       "  background-color: var(--sklearn-color-unfitted-level-2);\n",
       "}\n",
       "\n",
       "#sk-container-id-1 div.sk-estimator.fitted input.sk-toggleable__control:checked~label.sk-toggleable__label {\n",
       "  /* fitted */\n",
       "  background-color: var(--sklearn-color-fitted-level-2);\n",
       "}\n",
       "\n",
       "#sk-container-id-1 div.sk-label label.sk-toggleable__label,\n",
       "#sk-container-id-1 div.sk-label label {\n",
       "  /* The background is the default theme color */\n",
       "  color: var(--sklearn-color-text-on-default-background);\n",
       "}\n",
       "\n",
       "/* On hover, darken the color of the background */\n",
       "#sk-container-id-1 div.sk-label:hover label.sk-toggleable__label {\n",
       "  color: var(--sklearn-color-text);\n",
       "  background-color: var(--sklearn-color-unfitted-level-2);\n",
       "}\n",
       "\n",
       "/* Label box, darken color on hover, fitted */\n",
       "#sk-container-id-1 div.sk-label.fitted:hover label.sk-toggleable__label.fitted {\n",
       "  color: var(--sklearn-color-text);\n",
       "  background-color: var(--sklearn-color-fitted-level-2);\n",
       "}\n",
       "\n",
       "/* Estimator label */\n",
       "\n",
       "#sk-container-id-1 div.sk-label label {\n",
       "  font-family: monospace;\n",
       "  font-weight: bold;\n",
       "  display: inline-block;\n",
       "  line-height: 1.2em;\n",
       "}\n",
       "\n",
       "#sk-container-id-1 div.sk-label-container {\n",
       "  text-align: center;\n",
       "}\n",
       "\n",
       "/* Estimator-specific */\n",
       "#sk-container-id-1 div.sk-estimator {\n",
       "  font-family: monospace;\n",
       "  border: 1px dotted var(--sklearn-color-border-box);\n",
       "  border-radius: 0.25em;\n",
       "  box-sizing: border-box;\n",
       "  margin-bottom: 0.5em;\n",
       "  /* unfitted */\n",
       "  background-color: var(--sklearn-color-unfitted-level-0);\n",
       "}\n",
       "\n",
       "#sk-container-id-1 div.sk-estimator.fitted {\n",
       "  /* fitted */\n",
       "  background-color: var(--sklearn-color-fitted-level-0);\n",
       "}\n",
       "\n",
       "/* on hover */\n",
       "#sk-container-id-1 div.sk-estimator:hover {\n",
       "  /* unfitted */\n",
       "  background-color: var(--sklearn-color-unfitted-level-2);\n",
       "}\n",
       "\n",
       "#sk-container-id-1 div.sk-estimator.fitted:hover {\n",
       "  /* fitted */\n",
       "  background-color: var(--sklearn-color-fitted-level-2);\n",
       "}\n",
       "\n",
       "/* Specification for estimator info (e.g. \"i\" and \"?\") */\n",
       "\n",
       "/* Common style for \"i\" and \"?\" */\n",
       "\n",
       ".sk-estimator-doc-link,\n",
       "a:link.sk-estimator-doc-link,\n",
       "a:visited.sk-estimator-doc-link {\n",
       "  float: right;\n",
       "  font-size: smaller;\n",
       "  line-height: 1em;\n",
       "  font-family: monospace;\n",
       "  background-color: var(--sklearn-color-background);\n",
       "  border-radius: 1em;\n",
       "  height: 1em;\n",
       "  width: 1em;\n",
       "  text-decoration: none !important;\n",
       "  margin-left: 1ex;\n",
       "  /* unfitted */\n",
       "  border: var(--sklearn-color-unfitted-level-1) 1pt solid;\n",
       "  color: var(--sklearn-color-unfitted-level-1);\n",
       "}\n",
       "\n",
       ".sk-estimator-doc-link.fitted,\n",
       "a:link.sk-estimator-doc-link.fitted,\n",
       "a:visited.sk-estimator-doc-link.fitted {\n",
       "  /* fitted */\n",
       "  border: var(--sklearn-color-fitted-level-1) 1pt solid;\n",
       "  color: var(--sklearn-color-fitted-level-1);\n",
       "}\n",
       "\n",
       "/* On hover */\n",
       "div.sk-estimator:hover .sk-estimator-doc-link:hover,\n",
       ".sk-estimator-doc-link:hover,\n",
       "div.sk-label-container:hover .sk-estimator-doc-link:hover,\n",
       ".sk-estimator-doc-link:hover {\n",
       "  /* unfitted */\n",
       "  background-color: var(--sklearn-color-unfitted-level-3);\n",
       "  color: var(--sklearn-color-background);\n",
       "  text-decoration: none;\n",
       "}\n",
       "\n",
       "div.sk-estimator.fitted:hover .sk-estimator-doc-link.fitted:hover,\n",
       ".sk-estimator-doc-link.fitted:hover,\n",
       "div.sk-label-container:hover .sk-estimator-doc-link.fitted:hover,\n",
       ".sk-estimator-doc-link.fitted:hover {\n",
       "  /* fitted */\n",
       "  background-color: var(--sklearn-color-fitted-level-3);\n",
       "  color: var(--sklearn-color-background);\n",
       "  text-decoration: none;\n",
       "}\n",
       "\n",
       "/* Span, style for the box shown on hovering the info icon */\n",
       ".sk-estimator-doc-link span {\n",
       "  display: none;\n",
       "  z-index: 9999;\n",
       "  position: relative;\n",
       "  font-weight: normal;\n",
       "  right: .2ex;\n",
       "  padding: .5ex;\n",
       "  margin: .5ex;\n",
       "  width: min-content;\n",
       "  min-width: 20ex;\n",
       "  max-width: 50ex;\n",
       "  color: var(--sklearn-color-text);\n",
       "  box-shadow: 2pt 2pt 4pt #999;\n",
       "  /* unfitted */\n",
       "  background: var(--sklearn-color-unfitted-level-0);\n",
       "  border: .5pt solid var(--sklearn-color-unfitted-level-3);\n",
       "}\n",
       "\n",
       ".sk-estimator-doc-link.fitted span {\n",
       "  /* fitted */\n",
       "  background: var(--sklearn-color-fitted-level-0);\n",
       "  border: var(--sklearn-color-fitted-level-3);\n",
       "}\n",
       "\n",
       ".sk-estimator-doc-link:hover span {\n",
       "  display: block;\n",
       "}\n",
       "\n",
       "/* \"?\"-specific style due to the `<a>` HTML tag */\n",
       "\n",
       "#sk-container-id-1 a.estimator_doc_link {\n",
       "  float: right;\n",
       "  font-size: 1rem;\n",
       "  line-height: 1em;\n",
       "  font-family: monospace;\n",
       "  background-color: var(--sklearn-color-background);\n",
       "  border-radius: 1rem;\n",
       "  height: 1rem;\n",
       "  width: 1rem;\n",
       "  text-decoration: none;\n",
       "  /* unfitted */\n",
       "  color: var(--sklearn-color-unfitted-level-1);\n",
       "  border: var(--sklearn-color-unfitted-level-1) 1pt solid;\n",
       "}\n",
       "\n",
       "#sk-container-id-1 a.estimator_doc_link.fitted {\n",
       "  /* fitted */\n",
       "  border: var(--sklearn-color-fitted-level-1) 1pt solid;\n",
       "  color: var(--sklearn-color-fitted-level-1);\n",
       "}\n",
       "\n",
       "/* On hover */\n",
       "#sk-container-id-1 a.estimator_doc_link:hover {\n",
       "  /* unfitted */\n",
       "  background-color: var(--sklearn-color-unfitted-level-3);\n",
       "  color: var(--sklearn-color-background);\n",
       "  text-decoration: none;\n",
       "}\n",
       "\n",
       "#sk-container-id-1 a.estimator_doc_link.fitted:hover {\n",
       "  /* fitted */\n",
       "  background-color: var(--sklearn-color-fitted-level-3);\n",
       "}\n",
       "</style><div id=\"sk-container-id-1\" class=\"sk-top-container\"><div class=\"sk-text-repr-fallback\"><pre>RFECV(cv=5, estimator=RandomForestClassifier(random_state=42),\n",
       "      min_features_to_select=5, n_jobs=-1,\n",
       "      scoring=make_scorer(multi_class_roc_auc, response_method=&#x27;predict_proba&#x27;),\n",
       "      verbose=1)</pre><b>In a Jupyter environment, please rerun this cell to show the HTML representation or trust the notebook. <br />On GitHub, the HTML representation is unable to render, please try loading this page with nbviewer.org.</b></div><div class=\"sk-container\" hidden><div class=\"sk-item sk-dashed-wrapped\"><div class=\"sk-label-container\"><div class=\"sk-label fitted sk-toggleable\"><input class=\"sk-toggleable__control sk-hidden--visually\" id=\"sk-estimator-id-1\" type=\"checkbox\" ><label for=\"sk-estimator-id-1\" class=\"sk-toggleable__label fitted sk-toggleable__label-arrow fitted\">&nbsp;&nbsp;RFECV<a class=\"sk-estimator-doc-link fitted\" rel=\"noreferrer\" target=\"_blank\" href=\"https://scikit-learn.org/1.4/modules/generated/sklearn.feature_selection.RFECV.html\">?<span>Documentation for RFECV</span></a><span class=\"sk-estimator-doc-link fitted\">i<span>Fitted</span></span></label><div class=\"sk-toggleable__content fitted\"><pre>RFECV(cv=5, estimator=RandomForestClassifier(random_state=42),\n",
       "      min_features_to_select=5, n_jobs=-1,\n",
       "      scoring=make_scorer(multi_class_roc_auc, response_method=&#x27;predict_proba&#x27;),\n",
       "      verbose=1)</pre></div> </div></div><div class=\"sk-parallel\"><div class=\"sk-parallel-item\"><div class=\"sk-item\"><div class=\"sk-label-container\"><div class=\"sk-label fitted sk-toggleable\"><input class=\"sk-toggleable__control sk-hidden--visually\" id=\"sk-estimator-id-2\" type=\"checkbox\" ><label for=\"sk-estimator-id-2\" class=\"sk-toggleable__label fitted sk-toggleable__label-arrow fitted\">estimator: RandomForestClassifier</label><div class=\"sk-toggleable__content fitted\"><pre>RandomForestClassifier(random_state=42)</pre></div> </div></div><div class=\"sk-serial\"><div class=\"sk-item\"><div class=\"sk-estimator fitted sk-toggleable\"><input class=\"sk-toggleable__control sk-hidden--visually\" id=\"sk-estimator-id-3\" type=\"checkbox\" ><label for=\"sk-estimator-id-3\" class=\"sk-toggleable__label fitted sk-toggleable__label-arrow fitted\">&nbsp;RandomForestClassifier<a class=\"sk-estimator-doc-link fitted\" rel=\"noreferrer\" target=\"_blank\" href=\"https://scikit-learn.org/1.4/modules/generated/sklearn.ensemble.RandomForestClassifier.html\">?<span>Documentation for RandomForestClassifier</span></a></label><div class=\"sk-toggleable__content fitted\"><pre>RandomForestClassifier(random_state=42)</pre></div> </div></div></div></div></div></div></div></div></div>"
      ],
      "text/plain": [
       "RFECV(cv=5, estimator=RandomForestClassifier(random_state=42),\n",
       "      min_features_to_select=5, n_jobs=-1,\n",
       "      scoring=make_scorer(multi_class_roc_auc, response_method='predict_proba'),\n",
       "      verbose=1)"
      ]
     },
     "execution_count": 74,
     "metadata": {},
     "output_type": "execute_result"
    }
   ],
   "source": [
    "# RFECV for baseline\n",
    "rfecv_baseline = RFECV(\n",
    "    estimator=RandomForestClassifier(n_estimators=100, random_state=42),\n",
    "    step=1,  # Smaller step due to fewer features\n",
    "    cv=5,\n",
    "    scoring=multi_roc_auc_scorer,\n",
    "    min_features_to_select=5,\n",
    "    n_jobs=-1,\n",
    "    verbose=1\n",
    ")\n",
    "\n",
    "rfecv_baseline.fit(X_train_baseline, y_train_baseline)"
   ]
  },
  {
   "cell_type": "code",
   "execution_count": 75,
   "id": "ab262e7b-305d-426a-a472-14b6c606723a",
   "metadata": {},
   "outputs": [
    {
     "name": "stdout",
     "output_type": "stream",
     "text": [
      "\n",
      "RFECV selected 42 optimal features out of 47 baseline features\n"
     ]
    }
   ],
   "source": [
    "# Get selected baseline features\n",
    "baseline_selected_features = X_train_baseline.columns[rfecv_baseline.support_]\n",
    "print(f\"\\nRFECV selected {rfecv_baseline.n_features_} optimal features out of {X_train_baseline.shape[1]} baseline features\")"
   ]
  },
  {
   "cell_type": "code",
   "execution_count": 76,
   "id": "0edf5cdd-e36a-4b20-ad46-4f51b044c0cb",
   "metadata": {},
   "outputs": [
    {
     "name": "stdout",
     "output_type": "stream",
     "text": [
      "Baseline selected features dataset saved to '../data/processed_recalls_data_baseline_selected.csv'\n"
     ]
    }
   ],
   "source": [
    "# Create and save baseline selected dataset\n",
    "df_processed_baseline_selected = df_processed_baseline[list(baseline_selected_features) + ['Event Classification']]\n",
    "df_processed_baseline_selected.to_csv('../data/processed_recalls_data_baseline_selected.csv', index=False)\n",
    "print(\"Baseline selected features dataset saved to '../data/processed_recalls_data_baseline_selected.csv'\")"
   ]
  }
 ],
 "metadata": {
  "kernelspec": {
   "display_name": "Python 3 (ipykernel)",
   "language": "python",
   "name": "python3"
  },
  "language_info": {
   "codemirror_mode": {
    "name": "ipython",
    "version": 3
   },
   "file_extension": ".py",
   "mimetype": "text/x-python",
   "name": "python",
   "nbconvert_exporter": "python",
   "pygments_lexer": "ipython3",
   "version": "3.9.19"
  }
 },
 "nbformat": 4,
 "nbformat_minor": 5
}
