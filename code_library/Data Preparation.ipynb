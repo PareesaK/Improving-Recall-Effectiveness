{
 "cells": [
  {
   "cell_type": "markdown",
   "id": "6696225b-e689-45d8-9bf1-a6728a7d1844",
   "metadata": {},
   "source": [
    "## Data Preparation\n",
    "**By Lorena Dorado & Parisa Kamizi**"
   ]
  },
  {
   "cell_type": "code",
   "execution_count": 1,
   "id": "14b86330-3f4c-4953-bf70-1c1298128171",
   "metadata": {},
   "outputs": [],
   "source": [
    "# Import Libraries\n",
    "import pandas as pd\n",
    "import numpy as np\n",
    "import matplotlib.pyplot as plt\n",
    "import seaborn as sns\n",
    "from datetime import datetime\n",
    "import re\n",
    "from sklearn.model_selection import train_test_split\n",
    "import nltk\n",
    "from nltk.corpus import stopwords\n",
    "from nltk.stem import WordNetLemmatizer\n",
    "from nltk.tokenize import word_tokenize\n",
    "import warnings\n",
    "warnings.filterwarnings('ignore')\n",
    "\n",
    "# Download necessary NLTK resources (only needed once)\n",
    "nltk.download('punkt', quiet=True)\n",
    "nltk.download('stopwords', quiet=True)\n",
    "nltk.download('wordnet', quiet=True)\n",
    "\n",
    "# web scraping\n",
    "import requests\n",
    "from bs4 import BeautifulSoup\n",
    "import re\n",
    "from urllib.parse import urlparse\n",
    "import time\n",
    "import datetime\n",
    "import logging\n",
    "import os\n",
    "from pytz import timezone\n",
    "import random"
   ]
  },
  {
   "cell_type": "code",
   "execution_count": 2,
   "id": "cccc0102-3cb3-430c-befd-3e8877516659",
   "metadata": {},
   "outputs": [],
   "source": [
    "# Original data\n",
    "df = pd.read_excel('recalls_details.xlsx')"
   ]
  },
  {
   "cell_type": "markdown",
   "id": "86791c35-258c-4326-8fc9-5bee4ed7e6d6",
   "metadata": {},
   "source": [
    "## EDA"
   ]
  },
  {
   "cell_type": "code",
   "execution_count": 3,
   "id": "5eff4ca2-8d38-4b29-a32a-4ef9d2ce03a7",
   "metadata": {},
   "outputs": [
    {
     "name": "stdout",
     "output_type": "stream",
     "text": [
      "\n",
      "Dataset Information:\n",
      "Shape: (95082, 17)\n",
      "\n",
      "Column names:\n",
      "['FEI Number', 'Recalling Firm Name', 'Product Type', 'Product Classification', 'Status', 'Distribution Pattern', 'Recalling Firm City', 'Recalling Firm State', 'Recalling Firm Country', 'Center Classification Date', 'Reason for Recall', 'Product Description', 'Event ID', 'Event Classification', 'Product ID', 'Center', 'Recall Details']\n"
     ]
    }
   ],
   "source": [
    "# Display basic information about the dataset\n",
    "print(\"\\nDataset Information:\")\n",
    "print(f\"Shape: {df.shape}\")\n",
    "print(\"\\nColumn names:\")\n",
    "print(df.columns.tolist())"
   ]
  },
  {
   "cell_type": "code",
   "execution_count": 4,
   "id": "6fa865b6-48d9-452f-a3eb-65c4ca18930c",
   "metadata": {},
   "outputs": [
    {
     "name": "stdout",
     "output_type": "stream",
     "text": [
      "\n",
      "First 5 rows:\n",
      "   FEI Number        Recalling Firm Name    Product Type  \\\n",
      "0     2016693  Arizona Foods Group, Inc.  Food/Cosmetics   \n",
      "1  3012966183              Tyber Medical         Devices   \n",
      "2  3012966183              Tyber Medical         Devices   \n",
      "3  3012966183              Tyber Medical         Devices   \n",
      "4  3012966183              Tyber Medical         Devices   \n",
      "\n",
      "  Product Classification     Status              Distribution Pattern  \\\n",
      "0                Class I  Completed  Domestic distribution within NV.   \n",
      "1               Class II    Ongoing                        Nationwide   \n",
      "2               Class II    Ongoing                        Nationwide   \n",
      "3               Class II    Ongoing                        Nationwide   \n",
      "4               Class II    Ongoing                        Nationwide   \n",
      "\n",
      "  Recalling Firm City Recalling Firm State Recalling Firm Country  \\\n",
      "0             Phoenix              Arizona          United States   \n",
      "1           Bethlehem         Pennsylvania          United States   \n",
      "2           Bethlehem         Pennsylvania          United States   \n",
      "3           Bethlehem         Pennsylvania          United States   \n",
      "4           Bethlehem         Pennsylvania          United States   \n",
      "\n",
      "  Center Classification Date  \\\n",
      "0                 2025-02-21   \n",
      "1                 2025-02-21   \n",
      "2                 2025-02-21   \n",
      "3                 2025-02-21   \n",
      "4                 2025-02-21   \n",
      "\n",
      "                                   Reason for Recall  \\\n",
      "0   Product may contain egg, an undeclared allergen.   \n",
      "1  Complaints of the locking screw passing throug...   \n",
      "2  Complaints of the locking screw passing throug...   \n",
      "3  Complaints of the locking screw passing throug...   \n",
      "4  Complaints of the locking screw passing throug...   \n",
      "\n",
      "                                 Product Description  Event ID  \\\n",
      "0  FOOD SERVICE - Mombo s Vanilla Soft Serve Ice ...     96165   \n",
      "1  A.L.P.S. mvX - ANATOMIC LAT FIB PLATE 4H LT: A...     96212   \n",
      "2  A.L.P.S. mvX -ANATOMIC LAT FIB PLATE 4H RT: An...     96212   \n",
      "3  A.L.P.S. mvX -ANATOMIC LAT FIB PLATE 6H LT- An...     96212   \n",
      "4  A.L.P.S. mvX- ANATOMIC LAT FIB PLATE 6H RT: An...     96212   \n",
      "\n",
      "  Event Classification  Product ID Center  \\\n",
      "0              Class I      212179  CFSAN   \n",
      "1             Class II      212343   CDRH   \n",
      "2             Class II      212344   CDRH   \n",
      "3             Class II      212345   CDRH   \n",
      "4             Class II      212346   CDRH   \n",
      "\n",
      "                                      Recall Details  \n",
      "0  https://www.accessdata.fda.gov/scripts/ires/?P...  \n",
      "1  https://www.accessdata.fda.gov/scripts/ires/?P...  \n",
      "2  https://www.accessdata.fda.gov/scripts/ires/?P...  \n",
      "3  https://www.accessdata.fda.gov/scripts/ires/?P...  \n",
      "4  https://www.accessdata.fda.gov/scripts/ires/?P...  \n"
     ]
    }
   ],
   "source": [
    "# Display first few rows\n",
    "print(\"\\nFirst 5 rows:\")\n",
    "print(df.head())"
   ]
  },
  {
   "cell_type": "markdown",
   "id": "3beabe7a-aa38-4091-a642-2caad67ba561",
   "metadata": {},
   "source": [
    "Data Overview and Summary Statistics"
   ]
  },
  {
   "cell_type": "code",
   "execution_count": 5,
   "id": "ba53d664-abda-452a-b609-943cd1b02f78",
   "metadata": {},
   "outputs": [
    {
     "name": "stdout",
     "output_type": "stream",
     "text": [
      "\n",
      "Data types:\n",
      "FEI Number                            object\n",
      "Recalling Firm Name                   object\n",
      "Product Type                          object\n",
      "Product Classification                object\n",
      "Status                                object\n",
      "Distribution Pattern                  object\n",
      "Recalling Firm City                   object\n",
      "Recalling Firm State                  object\n",
      "Recalling Firm Country                object\n",
      "Center Classification Date    datetime64[ns]\n",
      "Reason for Recall                     object\n",
      "Product Description                   object\n",
      "Event ID                               int64\n",
      "Event Classification                  object\n",
      "Product ID                             int64\n",
      "Center                                object\n",
      "Recall Details                        object\n",
      "dtype: object\n",
      "\n",
      "Missing values by column:\n",
      "FEI Number                    0\n",
      "Recalling Firm Name           0\n",
      "Product Type                  0\n",
      "Product Classification        0\n",
      "Status                        0\n",
      "Distribution Pattern          1\n",
      "Recalling Firm City           0\n",
      "Recalling Firm State          0\n",
      "Recalling Firm Country        0\n",
      "Center Classification Date    0\n",
      "Reason for Recall             0\n",
      "Product Description           0\n",
      "Event ID                      0\n",
      "Event Classification          0\n",
      "Product ID                    0\n",
      "Center                        0\n",
      "Recall Details                0\n",
      "dtype: int64\n"
     ]
    }
   ],
   "source": [
    "print(\"\\nData types:\")\n",
    "print(df.dtypes)\n",
    "print(\"\\nMissing values by column:\")\n",
    "print(df.isnull().sum())"
   ]
  },
  {
   "cell_type": "markdown",
   "id": "cf7c2d37-76c6-4271-9053-48337060eb94",
   "metadata": {},
   "source": [
    "Target Variable Analysis"
   ]
  },
  {
   "cell_type": "code",
   "execution_count": 6,
   "id": "ffac3c05-57f9-4a7b-a97c-61f15031f706",
   "metadata": {},
   "outputs": [
    {
     "name": "stdout",
     "output_type": "stream",
     "text": [
      "\n",
      "Target Variable (Event Classification) Distribution:\n",
      "Event Classification\n",
      "Class II     67325\n",
      "Class I      20111\n",
      "Class III     7646\n",
      "Name: count, dtype: int64\n",
      "\n",
      "Percentage distribution:\n",
      "Event Classification\n",
      "Class II     70.807303\n",
      "Class I      21.151217\n",
      "Class III     8.041480\n",
      "Name: count, dtype: float64\n"
     ]
    },
    {
     "data": {
      "image/png": "[encoded data removed]",
      "text/plain": [
       "<Figure size 1000x600 with 1 Axes>"
      ]
     },
     "metadata": {},
     "output_type": "display_data"
    }
   ],
   "source": [
    "print(\"\\nTarget Variable (Event Classification) Distribution:\")\n",
    "target_counts = df['Event Classification'].value_counts()\n",
    "print(target_counts)\n",
    "print(\"\\nPercentage distribution:\")\n",
    "print(target_counts / len(df) * 100)\n",
    "\n",
    "# Plot target distribution\n",
    "plt.figure(figsize=(10, 6))\n",
    "ax = sns.countplot(x='Event Classification', data=df)\n",
    "plt.title('Distribution of Event Classification')\n",
    "plt.xlabel('Classification')\n",
    "plt.ylabel('Count')\n",
    "\n",
    "# Add count labels on bars\n",
    "for p in ax.patches:\n",
    "    ax.annotate(f'{int(p.get_height())}', \n",
    "                (p.get_x() + p.get_width() / 2., p.get_height()), \n",
    "                ha='center', va='center', \n",
    "                xytext=(0, 10), \n",
    "                textcoords='offset points')\n",
    "\n",
    "plt.tight_layout()\n",
    "plt.savefig('event_classification_distribution.png')"
   ]
  },
  {
   "cell_type": "markdown",
   "id": "e1f082f2-6301-4299-88d8-d262c15280ff",
   "metadata": {},
   "source": [
    "Feature Analysis for Independent Variables"
   ]
  },
  {
   "cell_type": "code",
   "execution_count": 7,
   "id": "1017a009-5ad8-46f9-9c2b-7942afa90b25",
   "metadata": {},
   "outputs": [
    {
     "name": "stdout",
     "output_type": "stream",
     "text": [
      "\n",
      "Distribution of Product Type:\n",
      "Product Type\n",
      "Devices           35475\n",
      "Food/Cosmetics    27435\n",
      "Drugs             16702\n",
      "Biologics         12051\n",
      "Veterinary         3410\n",
      "Tobacco               9\n",
      "Name: count, dtype: int64\n",
      "\n",
      "Distribution of Status:\n",
      "Status\n",
      "Terminated    80276\n",
      "Ongoing       13151\n",
      "Completed      1655\n",
      "Name: count, dtype: int64\n",
      "\n",
      "Distribution of Recalling Firm State:\n",
      "Recalling Firm State\n",
      "California       10104\n",
      "Illinois          6308\n",
      "Florida           6216\n",
      "New Jersey        5096\n",
      "Pennsylvania      4559\n",
      "New York          4494\n",
      "Massachusetts     4367\n",
      "-                 4331\n",
      "Texas             4322\n",
      "Ohio              3562\n",
      "Name: count, dtype: int64\n",
      "\n",
      "Distribution of Recalling Firm Country:\n",
      "Recalling Firm Country\n",
      "United States     90751\n",
      "Canada              911\n",
      "Germany             416\n",
      "United Kingdom      282\n",
      "China               280\n",
      "Switzerland         278\n",
      "Israel              248\n",
      "Japan               223\n",
      "India               209\n",
      "Netherlands         205\n",
      "Name: count, dtype: int64\n"
     ]
    }
   ],
   "source": [
    "# Categorical Features\n",
    "categorical_features = ['Product Type', 'Status', 'Recalling Firm State', 'Recalling Firm Country']\n",
    "\n",
    "for feature in categorical_features:\n",
    "    print(f\"\\nDistribution of {feature}:\")\n",
    "    value_counts = df[feature].value_counts().head(10)  # Top 10 values\n",
    "    print(value_counts)"
   ]
  },
  {
   "cell_type": "markdown",
   "id": "79aa9862-e00e-4530-a7a8-a28abfbe36d2",
   "metadata": {},
   "source": [
    "Date Feature"
   ]
  },
  {
   "cell_type": "code",
   "execution_count": 8,
   "id": "cd74ddff-a592-4188-8290-a9e0054c6520",
   "metadata": {},
   "outputs": [],
   "source": [
    "# Convert Center Classification Date to datetime\n",
    "df['Center Classification Date'] = pd.to_datetime(df['Center Classification Date'], errors='coerce')\n",
    "\n",
    "# Extract temporal features\n",
    "df['Classification Year'] = df['Center Classification Date'].dt.year\n",
    "df['Classification Month'] = df['Center Classification Date'].dt.month\n",
    "df['Classification Day'] = df['Center Classification Date'].dt.day\n",
    "df['Classification DayOfWeek'] = df['Center Classification Date'].dt.dayofweek"
   ]
  },
  {
   "cell_type": "markdown",
   "id": "893b10e0-72a1-46cc-99a3-c4c05b9b8c90",
   "metadata": {},
   "source": [
    "Text Features"
   ]
  },
  {
   "cell_type": "code",
   "execution_count": 9,
   "id": "075c5cff-8cf1-488a-a447-bc7da1c1d9b8",
   "metadata": {},
   "outputs": [
    {
     "name": "stdout",
     "output_type": "stream",
     "text": [
      "\n",
      "Processing Reason for Recall...\n",
      "\n",
      "Sample of original and cleaned text:\n",
      "Original: Product may contain undeclared milk....\n",
      "Cleaned: product may contain undeclared milk...\n",
      "\n",
      "Processing Product Description...\n",
      "\n",
      "Sample of original and cleaned text:\n",
      "Original: Apheresis Platelets, Leukocytes Reduced, Irradiated...\n",
      "Cleaned: apheresis platelet leukocyte reduced irradiated...\n"
     ]
    }
   ],
   "source": [
    "# Define function for basic text cleaning\n",
    "def clean_text(text):\n",
    "    if not isinstance(text, str):\n",
    "        return \"\"\n",
    "    \n",
    "    # Convert to lowercase\n",
    "    text = text.lower()\n",
    "    \n",
    "    # Remove special characters, digits, and extra spaces\n",
    "    text = re.sub(r'[^\\w\\s]', ' ', text)\n",
    "    text = re.sub(r'\\d+', ' ', text)\n",
    "    text = re.sub(r'\\s+', ' ', text)\n",
    "    \n",
    "    # Tokenize\n",
    "    tokens = word_tokenize(text)\n",
    "    \n",
    "    # Remove stop words\n",
    "    stop_words = set(stopwords.words('english'))\n",
    "    tokens = [word for word in tokens if word not in stop_words]\n",
    "    \n",
    "    # Lemmatize\n",
    "    lemmatizer = WordNetLemmatizer()\n",
    "    tokens = [lemmatizer.lemmatize(word) for word in tokens]\n",
    "    \n",
    "    return ' '.join(tokens)\n",
    "\n",
    "# Apply text cleaning to text columns\n",
    "text_features = ['Reason for Recall', 'Product Description']\n",
    "for feature in text_features:\n",
    "    print(f\"\\nProcessing {feature}...\")\n",
    "    df[f'{feature}_cleaned'] = df[feature].apply(clean_text)\n",
    "    \n",
    "    # Display sample of original and cleaned text\n",
    "    print(\"\\nSample of original and cleaned text:\")\n",
    "    sample_idx = np.random.randint(0, len(df))\n",
    "    print(f\"Original: {df.loc[sample_idx, feature][:200]}...\")\n",
    "    print(f\"Cleaned: {df.loc[sample_idx, f'{feature}_cleaned'][:200]}...\")"
   ]
  },
  {
   "cell_type": "markdown",
   "id": "08376522-6589-465b-a5a7-d020120b3580",
   "metadata": {},
   "source": [
    "URL Feature"
   ]
  },
  {
   "cell_type": "code",
   "execution_count": 10,
   "id": "8be97157-b582-4db3-9330-fc6c6be6abef",
   "metadata": {},
   "outputs": [],
   "source": [
    "# Extract domain and check if URL is accessible\n",
    "df['Has_Recall_URL'] = df['Recall Details'].notna() & df['Recall Details'].str.contains('http', case=False, na=False)"
   ]
  },
  {
   "cell_type": "markdown",
   "id": "f51d6e46-0943-4b12-a769-fb229db7a1eb",
   "metadata": {},
   "source": [
    "Handle Missing Values"
   ]
  },
  {
   "cell_type": "code",
   "execution_count": 11,
   "id": "d9f653f0-07f3-42c8-8148-4f766a93d352",
   "metadata": {},
   "outputs": [],
   "source": [
    "# For categorical features, fill with 'Unknown'\n",
    "for feature in categorical_features:\n",
    "    df[feature] = df[feature].fillna('Unknown')\n",
    "\n",
    "# For text features, fill with empty string\n",
    "for feature in text_features:\n",
    "    df[feature] = df[feature].fillna('')\n",
    "    df[f'{feature}_cleaned'] = df[f'{feature}_cleaned'].fillna('')"
   ]
  },
  {
   "cell_type": "markdown",
   "id": "9aed1a59-0419-4f56-97b9-315ebaa4e6bb",
   "metadata": {},
   "source": [
    "Feature Selection for Dataset"
   ]
  },
  {
   "cell_type": "code",
   "execution_count": 12,
   "id": "8bcb6ec4-45e2-46d2-9674-5352cec88438",
   "metadata": {},
   "outputs": [
    {
     "name": "stdout",
     "output_type": "stream",
     "text": [
      "\n",
      "Rows before removing missing target values: 95082\n",
      "Rows after removing missing target values: 95082\n"
     ]
    }
   ],
   "source": [
    "# Select features to use in the model\n",
    "selected_features = [\n",
    "    # Categorical features\n",
    "    'Product Type', \n",
    "    'Status', \n",
    "    'Recalling Firm State', \n",
    "    'Recalling Firm Country',\n",
    "    \n",
    "    # Temporal features\n",
    "    'Classification Year',\n",
    "    'Classification Month',\n",
    "    'Classification Day',\n",
    "    'Classification DayOfWeek',\n",
    "    \n",
    "    # Text features (cleaned)\n",
    "    'Reason for Recall_cleaned',\n",
    "    'Product Description_cleaned',\n",
    "    \n",
    "    # URL feature\n",
    "    'Has_Recall_URL'\n",
    "]\n",
    "\n",
    "# Target variable\n",
    "target = 'Event Classification'\n",
    "\n",
    "# Remove rows with missing target values\n",
    "print(f\"\\nRows before removing missing target values: {len(df)}\")\n",
    "df = df.dropna(subset=[target])\n",
    "print(f\"Rows after removing missing target values: {len(df)}\")"
   ]
  },
  {
   "cell_type": "markdown",
   "id": "c13b78a2-e347-4361-878c-14d9ec5fd2f3",
   "metadata": {},
   "source": [
    "Create final dataset"
   ]
  },
  {
   "cell_type": "code",
   "execution_count": 13,
   "id": "7a7bf06f-5097-4947-9970-65def6513eb9",
   "metadata": {},
   "outputs": [
    {
     "name": "stdout",
     "output_type": "stream",
     "text": [
      "\n",
      "Final Dataset Information:\n",
      "Shape: (95082, 12)\n",
      "Columns: ['Product Type', 'Status', 'Recalling Firm State', 'Recalling Firm Country', 'Classification Year', 'Classification Month', 'Classification Day', 'Classification DayOfWeek', 'Reason for Recall_cleaned', 'Product Description_cleaned', 'Has_Recall_URL', 'Event Classification']\n",
      "\n",
      "Sample rows from final dataset:\n",
      "     Product Type     Status Recalling Firm State Recalling Firm Country  \\\n",
      "0  Food/Cosmetics  Completed              Arizona          United States   \n",
      "1         Devices    Ongoing         Pennsylvania          United States   \n",
      "2         Devices    Ongoing         Pennsylvania          United States   \n",
      "3         Devices    Ongoing         Pennsylvania          United States   \n",
      "4         Devices    Ongoing         Pennsylvania          United States   \n",
      "\n",
      "   Classification Year  Classification Month  Classification Day  \\\n",
      "0                 2025                     2                  21   \n",
      "1                 2025                     2                  21   \n",
      "2                 2025                     2                  21   \n",
      "3                 2025                     2                  21   \n",
      "4                 2025                     2                  21   \n",
      "\n",
      "   Classification DayOfWeek  \\\n",
      "0                         4   \n",
      "1                         4   \n",
      "2                         4   \n",
      "3                         4   \n",
      "4                         4   \n",
      "\n",
      "                           Reason for Recall_cleaned  \\\n",
      "0        product may contain egg undeclared allergen   \n",
      "1  complaint locking screw passing locking hole i...   \n",
      "2  complaint locking screw passing locking hole i...   \n",
      "3  complaint locking screw passing locking hole i...   \n",
      "4  complaint locking screw passing locking hole i...   \n",
      "\n",
      "                         Product Description_cleaned  Has_Recall_URL  \\\n",
      "0  food service mombo vanilla soft serve ice crea...            True   \n",
      "1  l p mvx anatomic lat fib plate h lt anatomic l...            True   \n",
      "2  l p mvx anatomic lat fib plate h rt anatomic l...            True   \n",
      "3  l p mvx anatomic lat fib plate h lt anatomic l...            True   \n",
      "4  l p mvx anatomic lat fib plate h rt anatomic l...            True   \n",
      "\n",
      "  Event Classification  \n",
      "0              Class I  \n",
      "1             Class II  \n",
      "2             Class II  \n",
      "3             Class II  \n",
      "4             Class II  \n",
      "\n",
      "Processed data saved to 'fda_recalls_processed.csv'\n"
     ]
    }
   ],
   "source": [
    "final_data = df[selected_features + [target]].copy()\n",
    "\n",
    "# Display information about the final dataset\n",
    "print(\"\\nFinal Dataset Information:\")\n",
    "print(f\"Shape: {final_data.shape}\")\n",
    "print(f\"Columns: {final_data.columns.tolist()}\")\n",
    "print(\"\\nSample rows from final dataset:\")\n",
    "print(final_data.head())\n",
    "\n",
    "# Save the processed data to CSV\n",
    "final_data.to_csv('fda_recalls_processed.csv', index=False)\n",
    "print(\"\\nProcessed data saved to 'fda_recalls_processed.csv'\")"
   ]
  },
  {
   "cell_type": "markdown",
   "id": "e0379a9c-889a-4b4a-a496-25a187e47085",
   "metadata": {},
   "source": [
    "Web Scraping for more recall information"
   ]
  },
  {
   "cell_type": "markdown",
   "id": "119eff3a-79b4-4946-976a-fdd1beb3fac3",
   "metadata": {},
   "source": [
    "# References\n",
    "An, J. (2024). Structural topic modeling for corporate social responsibility of food supply chain management: evidence from FDA recalls on plant-based food products. Social Responsibility Journal, 20(6), 1089–1100. https://www-emerald-com.sandiego.idm.oclc.org/insight/content/doi/10.1108/srj-07-2023-0412/full/html https://doi.org/10.1108/SRJ-07-2023-0412​\n",
    "\n",
    "Barbosa Slivinskis, V., Agi Maluli, I., & Seth Broder, J. (2025). A Machine Learning Algorithm to Predict Medical Device Recall by the Food and Drug Administration. The Western Journal of Emergency Medicine, 26(1), 161–170. https://escholarship.org/uc/item/4sd03611 https://doi.org/10.5811/westjem.21238​\n",
    "\n",
    "Dubin, J. R., Simon, S. D., Norrell, K., Perera, J., Gowen, J., & Cil, A. (2021). Risk of Recall Among Medical Devices Undergoing US Food and Drug Administration 510(k) Clearance and Premarket Approval, 2008-2017. JAMA Network Open, 4(5), e217274–e217274.https://jamanetwork.com/journals/jamanetworkopen/fullarticle/2779577 https://doi.org/10.1001/jamanetworkopen.2021.7274​\n",
    "\n",
    "OpenAI. (2025). Response on how to cite ChatGPT in APA 7. ChatGPT (GPT-4). https://openai.com\n",
    "\n",
    "Polisena, J., Jutai, J., & Chreyh, R. (2014). A proposed framework to improve the safety of medical devices in a Canadian hospital context. Medical Devices: Evidence and Research, 7, 139–147.​\n",
    "\n",
    "Qiao, P. (2024). Bayesian Algorithm for The Construction of Logistics Node Delay Model and Its Impact on Subsequent Nodes in Supply Chain. Journal of Electrical Systems, 20(3), 386–394. https://doi.org/10.52783/jes.2861​\n",
    "\n",
    "Zhou, Y. (2023). The effects of lobbying on the FDA’s recall classification. BMC Medical Ethics, 24(1), 41–41. https://doi.org/10.1186/s12910-023-00921-0​\n",
    "\n",
    "An, Y. (2024). The impact of supply chain analysis on recall effectiveness. Journal of Supply Chain Management, 60(1), 12-23. https://onlinelibrary.wiley.com/doi/10.1111/jscm.12306​"
   ]
  },
  {
   "cell_type": "code",
   "execution_count": null,
   "id": "20aa29bd-d394-48ed-abe9-585ec59f42a6",
   "metadata": {},
   "outputs": [],
   "source": []
  }
 ],
 "metadata": {
  "kernelspec": {
   "display_name": "Python 3 (ipykernel)",
   "language": "python",
   "name": "python3"
  },
  "language_info": {
   "codemirror_mode": {
    "name": "ipython",
    "version": 3
   },
   "file_extension": ".py",
   "mimetype": "text/x-python",
   "name": "python",
   "nbconvert_exporter": "python",
   "pygments_lexer": "ipython3",
   "version": "3.9.19"
  }
 },
 "nbformat": 4,
 "nbformat_minor": 5
}
