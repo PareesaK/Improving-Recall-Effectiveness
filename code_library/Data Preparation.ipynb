{
 "cells": [
  {
   "cell_type": "markdown",
   "id": "ce021dd4-091a-4d64-948d-5299eab6c0f7",
   "metadata": {},
   "source": [
    "# FDA Recalls Data Preprocessing\n",
    "- This notebook preprocesses the FDA recall data to create the final dataset for modeling"
   ]
  },
  {
   "cell_type": "code",
   "execution_count": 1,
   "id": "e5fadfcf-b398-4bf9-b735-bf875d7bf60b",
   "metadata": {},
   "outputs": [
    {
     "data": {
      "text/plain": [
       "True"
      ]
     },
     "execution_count": 1,
     "metadata": {},
     "output_type": "execute_result"
    }
   ],
   "source": [
    "import pandas as pd\n",
    "import numpy as np\n",
    "from datetime import datetime\n",
    "import matplotlib.pyplot as plt\n",
    "import seaborn as sns\n",
    "from sklearn.preprocessing import LabelEncoder\n",
    "# Import NLP libraries\n",
    "from sklearn.feature_extraction.text import TfidfVectorizer\n",
    "from sklearn.decomposition import TruncatedSVD\n",
    "from sklearn.feature_selection import VarianceThreshold\n",
    "import nltk\n",
    "from nltk.corpus import stopwords\n",
    "import re\n",
    "\n",
    "# NLTK resources\n",
    "nltk.download('stopwords', quiet=True)"
   ]
  },
  {
   "cell_type": "code",
   "execution_count": 2,
   "id": "2aac2b1d-df56-4b70-9608-18bd90869f64",
   "metadata": {},
   "outputs": [],
   "source": [
    "# Load the data\n",
    "file_path = '../data/recalls_details.xlsx'\n",
    "df = pd.read_excel(file_path)"
   ]
  },
  {
   "cell_type": "code",
   "execution_count": 3,
   "id": "74d9262a-dbf0-488d-9f99-7b0c870cac88",
   "metadata": {},
   "outputs": [
    {
     "name": "stdout",
     "output_type": "stream",
     "text": [
      "Original data shape: (95082, 17)\n",
      "\n",
      "Column names:\n",
      "['FEI Number', 'Recalling Firm Name', 'Product Type', 'Product Classification', 'Status', 'Distribution Pattern', 'Recalling Firm City', 'Recalling Firm State', 'Recalling Firm Country', 'Center Classification Date', 'Reason for Recall', 'Product Description', 'Event ID', 'Event Classification', 'Product ID', 'Center', 'Recall Details']\n"
     ]
    }
   ],
   "source": [
    "# Display basic information\n",
    "print(f\"Original data shape: {df.shape}\")\n",
    "print(\"\\nColumn names:\")\n",
    "print(df.columns.tolist())"
   ]
  },
  {
   "cell_type": "code",
   "execution_count": 4,
   "id": "f04d849c-d962-4e56-aed4-6a4e65ee6d8a",
   "metadata": {},
   "outputs": [
    {
     "data": {
      "text/html": [
       "<div>\n",
       "<style scoped>\n",
       "    .dataframe tbody tr th:only-of-type {\n",
       "        vertical-align: middle;\n",
       "    }\n",
       "\n",
       "    .dataframe tbody tr th {\n",
       "        vertical-align: top;\n",
       "    }\n",
       "\n",
       "    .dataframe thead th {\n",
       "        text-align: right;\n",
       "    }\n",
       "</style>\n",
       "<table border=\"1\" class=\"dataframe\">\n",
       "  <thead>\n",
       "    <tr style=\"text-align: right;\">\n",
       "      <th></th>\n",
       "      <th>FEI Number</th>\n",
       "      <th>Recalling Firm Name</th>\n",
       "      <th>Product Type</th>\n",
       "      <th>Product Classification</th>\n",
       "      <th>Status</th>\n",
       "      <th>Distribution Pattern</th>\n",
       "      <th>Recalling Firm City</th>\n",
       "      <th>Recalling Firm State</th>\n",
       "      <th>Recalling Firm Country</th>\n",
       "      <th>Center Classification Date</th>\n",
       "      <th>Reason for Recall</th>\n",
       "      <th>Product Description</th>\n",
       "      <th>Event ID</th>\n",
       "      <th>Event Classification</th>\n",
       "      <th>Product ID</th>\n",
       "      <th>Center</th>\n",
       "      <th>Recall Details</th>\n",
       "    </tr>\n",
       "  </thead>\n",
       "  <tbody>\n",
       "    <tr>\n",
       "      <th>0</th>\n",
       "      <td>2016693</td>\n",
       "      <td>Arizona Foods Group, Inc.</td>\n",
       "      <td>Food/Cosmetics</td>\n",
       "      <td>Class I</td>\n",
       "      <td>Completed</td>\n",
       "      <td>Domestic distribution within NV.</td>\n",
       "      <td>Phoenix</td>\n",
       "      <td>Arizona</td>\n",
       "      <td>United States</td>\n",
       "      <td>2025-02-21</td>\n",
       "      <td>Product may contain egg, an undeclared allergen.</td>\n",
       "      <td>FOOD SERVICE - Mombo s Vanilla Soft Serve Ice ...</td>\n",
       "      <td>96165</td>\n",
       "      <td>Class I</td>\n",
       "      <td>212179</td>\n",
       "      <td>CFSAN</td>\n",
       "      <td>https://www.accessdata.fda.gov/scripts/ires/?P...</td>\n",
       "    </tr>\n",
       "    <tr>\n",
       "      <th>1</th>\n",
       "      <td>3012966183</td>\n",
       "      <td>Tyber Medical</td>\n",
       "      <td>Devices</td>\n",
       "      <td>Class II</td>\n",
       "      <td>Ongoing</td>\n",
       "      <td>Nationwide</td>\n",
       "      <td>Bethlehem</td>\n",
       "      <td>Pennsylvania</td>\n",
       "      <td>United States</td>\n",
       "      <td>2025-02-21</td>\n",
       "      <td>Complaints of the locking screw passing throug...</td>\n",
       "      <td>A.L.P.S. mvX - ANATOMIC LAT FIB PLATE 4H LT: A...</td>\n",
       "      <td>96212</td>\n",
       "      <td>Class II</td>\n",
       "      <td>212343</td>\n",
       "      <td>CDRH</td>\n",
       "      <td>https://www.accessdata.fda.gov/scripts/ires/?P...</td>\n",
       "    </tr>\n",
       "    <tr>\n",
       "      <th>2</th>\n",
       "      <td>3012966183</td>\n",
       "      <td>Tyber Medical</td>\n",
       "      <td>Devices</td>\n",
       "      <td>Class II</td>\n",
       "      <td>Ongoing</td>\n",
       "      <td>Nationwide</td>\n",
       "      <td>Bethlehem</td>\n",
       "      <td>Pennsylvania</td>\n",
       "      <td>United States</td>\n",
       "      <td>2025-02-21</td>\n",
       "      <td>Complaints of the locking screw passing throug...</td>\n",
       "      <td>A.L.P.S. mvX -ANATOMIC LAT FIB PLATE 4H RT: An...</td>\n",
       "      <td>96212</td>\n",
       "      <td>Class II</td>\n",
       "      <td>212344</td>\n",
       "      <td>CDRH</td>\n",
       "      <td>https://www.accessdata.fda.gov/scripts/ires/?P...</td>\n",
       "    </tr>\n",
       "    <tr>\n",
       "      <th>3</th>\n",
       "      <td>3012966183</td>\n",
       "      <td>Tyber Medical</td>\n",
       "      <td>Devices</td>\n",
       "      <td>Class II</td>\n",
       "      <td>Ongoing</td>\n",
       "      <td>Nationwide</td>\n",
       "      <td>Bethlehem</td>\n",
       "      <td>Pennsylvania</td>\n",
       "      <td>United States</td>\n",
       "      <td>2025-02-21</td>\n",
       "      <td>Complaints of the locking screw passing throug...</td>\n",
       "      <td>A.L.P.S. mvX -ANATOMIC LAT FIB PLATE 6H LT- An...</td>\n",
       "      <td>96212</td>\n",
       "      <td>Class II</td>\n",
       "      <td>212345</td>\n",
       "      <td>CDRH</td>\n",
       "      <td>https://www.accessdata.fda.gov/scripts/ires/?P...</td>\n",
       "    </tr>\n",
       "    <tr>\n",
       "      <th>4</th>\n",
       "      <td>3012966183</td>\n",
       "      <td>Tyber Medical</td>\n",
       "      <td>Devices</td>\n",
       "      <td>Class II</td>\n",
       "      <td>Ongoing</td>\n",
       "      <td>Nationwide</td>\n",
       "      <td>Bethlehem</td>\n",
       "      <td>Pennsylvania</td>\n",
       "      <td>United States</td>\n",
       "      <td>2025-02-21</td>\n",
       "      <td>Complaints of the locking screw passing throug...</td>\n",
       "      <td>A.L.P.S. mvX- ANATOMIC LAT FIB PLATE 6H RT: An...</td>\n",
       "      <td>96212</td>\n",
       "      <td>Class II</td>\n",
       "      <td>212346</td>\n",
       "      <td>CDRH</td>\n",
       "      <td>https://www.accessdata.fda.gov/scripts/ires/?P...</td>\n",
       "    </tr>\n",
       "  </tbody>\n",
       "</table>\n",
       "</div>"
      ],
      "text/plain": [
       "   FEI Number        Recalling Firm Name    Product Type  \\\n",
       "0     2016693  Arizona Foods Group, Inc.  Food/Cosmetics   \n",
       "1  3012966183              Tyber Medical         Devices   \n",
       "2  3012966183              Tyber Medical         Devices   \n",
       "3  3012966183              Tyber Medical         Devices   \n",
       "4  3012966183              Tyber Medical         Devices   \n",
       "\n",
       "  Product Classification     Status              Distribution Pattern  \\\n",
       "0                Class I  Completed  Domestic distribution within NV.   \n",
       "1               Class II    Ongoing                        Nationwide   \n",
       "2               Class II    Ongoing                        Nationwide   \n",
       "3               Class II    Ongoing                        Nationwide   \n",
       "4               Class II    Ongoing                        Nationwide   \n",
       "\n",
       "  Recalling Firm City Recalling Firm State Recalling Firm Country  \\\n",
       "0             Phoenix              Arizona          United States   \n",
       "1           Bethlehem         Pennsylvania          United States   \n",
       "2           Bethlehem         Pennsylvania          United States   \n",
       "3           Bethlehem         Pennsylvania          United States   \n",
       "4           Bethlehem         Pennsylvania          United States   \n",
       "\n",
       "  Center Classification Date  \\\n",
       "0                 2025-02-21   \n",
       "1                 2025-02-21   \n",
       "2                 2025-02-21   \n",
       "3                 2025-02-21   \n",
       "4                 2025-02-21   \n",
       "\n",
       "                                   Reason for Recall  \\\n",
       "0   Product may contain egg, an undeclared allergen.   \n",
       "1  Complaints of the locking screw passing throug...   \n",
       "2  Complaints of the locking screw passing throug...   \n",
       "3  Complaints of the locking screw passing throug...   \n",
       "4  Complaints of the locking screw passing throug...   \n",
       "\n",
       "                                 Product Description  Event ID  \\\n",
       "0  FOOD SERVICE - Mombo s Vanilla Soft Serve Ice ...     96165   \n",
       "1  A.L.P.S. mvX - ANATOMIC LAT FIB PLATE 4H LT: A...     96212   \n",
       "2  A.L.P.S. mvX -ANATOMIC LAT FIB PLATE 4H RT: An...     96212   \n",
       "3  A.L.P.S. mvX -ANATOMIC LAT FIB PLATE 6H LT- An...     96212   \n",
       "4  A.L.P.S. mvX- ANATOMIC LAT FIB PLATE 6H RT: An...     96212   \n",
       "\n",
       "  Event Classification  Product ID Center  \\\n",
       "0              Class I      212179  CFSAN   \n",
       "1             Class II      212343   CDRH   \n",
       "2             Class II      212344   CDRH   \n",
       "3             Class II      212345   CDRH   \n",
       "4             Class II      212346   CDRH   \n",
       "\n",
       "                                      Recall Details  \n",
       "0  https://www.accessdata.fda.gov/scripts/ires/?P...  \n",
       "1  https://www.accessdata.fda.gov/scripts/ires/?P...  \n",
       "2  https://www.accessdata.fda.gov/scripts/ires/?P...  \n",
       "3  https://www.accessdata.fda.gov/scripts/ires/?P...  \n",
       "4  https://www.accessdata.fda.gov/scripts/ires/?P...  "
      ]
     },
     "metadata": {},
     "output_type": "display_data"
    }
   ],
   "source": [
    "# Preview\n",
    "display(df.head())"
   ]
  },
  {
   "cell_type": "code",
   "execution_count": 5,
   "id": "7c91e526-b38a-4cf0-b776-c1a86b1d8a9f",
   "metadata": {},
   "outputs": [],
   "source": [
    "# Create a copy of the original dataframe to work with\n",
    "df_processed = df.copy()"
   ]
  },
  {
   "cell_type": "markdown",
   "id": "9e85bee4-8bd4-41af-be1c-feec27c26653",
   "metadata": {},
   "source": [
    "# Step 1: Feature engineering for 'Center Classification Date'"
   ]
  },
  {
   "cell_type": "code",
   "execution_count": 6,
   "id": "4b7789c6-f126-4a5f-ad39-30d6540f9ed4",
   "metadata": {},
   "outputs": [],
   "source": [
    "# Confirm datetime format\n",
    "df_processed['Center Classification Date'] = pd.to_datetime(df_processed['Center Classification Date'], errors='coerce')"
   ]
  },
  {
   "cell_type": "code",
   "execution_count": 7,
   "id": "e1bf7d05-8800-4765-9293-a98c46a372fa",
   "metadata": {},
   "outputs": [
    {
     "name": "stdout",
     "output_type": "stream",
     "text": [
      "Created temporal features from 'Center Classification Date'\n",
      "Preview of temporal features:\n"
     ]
    },
    {
     "data": {
      "text/html": [
       "<div>\n",
       "<style scoped>\n",
       "    .dataframe tbody tr th:only-of-type {\n",
       "        vertical-align: middle;\n",
       "    }\n",
       "\n",
       "    .dataframe tbody tr th {\n",
       "        vertical-align: top;\n",
       "    }\n",
       "\n",
       "    .dataframe thead th {\n",
       "        text-align: right;\n",
       "    }\n",
       "</style>\n",
       "<table border=\"1\" class=\"dataframe\">\n",
       "  <thead>\n",
       "    <tr style=\"text-align: right;\">\n",
       "      <th></th>\n",
       "      <th>Classification Year</th>\n",
       "      <th>Classification Month</th>\n",
       "      <th>Classification Day</th>\n",
       "      <th>Classification DayOfWeek</th>\n",
       "    </tr>\n",
       "  </thead>\n",
       "  <tbody>\n",
       "    <tr>\n",
       "      <th>0</th>\n",
       "      <td>2025</td>\n",
       "      <td>2</td>\n",
       "      <td>21</td>\n",
       "      <td>4</td>\n",
       "    </tr>\n",
       "    <tr>\n",
       "      <th>1</th>\n",
       "      <td>2025</td>\n",
       "      <td>2</td>\n",
       "      <td>21</td>\n",
       "      <td>4</td>\n",
       "    </tr>\n",
       "    <tr>\n",
       "      <th>2</th>\n",
       "      <td>2025</td>\n",
       "      <td>2</td>\n",
       "      <td>21</td>\n",
       "      <td>4</td>\n",
       "    </tr>\n",
       "    <tr>\n",
       "      <th>3</th>\n",
       "      <td>2025</td>\n",
       "      <td>2</td>\n",
       "      <td>21</td>\n",
       "      <td>4</td>\n",
       "    </tr>\n",
       "    <tr>\n",
       "      <th>4</th>\n",
       "      <td>2025</td>\n",
       "      <td>2</td>\n",
       "      <td>21</td>\n",
       "      <td>4</td>\n",
       "    </tr>\n",
       "  </tbody>\n",
       "</table>\n",
       "</div>"
      ],
      "text/plain": [
       "   Classification Year  Classification Month  Classification Day  \\\n",
       "0                 2025                     2                  21   \n",
       "1                 2025                     2                  21   \n",
       "2                 2025                     2                  21   \n",
       "3                 2025                     2                  21   \n",
       "4                 2025                     2                  21   \n",
       "\n",
       "   Classification DayOfWeek  \n",
       "0                         4  \n",
       "1                         4  \n",
       "2                         4  \n",
       "3                         4  \n",
       "4                         4  "
      ]
     },
     "metadata": {},
     "output_type": "display_data"
    }
   ],
   "source": [
    "# Extract temporal features\n",
    "df_processed['Classification Year'] = df_processed['Center Classification Date'].dt.year\n",
    "df_processed['Classification Month'] = df_processed['Center Classification Date'].dt.month\n",
    "df_processed['Classification Day'] = df_processed['Center Classification Date'].dt.day\n",
    "df_processed['Classification DayOfWeek'] = df_processed['Center Classification Date'].dt.dayofweek\n",
    "\n",
    "print(\"Created temporal features from 'Center Classification Date'\")\n",
    "print(\"Preview of temporal features:\")\n",
    "display(df_processed[['Classification Year', 'Classification Month', 'Classification Day', 'Classification DayOfWeek']].head())"
   ]
  },
  {
   "cell_type": "markdown",
   "id": "037cb08d-4a23-44a3-8d73-f899f430cb18",
   "metadata": {},
   "source": [
    "# Step 2: Verify relationship between Center and Product Type"
   ]
  },
  {
   "cell_type": "code",
   "execution_count": 8,
   "id": "f5b37c70-5450-4b22-aa38-d5752c537a53",
   "metadata": {},
   "outputs": [
    {
     "name": "stdout",
     "output_type": "stream",
     "text": [
      "\n",
      "Crosstab of Center vs Product Type (from original data):\n",
      "Product Type  Biologics  Devices  Drugs  Food/Cosmetics  Tobacco  Veterinary\n",
      "Center                                                                      \n",
      "CBER              12051        0      0               0        0           0\n",
      "CDER                  0        0  16702               0        0           0\n",
      "CDRH                  0    35475      0               0        0           0\n",
      "CFSAN                 0        0      0           27435        0           0\n",
      "CTP                   0        0      0               0        9           0\n",
      "CVM                   0        0      0               0        0        3410\n"
     ]
    }
   ],
   "source": [
    "center_product_crosstab = pd.crosstab(df['Center'], df['Product Type'])\n",
    "print(\"\\nCrosstab of Center vs Product Type (from original data):\")\n",
    "print(center_product_crosstab)"
   ]
  },
  {
   "cell_type": "markdown",
   "id": "718c4b7d-4e29-4c2a-a128-0a8b40a13e65",
   "metadata": {},
   "source": [
    "# Step 3: Feature engineering for 'Recalling Firm Name' and 'Distribution Pattern'"
   ]
  },
  {
   "cell_type": "code",
   "execution_count": 9,
   "id": "955fa243-2b0b-4694-a9fb-e5f11bd33a55",
   "metadata": {},
   "outputs": [
    {
     "name": "stdout",
     "output_type": "stream",
     "text": [
      "Cardinality of 'Recalling Firm Name': 9927\n",
      "Cardinality of 'Distribution Pattern': 20312\n"
     ]
    }
   ],
   "source": [
    "# Check cardinality\n",
    "print(f\"Cardinality of 'Recalling Firm Name': {df_processed['Recalling Firm Name'].nunique()}\")\n",
    "print(f\"Cardinality of 'Distribution Pattern': {df_processed['Distribution Pattern'].nunique()}\")"
   ]
  },
  {
   "cell_type": "markdown",
   "id": "67e1fa6f-3c65-46df-8ead-d0a1bdb87272",
   "metadata": {},
   "source": [
    "Frequency-based encoding for 'Recalling Firm Name'"
   ]
  },
  {
   "cell_type": "code",
   "execution_count": 10,
   "id": "c618a56c-19ac-41ea-ab6c-33a089db4161",
   "metadata": {},
   "outputs": [],
   "source": [
    "# Count how many times each firm has issued a recall\n",
    "firm_counts = df_processed.groupby('Recalling Firm Name').size().reset_index(name='Firm_Recall_Count')\n",
    "\n",
    "# Calculate class proportions for each firm\n",
    "for class_type in df_processed['Event Classification'].unique():\n",
    "    class_prop = df_processed.groupby('Recalling Firm Name')['Event Classification'].apply(\n",
    "        lambda x: (x == class_type).mean()\n",
    "    ).reset_index(name=f'Firm_Prop_{class_type.replace(\" \", \"_\")}')\n",
    "    \n",
    "    # Merge back to firm_counts\n",
    "    firm_counts = pd.merge(firm_counts, class_prop, on='Recalling Firm Name', how='left')"
   ]
  },
  {
   "cell_type": "code",
   "execution_count": 11,
   "id": "ae5a87e7-118d-48a3-9862-15de81aca9e4",
   "metadata": {},
   "outputs": [],
   "source": [
    "# Add categorical size based on recall frequency\n",
    "try:\n",
    "    # First, check if we have enough unique values for 5 bins\n",
    "    unique_count_values = firm_counts['Firm_Recall_Count'].nunique()\n",
    "    if unique_count_values >= 5:\n",
    "        firm_counts['Firm_Size_Category'] = pd.qcut(\n",
    "            firm_counts['Firm_Recall_Count'], \n",
    "            q=5, \n",
    "            labels=['Very Low Volume', 'Low Volume', 'Medium Volume', 'High Volume', 'Very High Volume'],\n",
    "            duplicates='drop'  # Handle any duplicate bin edges\n",
    "        )\n",
    "    else:\n",
    "        # Not enough unique values for 5 quantiles\n",
    "        firm_counts['Firm_Size_Category'] = pd.cut(\n",
    "            firm_counts['Firm_Recall_Count'],\n",
    "            bins=[0, 1, 2, 5, 10, float('inf')],\n",
    "            labels=['Very Low Volume', 'Low Volume', 'Medium Volume', 'High Volume', 'Very High Volume']\n",
    "        )\n",
    "except ValueError:\n",
    "    # If either method fails, use a simple categorical approach\n",
    "    firm_counts['Firm_Size_Category'] = 'Medium Volume'  # Default value\n",
    "    \n",
    "    # Assign categories based on count thresholds\n",
    "    firm_counts.loc[firm_counts['Firm_Recall_Count'] == 1, 'Firm_Size_Category'] = 'Very Low Volume'\n",
    "    firm_counts.loc[(firm_counts['Firm_Recall_Count'] > 1) & (firm_counts['Firm_Recall_Count'] <= 3), 'Firm_Size_Category'] = 'Low Volume'\n",
    "    firm_counts.loc[(firm_counts['Firm_Recall_Count'] > 3) & (firm_counts['Firm_Recall_Count'] <= 10), 'Firm_Size_Category'] = 'Medium Volume'\n",
    "    firm_counts.loc[(firm_counts['Firm_Recall_Count'] > 10) & (firm_counts['Firm_Recall_Count'] <= 30), 'Firm_Size_Category'] = 'High Volume'\n",
    "    firm_counts.loc[firm_counts['Firm_Recall_Count'] > 30, 'Firm_Size_Category'] = 'Very High Volume'"
   ]
  },
  {
   "cell_type": "markdown",
   "id": "95144d06-18aa-4515-ab85-b0ee7dc4b3de",
   "metadata": {},
   "source": [
    "Frequency-based encoding for 'Distribution Pattern'"
   ]
  },
  {
   "cell_type": "code",
   "execution_count": 12,
   "id": "32b78192-0cbf-4e87-88c3-fd3918dc6023",
   "metadata": {},
   "outputs": [],
   "source": [
    "# Handle missing values in Distribution Pattern\n",
    "df_processed['Distribution Pattern'] = df_processed['Distribution Pattern'].fillna('Unknown')\n",
    "distribution_counts = df_processed.groupby('Distribution Pattern').size().reset_index(name='Distribution_Pattern_Count')"
   ]
  },
  {
   "cell_type": "code",
   "execution_count": 13,
   "id": "0bb3bc47-85de-40dc-bcff-cdcc2b56164d",
   "metadata": {},
   "outputs": [],
   "source": [
    "# Calculate class proportions for each distribution pattern\n",
    "for class_type in df_processed['Event Classification'].unique():\n",
    "    class_prop = df_processed.groupby('Distribution Pattern')['Event Classification'].apply(\n",
    "        lambda x: (x == class_type).mean()\n",
    "    ).reset_index(name=f'Distribution_Prop_{class_type.replace(\" \", \"_\")}')\n",
    "    \n",
    "    # Merge back to distribution_counts\n",
    "    distribution_counts = pd.merge(distribution_counts, class_prop, on='Distribution Pattern', how='left')"
   ]
  },
  {
   "cell_type": "code",
   "execution_count": 14,
   "id": "d155ac6c-bd3f-44bd-9de9-0394ef0659c9",
   "metadata": {},
   "outputs": [
    {
     "name": "stdout",
     "output_type": "stream",
     "text": [
      "Encoded high cardinality variables with frequency-based features\n",
      "Preview of new features:\n"
     ]
    },
    {
     "data": {
      "text/html": [
       "<div>\n",
       "<style scoped>\n",
       "    .dataframe tbody tr th:only-of-type {\n",
       "        vertical-align: middle;\n",
       "    }\n",
       "\n",
       "    .dataframe tbody tr th {\n",
       "        vertical-align: top;\n",
       "    }\n",
       "\n",
       "    .dataframe thead th {\n",
       "        text-align: right;\n",
       "    }\n",
       "</style>\n",
       "<table border=\"1\" class=\"dataframe\">\n",
       "  <thead>\n",
       "    <tr style=\"text-align: right;\">\n",
       "      <th></th>\n",
       "      <th>Firm_Recall_Count</th>\n",
       "      <th>Firm_Prop_Class_I</th>\n",
       "      <th>Firm_Size_Category</th>\n",
       "      <th>Distribution_Pattern_Count</th>\n",
       "      <th>Distribution_Prop_Class_I</th>\n",
       "    </tr>\n",
       "  </thead>\n",
       "  <tbody>\n",
       "    <tr>\n",
       "      <th>0</th>\n",
       "      <td>1</td>\n",
       "      <td>1.0</td>\n",
       "      <td>Very Low Volume</td>\n",
       "      <td>1</td>\n",
       "      <td>1.000000</td>\n",
       "    </tr>\n",
       "    <tr>\n",
       "      <th>1</th>\n",
       "      <td>18</td>\n",
       "      <td>0.0</td>\n",
       "      <td>High Volume</td>\n",
       "      <td>4894</td>\n",
       "      <td>0.144054</td>\n",
       "    </tr>\n",
       "    <tr>\n",
       "      <th>2</th>\n",
       "      <td>18</td>\n",
       "      <td>0.0</td>\n",
       "      <td>High Volume</td>\n",
       "      <td>4894</td>\n",
       "      <td>0.144054</td>\n",
       "    </tr>\n",
       "    <tr>\n",
       "      <th>3</th>\n",
       "      <td>18</td>\n",
       "      <td>0.0</td>\n",
       "      <td>High Volume</td>\n",
       "      <td>4894</td>\n",
       "      <td>0.144054</td>\n",
       "    </tr>\n",
       "    <tr>\n",
       "      <th>4</th>\n",
       "      <td>18</td>\n",
       "      <td>0.0</td>\n",
       "      <td>High Volume</td>\n",
       "      <td>4894</td>\n",
       "      <td>0.144054</td>\n",
       "    </tr>\n",
       "  </tbody>\n",
       "</table>\n",
       "</div>"
      ],
      "text/plain": [
       "   Firm_Recall_Count  Firm_Prop_Class_I Firm_Size_Category  \\\n",
       "0                  1                1.0    Very Low Volume   \n",
       "1                 18                0.0        High Volume   \n",
       "2                 18                0.0        High Volume   \n",
       "3                 18                0.0        High Volume   \n",
       "4                 18                0.0        High Volume   \n",
       "\n",
       "   Distribution_Pattern_Count  Distribution_Prop_Class_I  \n",
       "0                           1                   1.000000  \n",
       "1                        4894                   0.144054  \n",
       "2                        4894                   0.144054  \n",
       "3                        4894                   0.144054  \n",
       "4                        4894                   0.144054  "
      ]
     },
     "metadata": {},
     "output_type": "display_data"
    }
   ],
   "source": [
    "# Merge the new features back to the dataframe\n",
    "df_processed = pd.merge(df_processed, firm_counts, on='Recalling Firm Name', how='left')\n",
    "df_processed = pd.merge(df_processed, distribution_counts, on='Distribution Pattern', how='left')\n",
    "\n",
    "print(\"Encoded high cardinality variables with frequency-based features\")\n",
    "print(\"Preview of new features:\")\n",
    "display(df_processed[['Firm_Recall_Count', 'Firm_Prop_Class_I', 'Firm_Size_Category', \n",
    "                     'Distribution_Pattern_Count', 'Distribution_Prop_Class_I']].head())"
   ]
  },
  {
   "cell_type": "markdown",
   "id": "ce22dd30-1702-4276-b1a8-9e5943325c15",
   "metadata": {},
   "source": [
    "# Step 4: Feature engineering for geographical variables (city and state)"
   ]
  },
  {
   "cell_type": "markdown",
   "id": "1919506d-d4c0-4f47-8967-69e1620de85d",
   "metadata": {},
   "source": [
    "Create state-level aggregation features"
   ]
  },
  {
   "cell_type": "code",
   "execution_count": 15,
   "id": "e288c189-70b0-4a24-96c1-eb93374374be",
   "metadata": {},
   "outputs": [],
   "source": [
    "# count the number of recalls associated with each state\n",
    "state_counts = df_processed.groupby('Recalling Firm State').size().reset_index(name='State_Recall_Count')\n",
    "\n",
    "# Calculate class proportions by state for each classification type\n",
    "for class_type in df_processed['Event Classification'].unique():\n",
    "    class_name = class_type.replace(' ', '_')\n",
    "    state_prop = df_processed.groupby('Recalling Firm State')['Event Classification'].apply(\n",
    "        lambda x: (x == class_type).mean()\n",
    "    ).reset_index(name=f'State_Prop_{class_name}')\n",
    "    \n",
    "    # Merge back to state_counts\n",
    "    state_counts = pd.merge(state_counts, state_prop, on='Recalling Firm State', how='left')"
   ]
  },
  {
   "cell_type": "markdown",
   "id": "0472de03-1142-4bbd-ac15-7601e63558ce",
   "metadata": {},
   "source": [
    "Create city-level features with aggregation to reduce cardinality"
   ]
  },
  {
   "cell_type": "code",
   "execution_count": 16,
   "id": "3065b430-6184-49ec-9975-488e8f45eb2e",
   "metadata": {},
   "outputs": [],
   "source": [
    "# count the number of recalls associated with each city\n",
    "city_counts = df_processed.groupby('Recalling Firm City').size().reset_index(name='City_Recall_Count')\n",
    "\n",
    "# Categorize cities into frequency buckets\n",
    "try:\n",
    "    # First, check if we have enough unique values for 5 bins\n",
    "    unique_count_values = city_counts['City_Recall_Count'].nunique()\n",
    "    if unique_count_values >= 5:\n",
    "        city_counts['City_Size_Category'] = pd.qcut(\n",
    "            city_counts['City_Recall_Count'], \n",
    "            q=5, \n",
    "            labels=['Very Small', 'Small', 'Medium', 'Large', 'Very Large'],\n",
    "            duplicates='drop'\n",
    "        )\n",
    "    else:\n",
    "        # Not enough unique values for 5 quantiles\n",
    "        city_counts['City_Size_Category'] = pd.cut(\n",
    "            city_counts['City_Recall_Count'],\n",
    "            bins=[0, 1, 2, 5, 10, float('inf')],\n",
    "            labels=['Very Small', 'Small', 'Medium', 'Large', 'Very Large']\n",
    "        )\n",
    "except ValueError:\n",
    "    # If either method fails, use a simple categorical approach\n",
    "    city_counts['City_Size_Category'] = 'Medium'  # Default value\n",
    "    \n",
    "    # Assign categories based on count thresholds\n",
    "    city_counts.loc[city_counts['City_Recall_Count'] == 1, 'City_Size_Category'] = 'Very Small'\n",
    "    city_counts.loc[(city_counts['City_Recall_Count'] > 1) & (city_counts['City_Recall_Count'] <= 3), 'City_Size_Category'] = 'Small'\n",
    "    city_counts.loc[(city_counts['City_Recall_Count'] > 3) & (city_counts['City_Recall_Count'] <= 10), 'City_Size_Category'] = 'Medium'\n",
    "    city_counts.loc[(city_counts['City_Recall_Count'] > 10) & (city_counts['City_Recall_Count'] <= 30), 'City_Size_Category'] = 'Large'\n",
    "    city_counts.loc[city_counts['City_Recall_Count'] > 30, 'City_Size_Category'] = 'Very Large'"
   ]
  },
  {
   "cell_type": "markdown",
   "id": "deb5dada-73e3-4eab-ac29-73fb26a04692",
   "metadata": {},
   "source": [
    "Create location-based risk scores for all classes"
   ]
  },
  {
   "cell_type": "code",
   "execution_count": 17,
   "id": "1cbc7608-5d3d-42c2-8ffe-57917052a338",
   "metadata": {},
   "outputs": [],
   "source": [
    "# Calculate proportion of recall events that belong to a specific classification for ea city\n",
    "city_class_props = {}\n",
    "for class_type in df_processed['Event Classification'].unique():\n",
    "    class_name = class_type.replace(' ', '_')\n",
    "    city_risk = df_processed.groupby('Recalling Firm City')['Event Classification'].apply(\n",
    "        lambda x: (x == class_type).mean()\n",
    "    ).reset_index(name=f'City_{class_name}_Risk')\n",
    "    city_class_props[class_name] = city_risk"
   ]
  },
  {
   "cell_type": "code",
   "execution_count": 18,
   "id": "c14abbe4-df18-4e29-8883-2e01385ccdb4",
   "metadata": {},
   "outputs": [],
   "source": [
    "# Merge geographical features to df_processed\n",
    "df_processed = pd.merge(df_processed, state_counts, on='Recalling Firm State', how='left')\n",
    "df_processed = pd.merge(df_processed, city_counts, on='Recalling Firm City', how='left')"
   ]
  },
  {
   "cell_type": "code",
   "execution_count": 19,
   "id": "de1affe1-e9f0-4e82-bc8d-bcbe2f7e11d4",
   "metadata": {},
   "outputs": [],
   "source": [
    "# Merge city risk scores\n",
    "for class_name, risk_df in city_class_props.items():\n",
    "    df_processed = pd.merge(df_processed, risk_df, on='Recalling Firm City', how='left')"
   ]
  },
  {
   "cell_type": "markdown",
   "id": "47112805-8e13-49a2-a7c0-ef7146f09310",
   "metadata": {},
   "source": [
    "Fill missing values with overall proportions where appropriate"
   ]
  },
  {
   "cell_type": "code",
   "execution_count": 20,
   "id": "0c21aa58-2df0-4311-823c-12a4ef18c136",
   "metadata": {},
   "outputs": [],
   "source": [
    "# Fill in missing city risk values\n",
    "for class_type in df_processed['Event Classification'].unique():\n",
    "    class_name = class_type.replace(' ', '_')\n",
    "    overall_prop = df_processed['Event Classification'].value_counts(normalize=True).get(class_type, 0)\n",
    "    df_processed.fillna({f'City_{class_name}_Risk': overall_prop}, inplace=True)"
   ]
  },
  {
   "cell_type": "code",
   "execution_count": 21,
   "id": "0f3193ca-33d5-433b-8d8c-230354fe0560",
   "metadata": {},
   "outputs": [],
   "source": [
    "# Fill any other missing numerical values\n",
    "numerical_cols = df_processed.select_dtypes(include=['number']).columns\n",
    "for col in numerical_cols:\n",
    "    if df_processed[col].isna().any():\n",
    "        if col.startswith('City_') or col.startswith('State_'):\n",
    "            df_processed[col].fillna(0, inplace=True)"
   ]
  },
  {
   "cell_type": "markdown",
   "id": "9607349c-c149-4e55-9241-b4ef4f575503",
   "metadata": {},
   "source": [
    "Create regional features"
   ]
  },
  {
   "cell_type": "code",
   "execution_count": 22,
   "id": "81c8a1f6-2582-4a85-9a11-f95d8726f31c",
   "metadata": {},
   "outputs": [],
   "source": [
    "# Define regions based on states\n",
    "northeast = ['Maine', 'New Hampshire', 'Vermont', 'Massachusetts', 'Rhode Island', 'Connecticut', \n",
    "             'New York', 'New Jersey', 'Pennsylvania']\n",
    "midwest = ['Ohio', 'Michigan', 'Indiana', 'Wisconsin', 'Illinois', 'Minnesota', \n",
    "           'Iowa', 'Missouri', 'North Dakota', 'South Dakota', 'Nebraska', 'Kansas']\n",
    "south = ['Delaware', 'Maryland', 'Virginia', 'West Virginia', 'Kentucky', 'North Carolina', \n",
    "         'South Carolina', 'Tennessee', 'Georgia', 'Florida', 'Alabama', 'Mississippi', \n",
    "         'Arkansas', 'Louisiana', 'Texas', 'Oklahoma']\n",
    "west = ['Montana', 'Idaho', 'Wyoming', 'Colorado', 'New Mexico', 'Arizona', 'Utah', \n",
    "        'Nevada', 'California', 'Oregon', 'Washington', 'Alaska', 'Hawaii']"
   ]
  },
  {
   "cell_type": "code",
   "execution_count": 23,
   "id": "d74bd6a4-13bb-491a-82cb-8d6584841f09",
   "metadata": {},
   "outputs": [],
   "source": [
    "# Function to map states to regions\n",
    "def get_region(state):\n",
    "    if state in northeast:\n",
    "        return 'Northeast'\n",
    "    elif state in midwest:\n",
    "        return 'Midwest'\n",
    "    elif state in south:\n",
    "        return 'South'\n",
    "    elif state in west:\n",
    "        return 'West'\n",
    "    else:\n",
    "        return 'Other'"
   ]
  },
  {
   "cell_type": "code",
   "execution_count": 24,
   "id": "358f2fcc-c90e-4de5-b8ed-12a93c8ccc9a",
   "metadata": {},
   "outputs": [],
   "source": [
    "# Apply the mapping function to create the region column\n",
    "df_processed['Region'] = df_processed['Recalling Firm State'].apply(get_region)"
   ]
  },
  {
   "cell_type": "code",
   "execution_count": 25,
   "id": "54a0c751-d680-45ae-8a85-63197f018d95",
   "metadata": {},
   "outputs": [],
   "source": [
    "# Create one-hot encoded region features\n",
    "region_dummies = pd.get_dummies(df_processed['Region'], prefix='Region')\n",
    "df_processed = pd.concat([df_processed, region_dummies], axis=1)"
   ]
  },
  {
   "cell_type": "code",
   "execution_count": 26,
   "id": "3d19f0e0-5d36-4cd8-96c2-7bd646109cc9",
   "metadata": {},
   "outputs": [
    {
     "data": {
      "text/html": [
       "<div>\n",
       "<style scoped>\n",
       "    .dataframe tbody tr th:only-of-type {\n",
       "        vertical-align: middle;\n",
       "    }\n",
       "\n",
       "    .dataframe tbody tr th {\n",
       "        vertical-align: top;\n",
       "    }\n",
       "\n",
       "    .dataframe thead th {\n",
       "        text-align: right;\n",
       "    }\n",
       "</style>\n",
       "<table border=\"1\" class=\"dataframe\">\n",
       "  <thead>\n",
       "    <tr style=\"text-align: right;\">\n",
       "      <th></th>\n",
       "      <th>State_Recall_Count</th>\n",
       "      <th>State_Prop_Class_I</th>\n",
       "      <th>State_Prop_Class_II</th>\n",
       "      <th>State_Prop_Class_III</th>\n",
       "      <th>City_Recall_Count</th>\n",
       "      <th>City_Size_Category</th>\n",
       "      <th>City_Class_I_Risk</th>\n",
       "      <th>City_Class_II_Risk</th>\n",
       "      <th>City_Class_III_Risk</th>\n",
       "      <th>Region_Midwest</th>\n",
       "      <th>Region_Northeast</th>\n",
       "      <th>Region_Other</th>\n",
       "      <th>Region_South</th>\n",
       "      <th>Region_West</th>\n",
       "    </tr>\n",
       "  </thead>\n",
       "  <tbody>\n",
       "    <tr>\n",
       "      <th>0</th>\n",
       "      <td>1474</td>\n",
       "      <td>0.147897</td>\n",
       "      <td>0.778833</td>\n",
       "      <td>0.073270</td>\n",
       "      <td>446</td>\n",
       "      <td>Very Large</td>\n",
       "      <td>0.266816</td>\n",
       "      <td>0.690583</td>\n",
       "      <td>0.042601</td>\n",
       "      <td>False</td>\n",
       "      <td>False</td>\n",
       "      <td>False</td>\n",
       "      <td>False</td>\n",
       "      <td>True</td>\n",
       "    </tr>\n",
       "    <tr>\n",
       "      <th>1</th>\n",
       "      <td>4559</td>\n",
       "      <td>0.148936</td>\n",
       "      <td>0.797543</td>\n",
       "      <td>0.053521</td>\n",
       "      <td>308</td>\n",
       "      <td>Very Large</td>\n",
       "      <td>0.029221</td>\n",
       "      <td>0.827922</td>\n",
       "      <td>0.142857</td>\n",
       "      <td>False</td>\n",
       "      <td>True</td>\n",
       "      <td>False</td>\n",
       "      <td>False</td>\n",
       "      <td>False</td>\n",
       "    </tr>\n",
       "    <tr>\n",
       "      <th>2</th>\n",
       "      <td>4559</td>\n",
       "      <td>0.148936</td>\n",
       "      <td>0.797543</td>\n",
       "      <td>0.053521</td>\n",
       "      <td>308</td>\n",
       "      <td>Very Large</td>\n",
       "      <td>0.029221</td>\n",
       "      <td>0.827922</td>\n",
       "      <td>0.142857</td>\n",
       "      <td>False</td>\n",
       "      <td>True</td>\n",
       "      <td>False</td>\n",
       "      <td>False</td>\n",
       "      <td>False</td>\n",
       "    </tr>\n",
       "    <tr>\n",
       "      <th>3</th>\n",
       "      <td>4559</td>\n",
       "      <td>0.148936</td>\n",
       "      <td>0.797543</td>\n",
       "      <td>0.053521</td>\n",
       "      <td>308</td>\n",
       "      <td>Very Large</td>\n",
       "      <td>0.029221</td>\n",
       "      <td>0.827922</td>\n",
       "      <td>0.142857</td>\n",
       "      <td>False</td>\n",
       "      <td>True</td>\n",
       "      <td>False</td>\n",
       "      <td>False</td>\n",
       "      <td>False</td>\n",
       "    </tr>\n",
       "    <tr>\n",
       "      <th>4</th>\n",
       "      <td>4559</td>\n",
       "      <td>0.148936</td>\n",
       "      <td>0.797543</td>\n",
       "      <td>0.053521</td>\n",
       "      <td>308</td>\n",
       "      <td>Very Large</td>\n",
       "      <td>0.029221</td>\n",
       "      <td>0.827922</td>\n",
       "      <td>0.142857</td>\n",
       "      <td>False</td>\n",
       "      <td>True</td>\n",
       "      <td>False</td>\n",
       "      <td>False</td>\n",
       "      <td>False</td>\n",
       "    </tr>\n",
       "  </tbody>\n",
       "</table>\n",
       "</div>"
      ],
      "text/plain": [
       "   State_Recall_Count  State_Prop_Class_I  State_Prop_Class_II  \\\n",
       "0                1474            0.147897             0.778833   \n",
       "1                4559            0.148936             0.797543   \n",
       "2                4559            0.148936             0.797543   \n",
       "3                4559            0.148936             0.797543   \n",
       "4                4559            0.148936             0.797543   \n",
       "\n",
       "   State_Prop_Class_III  City_Recall_Count City_Size_Category  \\\n",
       "0              0.073270                446         Very Large   \n",
       "1              0.053521                308         Very Large   \n",
       "2              0.053521                308         Very Large   \n",
       "3              0.053521                308         Very Large   \n",
       "4              0.053521                308         Very Large   \n",
       "\n",
       "   City_Class_I_Risk  City_Class_II_Risk  City_Class_III_Risk  Region_Midwest  \\\n",
       "0           0.266816            0.690583             0.042601           False   \n",
       "1           0.029221            0.827922             0.142857           False   \n",
       "2           0.029221            0.827922             0.142857           False   \n",
       "3           0.029221            0.827922             0.142857           False   \n",
       "4           0.029221            0.827922             0.142857           False   \n",
       "\n",
       "   Region_Northeast  Region_Other  Region_South  Region_West  \n",
       "0             False         False         False         True  \n",
       "1              True         False         False        False  \n",
       "2              True         False         False        False  \n",
       "3              True         False         False        False  \n",
       "4              True         False         False        False  "
      ]
     },
     "metadata": {},
     "output_type": "display_data"
    }
   ],
   "source": [
    "# new geographical features\n",
    "geo_feature_cols = [col for col in df_processed.columns if col.startswith(('State_', 'City_', 'Region_'))]\n",
    "display(df_processed[geo_feature_cols].head())"
   ]
  },
  {
   "cell_type": "markdown",
   "id": "52d53385-196c-4b62-9702-bfa5253b7c93",
   "metadata": {},
   "source": [
    "# Step 5: Feature engineering for 'Recalling Firm Country'"
   ]
  },
  {
   "cell_type": "markdown",
   "id": "37867a73-f50c-4eab-8352-8ad560d3615e",
   "metadata": {},
   "source": [
    "Preview of new country feature"
   ]
  },
  {
   "cell_type": "code",
   "execution_count": 27,
   "id": "42342d5b-4b0d-497d-9346-d6a568ccdf00",
   "metadata": {},
   "outputs": [
    {
     "data": {
      "text/html": [
       "<div>\n",
       "<style scoped>\n",
       "    .dataframe tbody tr th:only-of-type {\n",
       "        vertical-align: middle;\n",
       "    }\n",
       "\n",
       "    .dataframe tbody tr th {\n",
       "        vertical-align: top;\n",
       "    }\n",
       "\n",
       "    .dataframe thead th {\n",
       "        text-align: right;\n",
       "    }\n",
       "</style>\n",
       "<table border=\"1\" class=\"dataframe\">\n",
       "  <thead>\n",
       "    <tr style=\"text-align: right;\">\n",
       "      <th></th>\n",
       "      <th>Is_US</th>\n",
       "    </tr>\n",
       "  </thead>\n",
       "  <tbody>\n",
       "    <tr>\n",
       "      <th>0</th>\n",
       "      <td>1</td>\n",
       "    </tr>\n",
       "    <tr>\n",
       "      <th>1</th>\n",
       "      <td>1</td>\n",
       "    </tr>\n",
       "    <tr>\n",
       "      <th>2</th>\n",
       "      <td>1</td>\n",
       "    </tr>\n",
       "    <tr>\n",
       "      <th>3</th>\n",
       "      <td>1</td>\n",
       "    </tr>\n",
       "    <tr>\n",
       "      <th>4</th>\n",
       "      <td>1</td>\n",
       "    </tr>\n",
       "  </tbody>\n",
       "</table>\n",
       "</div>"
      ],
      "text/plain": [
       "   Is_US\n",
       "0      1\n",
       "1      1\n",
       "2      1\n",
       "3      1\n",
       "4      1"
      ]
     },
     "metadata": {},
     "output_type": "display_data"
    }
   ],
   "source": [
    "# Create binary US indicator\n",
    "df_processed['Is_US'] = (df_processed['Recalling Firm Country'] == 'United States').astype(int)\n",
    "\n",
    "display(df_processed[['Is_US']].head())"
   ]
  },
  {
   "cell_type": "markdown",
   "id": "33aacbeb-e98e-4cfc-b066-6c577958e1ad",
   "metadata": {},
   "source": [
    "# Step 6: Create dummy variables for remaining categorical features\n",
    "\n",
    "Create dummy variables for categorical features"
   ]
  },
  {
   "cell_type": "code",
   "execution_count": 28,
   "id": "8150e5fc-33a8-4479-a0e2-5243d0d6059e",
   "metadata": {},
   "outputs": [],
   "source": [
    "# Product Classification\n",
    "product_class_dummies = pd.get_dummies(df_processed['Product Classification'], prefix='ProdClass', drop_first=True)\n",
    "df_processed = pd.concat([df_processed, product_class_dummies], axis=1)"
   ]
  },
  {
   "cell_type": "code",
   "execution_count": 29,
   "id": "196a28e9-707a-4a00-a6d3-194098b9fb7d",
   "metadata": {},
   "outputs": [],
   "source": [
    "# Product Type\n",
    "product_type_dummies = pd.get_dummies(df_processed['Product Type'], prefix='ProductType', drop_first=True)\n",
    "df_processed = pd.concat([df_processed, product_type_dummies], axis=1)"
   ]
  },
  {
   "cell_type": "code",
   "execution_count": 30,
   "id": "bd0f8b45-91e0-4eb1-891a-6a2f4826c25a",
   "metadata": {},
   "outputs": [],
   "source": [
    "# Status\n",
    "status_dummies = pd.get_dummies(df_processed['Status'], prefix='Status', drop_first=True)\n",
    "df_processed = pd.concat([df_processed, status_dummies], axis=1)"
   ]
  },
  {
   "cell_type": "code",
   "execution_count": 31,
   "id": "2e494016-63d3-493d-9c48-1fc604af698a",
   "metadata": {},
   "outputs": [],
   "source": [
    "# Firm Size Category\n",
    "firm_size_dummies = pd.get_dummies(df_processed['Firm_Size_Category'], prefix='FirmSize', drop_first=True)\n",
    "df_processed = pd.concat([df_processed, firm_size_dummies], axis=1)"
   ]
  },
  {
   "cell_type": "code",
   "execution_count": 32,
   "id": "8296cb61-3096-4a56-ac47-559e83d53882",
   "metadata": {},
   "outputs": [],
   "source": [
    "# City Size Category\n",
    "city_size_dummies = pd.get_dummies(df_processed['City_Size_Category'], prefix='CitySize', drop_first=True)\n",
    "df_processed = pd.concat([df_processed, city_size_dummies], axis=1)"
   ]
  },
  {
   "cell_type": "markdown",
   "id": "abf7931e-7aa8-4caa-be4f-e365baab41b8",
   "metadata": {},
   "source": [
    "# Step 7: Perform partial cleanup and correlation analysis before text processing"
   ]
  },
  {
   "cell_type": "code",
   "execution_count": 33,
   "id": "4afc9975-2a47-47a7-ad13-a1b23faac848",
   "metadata": {},
   "outputs": [],
   "source": [
    "# Exclude text columns and ID variables, but keep other features\n",
    "text_cols = ['Reason for Recall', 'Product Description']\n",
    "id_cols = [\"FEI Number\", \"Event ID\", \"Product ID\", \"Recall Details\"]"
   ]
  },
  {
   "cell_type": "code",
   "execution_count": 34,
   "id": "60e338d6-feb8-4db0-9c04-2357b3b3ba0d",
   "metadata": {},
   "outputs": [],
   "source": [
    "# List of columns to drop for correlation analysis (excluding text columns we'll need later)\n",
    "correlation_drop_cols = [\n",
    "    # ID variables\n",
    "    \"FEI Number\", \"Event ID\", \"Product ID\", \"Recall Details\",\n",
    "    # Original columns that have been transformed (excluding text columns)\n",
    "    \"Center\", \"Center Classification Date\",\n",
    "    \"Recalling Firm Name\", \"Distribution Pattern\",\n",
    "    \"Recalling Firm City\", \"Recalling Firm State\", \"Recalling Firm Country\",\n",
    "    \"Product Type\", \"Status\",\n",
    "    # Intermediate columns\n",
    "    \"Region\", \"Firm_Size_Category\", \"City_Size_Category\",\n",
    "    # Original categorical columns (now encoded as dummies)\n",
    "    \"Product Classification\", \"Event Classification\"\n",
    "]"
   ]
  },
  {
   "cell_type": "code",
   "execution_count": 35,
   "id": "57ccfb86-2228-4f8e-86de-27b1f1bfefd7",
   "metadata": {},
   "outputs": [],
   "source": [
    "# Filter to only include columns that exist\n",
    "cols_to_drop_for_correlation = [col for col in correlation_drop_cols if col in df_processed.columns]"
   ]
  },
  {
   "cell_type": "code",
   "execution_count": 36,
   "id": "0f1edfbe-f3ae-46ae-9bb1-ac44ecf19b8f",
   "metadata": {},
   "outputs": [],
   "source": [
    "# Create a temporary dataframe for correlation analysis\n",
    "df_for_correlation = df_processed.drop(columns=cols_to_drop_for_correlation)"
   ]
  },
  {
   "cell_type": "code",
   "execution_count": 37,
   "id": "ec987dd8-acbe-4231-946f-7e21eed5b8d8",
   "metadata": {},
   "outputs": [],
   "source": [
    "# drop text columns for correlation analysis\n",
    "df_for_correlation = df_for_correlation.drop(columns=[col for col in text_cols if col in df_for_correlation.columns])"
   ]
  },
  {
   "cell_type": "code",
   "execution_count": 38,
   "id": "46e8a929-908a-458e-9fb7-1644cc6e1380",
   "metadata": {},
   "outputs": [
    {
     "data": {
      "text/plain": [
       "(95082, 43)"
      ]
     },
     "execution_count": 38,
     "metadata": {},
     "output_type": "execute_result"
    }
   ],
   "source": [
    "df_for_correlation.shape"
   ]
  },
  {
   "cell_type": "code",
   "execution_count": 39,
   "id": "aa359f73-a4ca-442e-820d-a09ccf0cc0ea",
   "metadata": {},
   "outputs": [
    {
     "name": "stdout",
     "output_type": "stream",
     "text": [
      "\n",
      "Using 43 numeric columns for correlation analysis:\n",
      "['Classification Year', 'Classification Month', 'Classification Day', 'Classification DayOfWeek', 'Firm_Recall_Count', 'Firm_Prop_Class_I', 'Firm_Prop_Class_II', 'Firm_Prop_Class_III', 'Distribution_Pattern_Count', 'Distribution_Prop_Class_I'] ...\n"
     ]
    }
   ],
   "source": [
    "# Compute correlation matrix with numeric col only\n",
    "numeric_cols = df_for_correlation.select_dtypes(include=['number', 'bool']).columns.tolist()\n",
    "print(f\"\\nUsing {len(numeric_cols)} numeric columns for correlation analysis:\")\n",
    "print(numeric_cols[:10], \"...\" if len(numeric_cols) > 10 else \"\")"
   ]
  },
  {
   "cell_type": "code",
   "execution_count": 40,
   "id": "230c611c-52a8-4ec0-857f-86d46bdde5b7",
   "metadata": {},
   "outputs": [],
   "source": [
    "correlation_matrix = df_for_correlation.corr()"
   ]
  },
  {
   "cell_type": "code",
   "execution_count": 41,
   "id": "45d33629-8b64-487c-99e4-761caed5bf9b",
   "metadata": {},
   "outputs": [],
   "source": [
    "# Identify highly correlated features\n",
    "threshold = 0.8\n",
    "high_corr_pairs = []\n",
    "\n",
    "for i in range(len(correlation_matrix.columns)):\n",
    "    for j in range(i+1, len(correlation_matrix.columns)):\n",
    "        if abs(correlation_matrix.iloc[i, j]) > threshold:\n",
    "            high_corr_pairs.append(\n",
    "                (correlation_matrix.columns[i], \n",
    "                 correlation_matrix.columns[j], \n",
    "                 correlation_matrix.iloc[i, j])\n",
    "            )"
   ]
  },
  {
   "cell_type": "code",
   "execution_count": 42,
   "id": "78859ddf-c7a6-4de3-b2a8-ca75f7d30837",
   "metadata": {},
   "outputs": [
    {
     "name": "stdout",
     "output_type": "stream",
     "text": [
      "\n",
      "Identified 8 highly correlated feature pairs (|r| > 0.8):\n",
      "  - Firm_Prop_Class_I and Firm_Prop_Class_II: r = -0.865\n",
      "  - Firm_Prop_Class_I and Distribution_Prop_Class_I: r = 0.845\n",
      "  - Distribution_Prop_Class_I and Distribution_Prop_Class_II: r = -0.861\n",
      "  - Distribution_Prop_Class_II and ProdClass_Class II: r = 0.803\n",
      "  - State_Prop_Class_I and State_Prop_Class_II: r = -0.942\n",
      "  - City_Class_I_Risk and City_Class_II_Risk: r = -0.890\n",
      "  - Region_Other and Is_US: r = -0.889\n",
      "  - Status_Ongoing and Status_Terminated: r = -0.933\n"
     ]
    }
   ],
   "source": [
    "# Display highly correlated pairs\n",
    "if high_corr_pairs:\n",
    "    print(f\"\\nIdentified {len(high_corr_pairs)} highly correlated feature pairs (|r| > {threshold}):\")\n",
    "    for col1, col2, corr in high_corr_pairs:\n",
    "        print(f\"  - {col1} and {col2}: r = {corr:.3f}\")\n",
    "else:\n",
    "    print(f\"\\nNo highly correlated feature pairs found (|r| > {threshold}).\")"
   ]
  },
  {
   "cell_type": "markdown",
   "id": "6de1f17e-f967-4e89-bab4-7a63efe8f45a",
   "metadata": {},
   "source": [
    "Visualize correlation matrix for key features"
   ]
  },
  {
   "cell_type": "code",
   "execution_count": 43,
   "id": "50f22691-d765-40f7-b668-180c3a68fbdb",
   "metadata": {},
   "outputs": [],
   "source": [
    "# Select a subset of important features to make the visualization manageable\n",
    "if len(numeric_cols) > 25:\n",
    "    # Include key product classification dummies\n",
    "    prod_class_cols = [col for col in numeric_cols if col.startswith('ProdClass')][:3]\n",
    "    \n",
    "    # Select features with highest average absolute correlation\n",
    "    corr_means = correlation_matrix.abs().mean().sort_values(ascending=False)\n",
    "    top_correlated = corr_means[:15].index.tolist()\n",
    "    \n",
    "    # Combine interesting features\n",
    "    top_features = list(set(prod_class_cols + top_correlated))[:20]\n",
    "else:\n",
    "    top_features = numeric_cols"
   ]
  },
  {
   "cell_type": "code",
   "execution_count": 44,
   "id": "ea4b7114-5449-4a58-a0a8-060abb2942de",
   "metadata": {},
   "outputs": [
    {
     "data": {
      "image/png": "[encoded data removed]",
      "text/plain": [
       "<Figure size 1400x1200 with 2 Axes>"
      ]
     },
     "metadata": {},
     "output_type": "display_data"
    }
   ],
   "source": [
    "# Create correlation heatmap\n",
    "plt.figure(figsize=(14, 12))\n",
    "sns.heatmap(correlation_matrix.loc[top_features, top_features], \n",
    "            annot=True, \n",
    "            cmap='coolwarm', \n",
    "            center=0,\n",
    "            vmin=-1,\n",
    "            vmax=1,\n",
    "            fmt='.2f')\n",
    "plt.title('Correlation Matrix of Key Features')\n",
    "plt.tight_layout()\n",
    "plt.show()"
   ]
  },
  {
   "cell_type": "markdown",
   "id": "da669381-3a7a-4726-be1c-fea7950a9974",
   "metadata": {},
   "source": [
    "# Step 8: Feature Selection"
   ]
  },
  {
   "cell_type": "code",
   "execution_count": 45,
   "id": "b508cd56-dbb8-4a59-9544-afd65dbe29d0",
   "metadata": {},
   "outputs": [],
   "source": [
    "# Identify highly correlated feature pairs to inform feature selection\n",
    "threshold = 0.8\n",
    "high_corr_pairs = []\n",
    "\n",
    "for i in range(len(correlation_matrix.columns)):\n",
    "    for j in range(i+1, len(correlation_matrix.columns)):\n",
    "        if abs(correlation_matrix.iloc[i, j]) > threshold:\n",
    "            high_corr_pairs.append(\n",
    "                (correlation_matrix.columns[i], \n",
    "                 correlation_matrix.columns[j], \n",
    "                 correlation_matrix.iloc[i, j])\n",
    "            )"
   ]
  },
  {
   "cell_type": "code",
   "execution_count": 46,
   "id": "0ef7ad64-cb87-4fd3-9d2e-60b0f800dd1e",
   "metadata": {},
   "outputs": [
    {
     "name": "stdout",
     "output_type": "stream",
     "text": [
      "\n",
      "Identified 8 highly correlated feature pairs (|r| > 0.8):\n",
      "  - Firm_Prop_Class_I and Firm_Prop_Class_II: r = -0.865\n",
      "  - Firm_Prop_Class_I and Distribution_Prop_Class_I: r = 0.845\n",
      "  - Distribution_Prop_Class_I and Distribution_Prop_Class_II: r = -0.861\n",
      "  - Distribution_Prop_Class_II and ProdClass_Class II: r = 0.803\n",
      "  - State_Prop_Class_I and State_Prop_Class_II: r = -0.942\n",
      "  - City_Class_I_Risk and City_Class_II_Risk: r = -0.890\n",
      "  - Region_Other and Is_US: r = -0.889\n",
      "  - Status_Ongoing and Status_Terminated: r = -0.933\n"
     ]
    }
   ],
   "source": [
    "# Display highly correlated pairs\n",
    "if high_corr_pairs:\n",
    "    print(f\"\\nIdentified {len(high_corr_pairs)} highly correlated feature pairs (|r| > {threshold}):\")\n",
    "    for col1, col2, corr in high_corr_pairs:\n",
    "        print(f\"  - {col1} and {col2}: r = {corr:.3f}\")\n",
    "else:\n",
    "    print(f\"\\nNo highly correlated feature pairs found (|r| > {threshold}).\")"
   ]
  },
  {
   "cell_type": "markdown",
   "id": "db4e2caf-3e8d-41d6-8ffb-6c97f4a0247f",
   "metadata": {},
   "source": [
    "1. Address dummy variable redundancy"
   ]
  },
  {
   "cell_type": "code",
   "execution_count": 47,
   "id": "c28f231b-e7d7-4986-9619-4031af8b9e26",
   "metadata": {},
   "outputs": [
    {
     "name": "stdout",
     "output_type": "stream",
     "text": [
      "\n",
      "From Status dummy variables: keeping Status_Ongoing, dropping ['Status_Terminated']\n",
      "\n",
      "From Region dummy variables: keeping Region_Other, dropping ['Is_US']\n"
     ]
    }
   ],
   "source": [
    "# For dummy variables derived from the same categorical feature, keep only one\n",
    "dummy_var_groups = {\n",
    "    'Status': ['Status_Ongoing', 'Status_Terminated'],\n",
    "    'Region': ['Region_Other', 'Is_US']\n",
    "}\n",
    "\n",
    "features_to_drop = []\n",
    "for group_name, group_vars in dummy_var_groups.items():\n",
    "    # Ensure all variables in the group exist in the dataframe\n",
    "    group_vars_in_df = [var for var in group_vars if var in df_processed.columns]\n",
    "    if len(group_vars_in_df) > 1:\n",
    "        # Keep first variable, drop others\n",
    "        features_to_drop.extend(group_vars_in_df[1:])\n",
    "        print(f\"\\nFrom {group_name} dummy variables: keeping {group_vars_in_df[0]}, dropping {group_vars_in_df[1:]}\")"
   ]
  },
  {
   "cell_type": "markdown",
   "id": "a3ac8f91-4299-409a-a5cd-732de9f8c7d1",
   "metadata": {},
   "source": [
    "2. Address proportion features with natural constraints"
   ]
  },
  {
   "cell_type": "code",
   "execution_count": 48,
   "id": "a2fb6d09-9e48-425f-94df-136bcc8efb20",
   "metadata": {},
   "outputs": [
    {
     "name": "stdout",
     "output_type": "stream",
     "text": [
      "\n",
      "From Firm_Prop proportions: keeping Firm_Prop_Class_I, dropping ['Firm_Prop_Class_II', 'Firm_Prop_Class_III']\n",
      "\n",
      "From Distribution_Prop proportions: keeping Distribution_Prop_Class_I, dropping ['Distribution_Prop_Class_II', 'Distribution_Prop_Class_III']\n",
      "\n",
      "From State_Prop proportions: keeping State_Prop_Class_I, dropping ['State_Prop_Class_II', 'State_Prop_Class_III']\n",
      "\n",
      "From City_Class_Risk proportions: keeping City_Class_I_Risk, dropping ['City_Class_II_Risk', 'City_Class_III_Risk']\n"
     ]
    }
   ],
   "source": [
    "# For each group of proportion features (by Class I, II, III), keep only Class I\n",
    "proportion_groups = {\n",
    "    'Firm_Prop': ['Firm_Prop_Class_I', 'Firm_Prop_Class_II', 'Firm_Prop_Class_III'],\n",
    "    'Distribution_Prop': ['Distribution_Prop_Class_I', 'Distribution_Prop_Class_II', 'Distribution_Prop_Class_III'],\n",
    "    'State_Prop': ['State_Prop_Class_I', 'State_Prop_Class_II', 'State_Prop_Class_III'],\n",
    "    'City_Class_Risk': ['City_Class_I_Risk', 'City_Class_II_Risk', 'City_Class_III_Risk']\n",
    "}\n",
    "\n",
    "for group_name, group_vars in proportion_groups.items():\n",
    "    # Ensure all variables in the group exist in the dataframe\n",
    "    group_vars_in_df = [var for var in group_vars if var in df_processed.columns]\n",
    "    if len(group_vars_in_df) > 1:\n",
    "        # Keep Class I proportion, drop others\n",
    "        class_i_var = next((var for var in group_vars_in_df if 'Class_I' in var), None)\n",
    "        if class_i_var:\n",
    "            to_drop = [var for var in group_vars_in_df if var != class_i_var]\n",
    "            features_to_drop.extend(to_drop)\n",
    "            print(f\"\\nFrom {group_name} proportions: keeping {class_i_var}, dropping {to_drop}\")\n",
    "        else:\n",
    "            print(f\"\\nNo Class I proportion found in {group_name} group: {group_vars_in_df}\")"
   ]
  },
  {
   "cell_type": "code",
   "execution_count": 49,
   "id": "15ab7ecf-aca7-4cf9-9903-a0750ed5064c",
   "metadata": {},
   "outputs": [],
   "source": [
    "# Remove duplicate entries and ensure all features exist\n",
    "features_to_drop = list(set(features_to_drop))\n",
    "features_to_drop = [f for f in features_to_drop if f in df_processed.columns]"
   ]
  },
  {
   "cell_type": "markdown",
   "id": "1f027935-2dcc-4193-9aa7-f4153fc2ffa7",
   "metadata": {},
   "source": [
    "3. Address remaining multicollinearity issues"
   ]
  },
  {
   "cell_type": "code",
   "execution_count": 50,
   "id": "69871ceb-8525-47d1-8bad-a6424f5d8f53",
   "metadata": {},
   "outputs": [
    {
     "name": "stdout",
     "output_type": "stream",
     "text": [
      "\n",
      "Evaluating cross-category correlations:\n",
      "  - Firm_Prop_Class_I and Distribution_Prop_Class_I: r = 0.845\n",
      "    Decision: Keep both features as they represent different domains\n",
      "  - Distribution_Prop_Class_II and ProdClass_Class II: r = 0.803\n"
     ]
    }
   ],
   "source": [
    "# Evaluate cross-category correlations\n",
    "cross_category_correlations = [\n",
    "    ('Firm_Prop_Class_I', 'Distribution_Prop_Class_I'),\n",
    "    ('Distribution_Prop_Class_II', 'ProdClass_Class II')\n",
    "]\n",
    "\n",
    "print(\"\\nEvaluating cross-category correlations:\")\n",
    "for col1, col2 in cross_category_correlations:\n",
    "    if col1 in df_processed.columns and col2 in df_processed.columns:\n",
    "        # Check if both exist before calculating correlation\n",
    "        corr_value = df_processed[[col1, col2]].corr().iloc[0, 1]\n",
    "        print(f\"  - {col1} and {col2}: r = {corr_value:.3f}\")\n",
    "        \n",
    "        # Make decision based on domain knowledge\n",
    "        if col1 == 'Distribution_Prop_Class_II' and col2 == 'ProdClass_Class II':\n",
    "            # Possible data leakage or redundancy - remove Distribution_Prop feature\n",
    "            if 'Distribution_Prop_Class_II' not in features_to_drop and 'Distribution_Prop_Class_II' in df_processed.columns:\n",
    "                features_to_drop.append('Distribution_Prop_Class_II')\n",
    "                print(f\"    Decision: Drop {col1} to avoid potential data leakage\")\n",
    "        elif col1 == 'Firm_Prop_Class_I' and col2 == 'Distribution_Prop_Class_I':\n",
    "            # Keep both as they represent different domains despite correlation\n",
    "            print(\"    Decision: Keep both features as they represent different domains\")"
   ]
  },
  {
   "cell_type": "markdown",
   "id": "e5da78d3-5c52-4377-8871-06b8cc28de5f",
   "metadata": {},
   "source": [
    "4. Apply Variance Thresholding to remove low-variance features"
   ]
  },
  {
   "cell_type": "code",
   "execution_count": 51,
   "id": "90ca8de3-4291-43cd-8dbc-f298ca8aeb75",
   "metadata": {},
   "outputs": [],
   "source": [
    "# identify categorical columns to exclude\n",
    "categorical_columns = [col for col in df_processed.columns if col.startswith(('ProdClass_', 'ProductType_', 'Status_', 'FirmSize_', 'CitySize_', 'Region_'))]"
   ]
  },
  {
   "cell_type": "code",
   "execution_count": 52,
   "id": "23af9b9f-1a46-48fb-bcb0-194277d3b68d",
   "metadata": {},
   "outputs": [],
   "source": [
    "# Create a copy of the dataframe with numeric features (exclude categorical columns)\n",
    "variance_df = df_processed.drop(columns=categorical_columns + ['Product Classification', 'Event Classification'])\n",
    "numeric_cols = variance_df.select_dtypes(include=['number']).columns.tolist()"
   ]
  },
  {
   "cell_type": "code",
   "execution_count": 53,
   "id": "75edfa9e-802e-4616-9e80-35d078af287e",
   "metadata": {},
   "outputs": [
    {
     "name": "stdout",
     "output_type": "stream",
     "text": [
      "\n",
      "Identified 1 low-variance features (variance <= 0.01):\n",
      "  - State_Prop_Class_III: variance = 0.001283\n"
     ]
    }
   ],
   "source": [
    "# Apply variance threshold for numeric cols\n",
    "if numeric_cols:\n",
    "    # Set a low threshold to only remove constant or near-constant features\n",
    "    var_threshold = 0.01\n",
    "    selector = VarianceThreshold(threshold=var_threshold)\n",
    "    \n",
    "    try:\n",
    "        # Fit the selector to find low-variance features\n",
    "        selector.fit(variance_df[numeric_cols])\n",
    "        \n",
    "        # Get features to keep\n",
    "        low_variance_features = [numeric_cols[i] for i, variance in enumerate(selector.variances_) if variance <= var_threshold]\n",
    "        \n",
    "        if low_variance_features:\n",
    "            print(f\"\\nIdentified {len(low_variance_features)} low-variance features (variance <= {var_threshold}):\")\n",
    "            for feature in low_variance_features:\n",
    "                print(f\"  - {feature}: variance = {selector.variances_[numeric_cols.index(feature)]:.6f}\")\n",
    "                if feature not in features_to_drop and feature in df_processed.columns:\n",
    "                    features_to_drop.append(feature)\n",
    "        else:\n",
    "            print(f\"\\nNo low-variance features found (threshold: {var_threshold})\")\n",
    "    except Exception as e:\n",
    "        print(f\"Error in variance thresholding: {e}\")\n",
    "        print(\"Skipping variance-based feature selection\")"
   ]
  },
  {
   "cell_type": "markdown",
   "id": "dc685755-5148-46cd-b944-d8daa9fb0dad",
   "metadata": {},
   "source": [
    "5. Drop the selected features to reduce multicollinearity and remove uninformative features\""
   ]
  },
  {
   "cell_type": "code",
   "execution_count": 54,
   "id": "8abf8fe2-a09a-4b48-bd4c-a4a6571758ad",
   "metadata": {},
   "outputs": [],
   "source": [
    "df_processed_reduced = df_processed.drop(columns=features_to_drop)"
   ]
  },
  {
   "cell_type": "code",
   "execution_count": 55,
   "id": "67ca4d9c-cfba-4c8d-a243-950be97a33f0",
   "metadata": {},
   "outputs": [
    {
     "name": "stdout",
     "output_type": "stream",
     "text": [
      "\n",
      "Dimension reduction summary:\n",
      "  - Original shape: (95082, 63)\n",
      "  - Reduced shape: (95082, 53)\n",
      "  - Features removed: 10\n"
     ]
    }
   ],
   "source": [
    "# Show dimension reduction results\n",
    "print(f\"\\nDimension reduction summary:\")\n",
    "print(f\"  - Original shape: {df_processed.shape}\")\n",
    "print(f\"  - Reduced shape: {df_processed_reduced.shape}\")\n",
    "print(f\"  - Features removed: {len(features_to_drop)}\")"
   ]
  },
  {
   "cell_type": "code",
   "execution_count": 56,
   "id": "379eb007-fb6a-4149-9c71-3a7b1122b90d",
   "metadata": {},
   "outputs": [],
   "source": [
    "# Update df_processed to use the reduced feature set\n",
    "df_processed = df_processed_reduced"
   ]
  },
  {
   "cell_type": "markdown",
   "id": "c9c89f8c-969b-4640-b575-e47fbba94510",
   "metadata": {},
   "source": [
    "# Step 9: FINAL CLEANUP SECTION - Drop all original columns now that feature engineering is complete"
   ]
  },
  {
   "cell_type": "code",
   "execution_count": 57,
   "id": "f748454e-bdce-45de-aa7a-a9ea17717f4a",
   "metadata": {},
   "outputs": [],
   "source": [
    "product_class_dummies = pd.get_dummies(df_processed['Product Classification'], prefix='ProdClass')\n",
    "df_processed = pd.concat([df_processed, product_class_dummies], axis=1)"
   ]
  },
  {
   "cell_type": "code",
   "execution_count": 58,
   "id": "413830dd-28d9-42d1-b150-92d746e789d2",
   "metadata": {},
   "outputs": [
    {
     "name": "stdout",
     "output_type": "stream",
     "text": [
      "\n",
      "Cleaned up original and intermediate columns:\n",
      "Dropped columns: ['FEI Number', 'Event ID', 'Product ID', 'Recall Details', 'Center', 'Center Classification Date', 'Recalling Firm Name', 'Distribution Pattern', 'Recalling Firm City', 'Recalling Firm State', 'Recalling Firm Country', 'Product Type', 'Status', 'Reason for Recall', 'Product Description', 'Product Classification', 'Region', 'Firm_Size_Category', 'City_Size_Category']\n",
      "Final dataset shape: (95082, 37)\n"
     ]
    }
   ],
   "source": [
    "# Identify original columns to drop\n",
    "original_cols_to_drop = [\n",
    "    # ID variables\n",
    "    \"FEI Number\", \"Event ID\", \"Product ID\", \"Recall Details\",\n",
    "    # Original columns that have been transformed\n",
    "    \"Center\", \"Center Classification Date\",\n",
    "    \"Recalling Firm Name\", \"Distribution Pattern\",\n",
    "    \"Recalling Firm City\", \"Recalling Firm State\", \"Recalling Firm Country\",\n",
    "    \"Product Type\", \"Status\",\n",
    "    # Text columns that will be processed separately for the hybrid dataset\n",
    "    \"Reason for Recall\", \"Product Description\",\n",
    "    # Original categorical column now fully dummy encoded\n",
    "    \"Product Classification\",\n",
    "    # Intermediate columns\n",
    "    \"Region\", \"Firm_Size_Category\", \"City_Size_Category\"\n",
    "]\n",
    "\n",
    "# Filter to only include columns that exist\n",
    "cols_to_drop = [col for col in original_cols_to_drop if col in df_processed.columns]\n",
    "\n",
    "# Drop the columns\n",
    "df_processed = df_processed.drop(columns=cols_to_drop)\n",
    "\n",
    "print(\"\\nCleaned up original and intermediate columns:\")\n",
    "print(f\"Dropped columns: {cols_to_drop}\")\n",
    "print(f\"Final dataset shape: {df_processed.shape}\")"
   ]
  },
  {
   "cell_type": "code",
   "execution_count": 59,
   "id": "d2a8fce6-16b1-4ae1-8b7f-f98b28755513",
   "metadata": {},
   "outputs": [],
   "source": [
    "df_processed_baseline = df_processed.copy()"
   ]
  },
  {
   "cell_type": "code",
   "execution_count": 60,
   "id": "33b4f26e-c44f-4392-8f99-67fa5133ce4b",
   "metadata": {},
   "outputs": [
    {
     "name": "stdout",
     "output_type": "stream",
     "text": [
      "\n",
      "Baseline dataset shape: (95082, 37)\n",
      "\n",
      "Hybrid dataset columns:\n",
      "['Event Classification', 'Classification Year', 'Classification Month', 'Classification Day', 'Classification DayOfWeek', 'Firm_Recall_Count', 'Firm_Prop_Class_I', 'Distribution_Pattern_Count', 'Distribution_Prop_Class_I', 'State_Recall_Count', 'State_Prop_Class_I', 'City_Recall_Count', 'City_Class_I_Risk', 'Region_Midwest', 'Region_Northeast', 'Region_Other', 'Region_South', 'Region_West', 'ProdClass_Class II', 'ProdClass_Class III', 'ProductType_Devices', 'ProductType_Drugs', 'ProductType_Food/Cosmetics', 'ProductType_Tobacco', 'ProductType_Veterinary', 'Status_Ongoing', 'FirmSize_Low Volume', 'FirmSize_Medium Volume', 'FirmSize_Very High Volume', 'FirmSize_Very Low Volume', 'CitySize_Medium', 'CitySize_Small', 'CitySize_Very Large', 'CitySize_Very Small', 'ProdClass_Class I', 'ProdClass_Class II', 'ProdClass_Class III']\n"
     ]
    }
   ],
   "source": [
    "# Shape\n",
    "print(f\"\\nBaseline dataset shape: {df_processed_baseline.shape}\")\n",
    "\n",
    "# Preview Baseline dataset columns\n",
    "print(\"\\nHybrid dataset columns:\")\n",
    "print(df_processed_baseline.columns.tolist())"
   ]
  },
  {
   "cell_type": "code",
   "execution_count": 61,
   "id": "1f3f32ac-3b7b-421b-b807-9347fda12f29",
   "metadata": {},
   "outputs": [
    {
     "name": "stdout",
     "output_type": "stream",
     "text": [
      "\n",
      "Processed dataset saved to '../data/processed_recalls_data_baseline.csv'\n"
     ]
    }
   ],
   "source": [
    "# Save baseline dataset\n",
    "df_processed_baseline.to_csv('../data/processed_recalls_data_baseline.csv', index=False)\n",
    "print(\"\\nProcessed dataset saved to '../data/processed_recalls_data_baseline.csv'\")"
   ]
  },
  {
   "cell_type": "markdown",
   "id": "c758af78-0da7-4dec-9815-2d017778f995",
   "metadata": {},
   "source": [
    "# Step 10: Advanced Text Feature Extraction for 'Reason for Recall' and 'Product Description'"
   ]
  },
  {
   "cell_type": "code",
   "execution_count": 62,
   "id": "b515cd96-e263-4976-93f7-4faba32ead2c",
   "metadata": {},
   "outputs": [],
   "source": [
    "df_processed_text = df.copy()"
   ]
  },
  {
   "cell_type": "code",
   "execution_count": 63,
   "id": "63ae9abd-26d7-4c4e-8bf7-163826817531",
   "metadata": {},
   "outputs": [],
   "source": [
    "# Text cleaning function\n",
    "def text_cleaner(text):\n",
    "    if not isinstance(text, str):\n",
    "        return \"\"\n",
    "        \n",
    "    # Convert to lowercase and remove special characters\n",
    "    text = re.sub(r'[^\\w\\s]', ' ', str(text).lower())\n",
    "    \n",
    "    # Remove numbers but keep important regulatory codes intact\n",
    "    text = re.sub(r'\\b\\d+\\b(?!\\s*cfr|\\s*usc|\\s*fda)', ' ', text)\n",
    "    \n",
    "    # Remove extra whitespace\n",
    "    text = re.sub(r'\\s+', ' ', text).strip()\n",
    "    # Remove control characters and encoding artifacts\n",
    "    text = re.sub(r'\\*x[0-9a-f]{4}\\*', ' ', text)\n",
    "    text = re.sub(r'[\\x00-\\x1F\\x7F-\\x9F]', ' ', text)\n",
    "    \n",
    "    # Normalize common terms\n",
    "    text = re.sub(r'\\b(upc|sku|item|code|number)s?\\b', 'product_code', text.lower())\n",
    "    text = re.sub(r'\\b(possible|potential|may|might|could)\\b', 'potential', text)\n",
    "    \n",
    "    # Group measurement units (optional - remove if not relevant)\n",
    "    text = re.sub(r'\\b\\d+\\s*(oz|ml|mg|g)\\b', 'quantity_measure', text)\n",
    "    \n",
    "    # Remove FDA-specific stopwords in addition to standard ones\n",
    "    try:\n",
    "        stop_words = set(stopwords.words('english'))\n",
    "    except:\n",
    "        stop_words = english_stopwords\n",
    "        \n",
    "    fda_stopwords = {'recalled', 'recalling', 'firm', 'product', 'products', 'recall', \n",
    "                     'various', 'due', 'manufactured'}\n",
    "    all_stopwords = stop_words.union(fda_stopwords)\n",
    "    \n",
    "    tokens = text.split()\n",
    "    filtered_tokens = [w for w in tokens if w not in all_stopwords]\n",
    "    \n",
    "    return ' '.join(filtered_tokens)"
   ]
  },
  {
   "cell_type": "code",
   "execution_count": 75,
   "id": "81e24719-d4b9-431d-99f5-9dee66e2e835",
   "metadata": {},
   "outputs": [],
   "source": [
    "# Apply the cleaning function\n",
    "df_processed_text['reason_cleaned'] = df_processed_text['Reason for Recall'].apply(text_cleaner)\n",
    "df_processed_text['description_cleaned'] = df_processed_text['Product Description'].apply(text_cleaner)"
   ]
  },
  {
   "cell_type": "code",
   "execution_count": 76,
   "id": "2a0ae844-8b96-4a08-84da-11c309f5e7a4",
   "metadata": {},
   "outputs": [],
   "source": [
    "# Combine both text fields with different weights\n",
    "df_processed_text['combined_text'] = df_processed_text['reason_cleaned'] + ' ' + df_processed_text['description_cleaned']"
   ]
  },
  {
   "cell_type": "code",
   "execution_count": 77,
   "id": "b026a40e-2f98-4ca1-98a2-b65eefbda621",
   "metadata": {},
   "outputs": [],
   "source": [
    "# Apply TF-IDF transformation\n",
    "tfidf_matrix = tfidf_vectorizer.fit_transform(df_processed_text['combined_text'])"
   ]
  },
  {
   "cell_type": "code",
   "execution_count": 78,
   "id": "c2dafb74-2808-47e9-8d09-2822d7f97b28",
   "metadata": {},
   "outputs": [
    {
     "name": "stdout",
     "output_type": "stream",
     "text": [
      "Number of TF-IDF features created: 5000\n"
     ]
    }
   ],
   "source": [
    "# Get the most important features for interpretability\n",
    "feature_names = tfidf_vectorizer.get_feature_names_out()\n",
    "print(f\"Number of TF-IDF features created: {len(feature_names)}\")"
   ]
  },
  {
   "cell_type": "code",
   "execution_count": 79,
   "id": "b5712c0e-aec1-495c-8f87-accd8608cc50",
   "metadata": {},
   "outputs": [
    {
     "name": "stdout",
     "output_type": "stream",
     "text": [
      "  _x000d_: 3495.27\n",
      "  product_code: 2750.71\n",
      "  potential: 2676.18\n",
      "  blood: 2313.90\n",
      "  distributed: 2091.84\n",
      "  _x000d_ _x000d_: 1958.80\n",
      "  oz: 1629.56\n",
      "  quantity_measure: 1587.05\n",
      "  ml: 1466.84\n",
      "  donor: 1319.70\n",
      "  inc: 1197.64\n",
      "  system: 1185.05\n",
      "  sterility: 1172.92\n",
      "  rx: 1165.25\n",
      "  ndc: 1164.09\n",
      "  use: 1158.53\n",
      "  red: 1147.64\n",
      "  reduced: 1146.81\n",
      "  net: 1112.10\n",
      "  collected: 1103.72\n"
     ]
    }
   ],
   "source": [
    "# Calculate feature importance by summing TF-IDF values across documents\n",
    "feature_importance = tfidf_matrix.sum(axis=0).A1\n",
    "top_indices = feature_importance.argsort()[-20:][::-1]\n",
    "top_features = [(feature_names[i], feature_importance[i]) for i in top_indices]\n",
    "for feature, importance in top_features:\n",
    "    print(f\"  {feature}: {importance:.2f}\")"
   ]
  },
  {
   "cell_type": "code",
   "execution_count": 80,
   "id": "b0ba1196-90ed-4171-91cd-960cdb8bc314",
   "metadata": {},
   "outputs": [],
   "source": [
    "# Apply dimensionality reduction\n",
    "n_components = min(300, tfidf_matrix.shape[1] - 1)  # Ensure valid number of components\n",
    "svd = TruncatedSVD(n_components=n_components, random_state=42)\n",
    "tfidf_svd = svd.fit_transform(tfidf_matrix)"
   ]
  },
  {
   "cell_type": "code",
   "execution_count": 81,
   "id": "6ef701cf-7917-445c-99d2-2ea719cc5d56",
   "metadata": {},
   "outputs": [
    {
     "name": "stdout",
     "output_type": "stream",
     "text": [
      "Explained variance from 300 SVD components: 0.48\n"
     ]
    }
   ],
   "source": [
    "# Calculate explained variance\n",
    "explained_var = svd.explained_variance_ratio_.sum()\n",
    "print(f\"Explained variance from {n_components} SVD components: {explained_var:.2f}\")"
   ]
  },
  {
   "cell_type": "code",
   "execution_count": 82,
   "id": "c404414d-13b6-4b9d-bf06-84e40ac1d261",
   "metadata": {},
   "outputs": [],
   "source": [
    "# Create DataFrame with the reduced features\n",
    "text_features_df = pd.DataFrame(\n",
    "    tfidf_svd, \n",
    "    columns=[f'text_svd_{i}' for i in range(n_components)]\n",
    ")"
   ]
  },
  {
   "cell_type": "code",
   "execution_count": 83,
   "id": "c52393d3-bc84-4e50-9b76-fb8cbb188d23",
   "metadata": {},
   "outputs": [],
   "source": [
    "# Transfer the 'Event Classification' column to text_features_df for class-specific processing\n",
    "text_features_df['Event Classification'] = df_processed_text['Event Classification']"
   ]
  },
  {
   "cell_type": "code",
   "execution_count": 84,
   "id": "f1b41b72-78cb-4494-8fad-bbb63347af8d",
   "metadata": {},
   "outputs": [],
   "source": [
    "# Add the combined_text column to text_features_df\n",
    "text_features_df['combined_text'] = df_processed_text['combined_text']"
   ]
  },
  {
   "cell_type": "code",
   "execution_count": 85,
   "id": "bf881e0b-f24c-461e-a1ed-5fc635a8a919",
   "metadata": {},
   "outputs": [],
   "source": [
    "# Create class-specific text features\n",
    "for event_class in text_features_df['Event Classification'].unique():\n",
    "    class_idx = text_features_df['Event Classification'] == event_class\n",
    "    class_freq = text_features_df[class_idx]['combined_text'].str.split().explode().value_counts().head(50)\n",
    "    class_specific_terms = set(class_freq.index)\n",
    "    \n",
    "    # Create a binary feature for presence of class-specific terms\n",
    "    text_features_df[f'has_{event_class.replace(\" \", \"_\")}_terms'] = text_features_df['combined_text'].apply(\n",
    "        lambda x: any(term in str(x).split() for term in class_specific_terms)\n",
    "    ).astype(int)"
   ]
  },
  {
   "cell_type": "code",
   "execution_count": 86,
   "id": "c122d341-4799-4aa2-8b21-4367d03c0329",
   "metadata": {},
   "outputs": [],
   "source": [
    "# Remove the temporary columns used for processing\n",
    "text_features_df = text_features_df.drop(columns=['Event Classification', 'combined_text'])"
   ]
  },
  {
   "cell_type": "code",
   "execution_count": 87,
   "id": "5aab1293-da71-41a0-885e-a003bce69ed1",
   "metadata": {},
   "outputs": [],
   "source": [
    "# Add the text features to the processed dataframe\n",
    "df_processed_hybrid = pd.concat([df_processed_baseline, text_features_df], axis=1)"
   ]
  },
  {
   "cell_type": "code",
   "execution_count": 89,
   "id": "490ee003-3b22-4564-8736-c81091ce706c",
   "metadata": {},
   "outputs": [
    {
     "name": "stdout",
     "output_type": "stream",
     "text": [
      "\n",
      "Hybrid dataset shape: (95082, 340)\n",
      "\n",
      "Hybrid dataset columns:\n",
      "['Event Classification', 'Classification Year', 'Classification Month', 'Classification Day', 'Classification DayOfWeek', 'Firm_Recall_Count', 'Firm_Prop_Class_I', 'Distribution_Pattern_Count', 'Distribution_Prop_Class_I', 'State_Recall_Count', 'State_Prop_Class_I', 'City_Recall_Count', 'City_Class_I_Risk', 'Region_Midwest', 'Region_Northeast', 'Region_Other', 'Region_South', 'Region_West', 'ProdClass_Class II', 'ProdClass_Class III', 'ProductType_Devices', 'ProductType_Drugs', 'ProductType_Food/Cosmetics', 'ProductType_Tobacco', 'ProductType_Veterinary', 'Status_Ongoing', 'FirmSize_Low Volume', 'FirmSize_Medium Volume', 'FirmSize_Very High Volume', 'FirmSize_Very Low Volume', 'CitySize_Medium', 'CitySize_Small', 'CitySize_Very Large', 'CitySize_Very Small', 'ProdClass_Class I', 'ProdClass_Class II', 'ProdClass_Class III', 'text_svd_0', 'text_svd_1', 'text_svd_2', 'text_svd_3', 'text_svd_4', 'text_svd_5', 'text_svd_6', 'text_svd_7', 'text_svd_8', 'text_svd_9', 'text_svd_10', 'text_svd_11', 'text_svd_12', 'text_svd_13', 'text_svd_14', 'text_svd_15', 'text_svd_16', 'text_svd_17', 'text_svd_18', 'text_svd_19', 'text_svd_20', 'text_svd_21', 'text_svd_22', 'text_svd_23', 'text_svd_24', 'text_svd_25', 'text_svd_26', 'text_svd_27', 'text_svd_28', 'text_svd_29', 'text_svd_30', 'text_svd_31', 'text_svd_32', 'text_svd_33', 'text_svd_34', 'text_svd_35', 'text_svd_36', 'text_svd_37', 'text_svd_38', 'text_svd_39', 'text_svd_40', 'text_svd_41', 'text_svd_42', 'text_svd_43', 'text_svd_44', 'text_svd_45', 'text_svd_46', 'text_svd_47', 'text_svd_48', 'text_svd_49', 'text_svd_50', 'text_svd_51', 'text_svd_52', 'text_svd_53', 'text_svd_54', 'text_svd_55', 'text_svd_56', 'text_svd_57', 'text_svd_58', 'text_svd_59', 'text_svd_60', 'text_svd_61', 'text_svd_62', 'text_svd_63', 'text_svd_64', 'text_svd_65', 'text_svd_66', 'text_svd_67', 'text_svd_68', 'text_svd_69', 'text_svd_70', 'text_svd_71', 'text_svd_72', 'text_svd_73', 'text_svd_74', 'text_svd_75', 'text_svd_76', 'text_svd_77', 'text_svd_78', 'text_svd_79', 'text_svd_80', 'text_svd_81', 'text_svd_82', 'text_svd_83', 'text_svd_84', 'text_svd_85', 'text_svd_86', 'text_svd_87', 'text_svd_88', 'text_svd_89', 'text_svd_90', 'text_svd_91', 'text_svd_92', 'text_svd_93', 'text_svd_94', 'text_svd_95', 'text_svd_96', 'text_svd_97', 'text_svd_98', 'text_svd_99', 'text_svd_100', 'text_svd_101', 'text_svd_102', 'text_svd_103', 'text_svd_104', 'text_svd_105', 'text_svd_106', 'text_svd_107', 'text_svd_108', 'text_svd_109', 'text_svd_110', 'text_svd_111', 'text_svd_112', 'text_svd_113', 'text_svd_114', 'text_svd_115', 'text_svd_116', 'text_svd_117', 'text_svd_118', 'text_svd_119', 'text_svd_120', 'text_svd_121', 'text_svd_122', 'text_svd_123', 'text_svd_124', 'text_svd_125', 'text_svd_126', 'text_svd_127', 'text_svd_128', 'text_svd_129', 'text_svd_130', 'text_svd_131', 'text_svd_132', 'text_svd_133', 'text_svd_134', 'text_svd_135', 'text_svd_136', 'text_svd_137', 'text_svd_138', 'text_svd_139', 'text_svd_140', 'text_svd_141', 'text_svd_142', 'text_svd_143', 'text_svd_144', 'text_svd_145', 'text_svd_146', 'text_svd_147', 'text_svd_148', 'text_svd_149', 'text_svd_150', 'text_svd_151', 'text_svd_152', 'text_svd_153', 'text_svd_154', 'text_svd_155', 'text_svd_156', 'text_svd_157', 'text_svd_158', 'text_svd_159', 'text_svd_160', 'text_svd_161', 'text_svd_162', 'text_svd_163', 'text_svd_164', 'text_svd_165', 'text_svd_166', 'text_svd_167', 'text_svd_168', 'text_svd_169', 'text_svd_170', 'text_svd_171', 'text_svd_172', 'text_svd_173', 'text_svd_174', 'text_svd_175', 'text_svd_176', 'text_svd_177', 'text_svd_178', 'text_svd_179', 'text_svd_180', 'text_svd_181', 'text_svd_182', 'text_svd_183', 'text_svd_184', 'text_svd_185', 'text_svd_186', 'text_svd_187', 'text_svd_188', 'text_svd_189', 'text_svd_190', 'text_svd_191', 'text_svd_192', 'text_svd_193', 'text_svd_194', 'text_svd_195', 'text_svd_196', 'text_svd_197', 'text_svd_198', 'text_svd_199', 'text_svd_200', 'text_svd_201', 'text_svd_202', 'text_svd_203', 'text_svd_204', 'text_svd_205', 'text_svd_206', 'text_svd_207', 'text_svd_208', 'text_svd_209', 'text_svd_210', 'text_svd_211', 'text_svd_212', 'text_svd_213', 'text_svd_214', 'text_svd_215', 'text_svd_216', 'text_svd_217', 'text_svd_218', 'text_svd_219', 'text_svd_220', 'text_svd_221', 'text_svd_222', 'text_svd_223', 'text_svd_224', 'text_svd_225', 'text_svd_226', 'text_svd_227', 'text_svd_228', 'text_svd_229', 'text_svd_230', 'text_svd_231', 'text_svd_232', 'text_svd_233', 'text_svd_234', 'text_svd_235', 'text_svd_236', 'text_svd_237', 'text_svd_238', 'text_svd_239', 'text_svd_240', 'text_svd_241', 'text_svd_242', 'text_svd_243', 'text_svd_244', 'text_svd_245', 'text_svd_246', 'text_svd_247', 'text_svd_248', 'text_svd_249', 'text_svd_250', 'text_svd_251', 'text_svd_252', 'text_svd_253', 'text_svd_254', 'text_svd_255', 'text_svd_256', 'text_svd_257', 'text_svd_258', 'text_svd_259', 'text_svd_260', 'text_svd_261', 'text_svd_262', 'text_svd_263', 'text_svd_264', 'text_svd_265', 'text_svd_266', 'text_svd_267', 'text_svd_268', 'text_svd_269', 'text_svd_270', 'text_svd_271', 'text_svd_272', 'text_svd_273', 'text_svd_274', 'text_svd_275', 'text_svd_276', 'text_svd_277', 'text_svd_278', 'text_svd_279', 'text_svd_280', 'text_svd_281', 'text_svd_282', 'text_svd_283', 'text_svd_284', 'text_svd_285', 'text_svd_286', 'text_svd_287', 'text_svd_288', 'text_svd_289', 'text_svd_290', 'text_svd_291', 'text_svd_292', 'text_svd_293', 'text_svd_294', 'text_svd_295', 'text_svd_296', 'text_svd_297', 'text_svd_298', 'text_svd_299', 'has_Class_I_terms', 'has_Class_II_terms', 'has_Class_III_terms']\n"
     ]
    }
   ],
   "source": [
    "# Shape\n",
    "print(f\"\\nHybrid dataset shape: {df_processed_hybrid.shape}\")\n",
    "\n",
    "# Preview Hybrid dataset columns\n",
    "print(\"\\nHybrid dataset columns:\")\n",
    "print(df_processed_hybrid.columns.tolist())"
   ]
  },
  {
   "cell_type": "code",
   "execution_count": 90,
   "id": "cc029b7c-fb97-49c2-b901-763da611d0ed",
   "metadata": {},
   "outputs": [
    {
     "name": "stdout",
     "output_type": "stream",
     "text": [
      "\n",
      "Hybrid dataset saved to '../data/processed_recalls_data_hybrid.csv'\n"
     ]
    }
   ],
   "source": [
    "# Save hybrid dataset\n",
    "df_processed_hybrid.to_csv('../data/processed_recalls_data_hybrid.csv', index=False)\n",
    "print(\"\\nHybrid dataset saved to '../data/processed_recalls_data_hybrid.csv'\")"
   ]
  }
 ],
 "metadata": {
  "kernelspec": {
   "display_name": "Python 3 (ipykernel)",
   "language": "python",
   "name": "python3"
  },
  "language_info": {
   "codemirror_mode": {
    "name": "ipython",
    "version": 3
   },
   "file_extension": ".py",
   "mimetype": "text/x-python",
   "name": "python",
   "nbconvert_exporter": "python",
   "pygments_lexer": "ipython3",
   "version": "3.9.19"
  }
 },
 "nbformat": 4,
 "nbformat_minor": 5
}
